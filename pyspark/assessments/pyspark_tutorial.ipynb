{
 "cells": [
  {
   "cell_type": "markdown",
   "id": "93ac25eb-c205-4706-b0bb-8592d7534843",
   "metadata": {},
   "source": [
    "## Creating a RDD using spark.createDataFrame"
   ]
  },
  {
   "cell_type": "code",
   "execution_count": 1,
   "id": "initial_id",
   "metadata": {
    "ExecuteTime": {
     "end_time": "2024-02-03T20:44:02.617849300Z",
     "start_time": "2024-02-03T20:43:37.969962200Z"
    }
   },
   "outputs": [
    {
     "name": "stdout",
     "output_type": "stream",
     "text": [
      "root\n",
      " |-- firstName: string (nullable = true)\n",
      " |-- middleName: string (nullable = true)\n",
      " |-- lastName: string (nullable = true)\n",
      " |-- dob: string (nullable = true)\n",
      " |-- gender: string (nullable = true)\n",
      " |-- salary: long (nullable = true)\n",
      "\n",
      "+---------+----------+--------+----------+------+------+\n",
      "|firstName|middleName|lastName|       dob|gender|salary|\n",
      "+---------+----------+--------+----------+------+------+\n",
      "|    James|          |   Smith|1991-04-01|     M|  3000|\n",
      "+---------+----------+--------+----------+------+------+\n",
      "\n"
     ]
    }
   ],
   "source": [
    "# very important step\n",
    "import findspark\n",
    "findspark.init()\n",
    "from pyspark.sql import SparkSession\n",
    "from pyspark import SparkContext\n",
    "spark = SparkSession.builder.appName(\"practice\").getOrCreate()\n",
    "\n",
    "data = [\n",
    "('James','','Smith','1991-04-01','M',3000)        \n",
    "]\n",
    "\n",
    "columns = [\"firstName\", \"middleName\", \"lastName\", \"dob\", \"gender\", \"salary\"]\n",
    "\n",
    "df = spark.createDataFrame(data=data, schema=columns)\n",
    "df.printSchema()\n",
    "df.show()"
   ]
  },
  {
   "cell_type": "markdown",
   "id": "fc1f4fb6-816c-4783-bc90-584cf73936c4",
   "metadata": {},
   "source": [
    "# Creating a RDD using spark.read.csv"
   ]
  },
  {
   "cell_type": "code",
   "execution_count": 2,
   "id": "091b72ee",
   "metadata": {},
   "outputs": [
    {
     "name": "stdout",
     "output_type": "stream",
     "text": [
      "+----------+-------+------+--------+\n",
      "|      Date|Product|Amount|Customer|\n",
      "+----------+-------+------+--------+\n",
      "|2022-01-01| Apples|   100|    John|\n",
      "|2022-01-01|Oranges|   150|   Alice|\n",
      "|2022-01-02|Bananas|    80|     Bob|\n",
      "|2022-01-02| Apples|   120|     Eve|\n",
      "+----------+-------+------+--------+\n",
      "\n",
      "root\n",
      " |-- Date: date (nullable = true)\n",
      " |-- Product: string (nullable = true)\n",
      " |-- Amount: integer (nullable = true)\n",
      " |-- Customer: string (nullable = true)\n",
      "\n"
     ]
    },
    {
     "data": {
      "text/plain": [
       "[Row(Date=datetime.date(2022, 1, 1), Product='Apples', Amount=100, Customer='John'),\n",
       " Row(Date=datetime.date(2022, 1, 1), Product='Oranges', Amount=150, Customer='Alice'),\n",
       " Row(Date=datetime.date(2022, 1, 2), Product='Bananas', Amount=80, Customer='Bob'),\n",
       " Row(Date=datetime.date(2022, 1, 2), Product='Apples', Amount=120, Customer='Eve')]"
      ]
     },
     "execution_count": 2,
     "metadata": {},
     "output_type": "execute_result"
    }
   ],
   "source": [
    "df2 = spark.read.csv('new_sales_data.csv', header=True, inferSchema=True)\n",
    "df2.show()\n",
    "df2.printSchema()\n",
    "df2.collect()"
   ]
  },
  {
   "cell_type": "markdown",
   "id": "0eaa4d02-bba8-4b07-a494-3761e7197f5e",
   "metadata": {},
   "source": [
    "## Creating a RDD using sparkContext.parallelize()"
   ]
  },
  {
   "cell_type": "code",
   "execution_count": 3,
   "id": "3fe878a6",
   "metadata": {},
   "outputs": [],
   "source": [
    "dataList = [('Java',1000),('Python',20000),('Scala',24004)]\n",
    "rdd1= spark.sparkContext.parallelize(dataList).toDF(['Language', 'Cost'])"
   ]
  },
  {
   "cell_type": "code",
   "execution_count": 4,
   "id": "0ec0313d-7e5f-4bd2-ae43-c35e61a0bf06",
   "metadata": {},
   "outputs": [
    {
     "name": "stdout",
     "output_type": "stream",
     "text": [
      "+--------+-----+\n",
      "|Language| Cost|\n",
      "+--------+-----+\n",
      "|    Java| 1000|\n",
      "|  Python|20000|\n",
      "|   Scala|24004|\n",
      "+--------+-----+\n",
      "\n"
     ]
    }
   ],
   "source": [
    "rdd1.show()"
   ]
  },
  {
   "cell_type": "code",
   "execution_count": 5,
   "id": "276b46c7-5d3f-4dd1-a65b-22aad9c6831b",
   "metadata": {},
   "outputs": [
    {
     "data": {
      "text/plain": [
       "[Row(Language='Java', Cost=1000),\n",
       " Row(Language='Python', Cost=20000),\n",
       " Row(Language='Scala', Cost=24004)]"
      ]
     },
     "execution_count": 5,
     "metadata": {},
     "output_type": "execute_result"
    }
   ],
   "source": [
    "rdd1.collect()"
   ]
  },
  {
   "cell_type": "markdown",
   "id": "da1409e9-8134-4d46-b231-e17f5fd01996",
   "metadata": {},
   "source": [
    "## Creating RDD using SparkContext.textFile"
   ]
  },
  {
   "cell_type": "code",
   "execution_count": 6,
   "id": "71e6e9a2-3914-4628-ba31-e74aca8ede71",
   "metadata": {},
   "outputs": [
    {
     "name": "stdout",
     "output_type": "stream",
     "text": [
      "Row(value=\"'Name','Amount'\")\n",
      "Row(value=\"'James',2000\")\n",
      "Row(value=\"'David',3000\")\n",
      "Row(value=\"'Ron',9000\")\n"
     ]
    }
   ],
   "source": [
    "lines = spark.read.text(\"salary.txt\")\n",
    "llist = lines.collect()\n",
    "# printing the list\n",
    "for line in llist:\n",
    "  print(line)"
   ]
  },
  {
   "cell_type": "code",
   "execution_count": null,
   "id": "9c3e248c-cb09-4ffd-8a40-919cce93a95d",
   "metadata": {},
   "outputs": [],
   "source": []
  }
 ],
 "metadata": {
  "kernelspec": {
   "display_name": "Python 3 (ipykernel)",
   "language": "python",
   "name": "python3"
  },
  "language_info": {
   "codemirror_mode": {
    "name": "ipython",
    "version": 3
   },
   "file_extension": ".py",
   "mimetype": "text/x-python",
   "name": "python",
   "nbconvert_exporter": "python",
   "pygments_lexer": "ipython3",
   "version": "3.11.5"
  }
 },
 "nbformat": 4,
 "nbformat_minor": 5
}
