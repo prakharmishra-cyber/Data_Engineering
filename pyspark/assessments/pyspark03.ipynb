{
 "cells": [
  {
   "cell_type": "markdown",
   "id": "c08f9f7d-98f3-44ef-bbbb-9c9ccacf7be2",
   "metadata": {},
   "source": [
    "### Setting up pyspark"
   ]
  },
  {
   "cell_type": "code",
   "execution_count": 1,
   "id": "41f59def-9281-4546-acc4-b4d7d062dec3",
   "metadata": {},
   "outputs": [
    {
     "name": "stdout",
     "output_type": "stream",
     "text": [
      "+---------+--------+------+------+\n",
      "|firstname|lastname|gender|salary|\n",
      "+---------+--------+------+------+\n",
      "|    James|   Smith|     M|  3000|\n",
      "|     Anna|    Rose|     F|  4100|\n",
      "|   Robert|Williams|     M|  6200|\n",
      "+---------+--------+------+------+\n",
      "\n",
      "aa\n"
     ]
    }
   ],
   "source": [
    "import findspark\n",
    "findspark.init()\n",
    "from pyspark.sql import SparkSession\n",
    "\n",
    "spark = SparkSession.builder.appName('pyspark_example_03').getOrCreate()\n",
    "\n",
    "data = [('James','Smith','M',3000),\n",
    "  ('Anna','Rose','F',4100),\n",
    "  ('Robert','Williams','M',6200), \n",
    "]\n",
    "\n",
    "columns = [\"firstname\",\"lastname\",\"gender\",\"salary\"]\n",
    "df = spark.createDataFrame(data=data, schema = columns)\n",
    "df.show()\n",
    "\n",
    "\n",
    "if 'salary1' not in df.columns:\n",
    "    print(\"aa\")"
   ]
  },
  {
   "cell_type": "markdown",
   "id": "72659983-ed4d-4b24-8f7e-a8d22292a725",
   "metadata": {},
   "source": [
    "### adding a new column"
   ]
  },
  {
   "cell_type": "code",
   "execution_count": 3,
   "id": "f108e775-c900-47c4-9b4c-ac6ba391762b",
   "metadata": {},
   "outputs": [
    {
     "name": "stdout",
     "output_type": "stream",
     "text": [
      "+---------+--------+------+------+-------------+\n",
      "|firstname|lastname|gender|salary|bonus_percent|\n",
      "+---------+--------+------+------+-------------+\n",
      "|    James|   Smith|     M|  3000|          0.3|\n",
      "|     Anna|    Rose|     F|  4100|          0.3|\n",
      "|   Robert|Williams|     M|  6200|          0.3|\n",
      "+---------+--------+------+------+-------------+\n",
      "\n"
     ]
    }
   ],
   "source": [
    "from pyspark.sql.functions import lit\n",
    "df.withColumn('bonus_percent', lit(0.3)).show()"
   ]
  },
  {
   "cell_type": "markdown",
   "id": "0b05f012-135a-4a68-84bc-7f66231fbcb9",
   "metadata": {},
   "source": [
    "### updating an existing column"
   ]
  },
  {
   "cell_type": "code",
   "execution_count": 8,
   "id": "278d2173-c873-42e9-abd8-0ce77b648909",
   "metadata": {},
   "outputs": [
    {
     "name": "stdout",
     "output_type": "stream",
     "text": [
      "+---------+--------+------+------+-------------+\n",
      "|firstname|lastname|gender|salary|bonus_percent|\n",
      "+---------+--------+------+------+-------------+\n",
      "|    James|   Smith|     M|  3000|        12000|\n",
      "|     Anna|    Rose|     F|  4100|        16400|\n",
      "|   Robert|Williams|     M|  6200|        24800|\n",
      "+---------+--------+------+------+-------------+\n",
      "\n"
     ]
    }
   ],
   "source": [
    "df.withColumn('bonus_percent', lit(df.salary*4)).show()"
   ]
  },
  {
   "cell_type": "markdown",
   "id": "8b50f715-7e01-4d5e-ae81-2c3c1b48c56f",
   "metadata": {},
   "source": [
    "### Concatenating two columns"
   ]
  },
  {
   "cell_type": "code",
   "execution_count": 13,
   "id": "bbfbaae8-d8e6-4d12-8d7c-bebed9cb4077",
   "metadata": {},
   "outputs": [
    {
     "name": "stdout",
     "output_type": "stream",
     "text": [
      "+---------+--------+------+------+---------------+\n",
      "|firstname|lastname|gender|salary|      Full_Name|\n",
      "+---------+--------+------+------+---------------+\n",
      "|    James|   Smith|     M|  3000|    James Smith|\n",
      "|     Anna|    Rose|     F|  4100|      Anna Rose|\n",
      "|   Robert|Williams|     M|  6200|Robert Williams|\n",
      "+---------+--------+------+------+---------------+\n",
      "\n"
     ]
    }
   ],
   "source": [
    "from pyspark.sql.functions import concat_ws\n",
    "df.withColumn('Full_Name', concat_ws(' ','firstname','lastname')).show()"
   ]
  },
  {
   "cell_type": "markdown",
   "id": "f858ee22-b188-43a6-9f09-54759280c966",
   "metadata": {},
   "source": [
    "### Conditional adding of columns"
   ]
  },
  {
   "cell_type": "code",
   "execution_count": 14,
   "id": "d01e1026-281e-4e47-88fa-54ec901fe438",
   "metadata": {},
   "outputs": [
    {
     "name": "stdout",
     "output_type": "stream",
     "text": [
      "+---------+--------+------+------+-----+\n",
      "|firstname|lastname|gender|salary|grade|\n",
      "+---------+--------+------+------+-----+\n",
      "|    James|   Smith|     M|  3000|    A|\n",
      "|     Anna|    Rose|     F|  4100|    B|\n",
      "|   Robert|Williams|     M|  6200|    C|\n",
      "+---------+--------+------+------+-----+\n",
      "\n"
     ]
    }
   ],
   "source": [
    "from pyspark.sql.functions import when\n",
    "df.withColumn(\"grade\", when((df.salary < 4000), lit(\"A\")).when((df.salary >= 4000) & (df.salary <= 5000), lit(\"B\")) \\\n",
    "     .otherwise(lit(\"C\"))).show()"
   ]
  },
  {
   "cell_type": "markdown",
   "id": "3223bc21-759b-4480-b655-5402b1fced73",
   "metadata": {},
   "source": [
    "### pyspark sql queries output"
   ]
  },
  {
   "cell_type": "code",
   "execution_count": 17,
   "id": "4f9a52a0-3c46-481a-9ba6-9be1903d31b2",
   "metadata": {},
   "outputs": [
    {
     "name": "stdout",
     "output_type": "stream",
     "text": [
      "+---------+------+-----+\n",
      "|firstname|salary|bonus|\n",
      "+---------+------+-----+\n",
      "|    James|  3000|  0.3|\n",
      "|     Anna|  4100|  0.3|\n",
      "|   Robert|  6200|  0.3|\n",
      "+---------+------+-----+\n",
      "\n"
     ]
    }
   ],
   "source": [
    "from pyspark.sql.functions import current_date\n",
    "# Add column using select\n",
    "df.select(\"firstname\",\"salary\", lit(0.3).alias(\"bonus\")).show()"
   ]
  },
  {
   "cell_type": "code",
   "execution_count": 18,
   "id": "502f29fe-ed33-4f90-a1c6-204c89660e41",
   "metadata": {},
   "outputs": [
    {
     "name": "stdout",
     "output_type": "stream",
     "text": [
      "+---------+------+------------+\n",
      "|firstname|salary|bonus_amount|\n",
      "+---------+------+------------+\n",
      "|    James|  3000|       900.0|\n",
      "|     Anna|  4100|      1230.0|\n",
      "|   Robert|  6200|      1860.0|\n",
      "+---------+------+------------+\n",
      "\n"
     ]
    }
   ],
   "source": [
    "df.select(\"firstname\",\"salary\", lit(df.salary * 0.3).alias(\"bonus_amount\")).show()"
   ]
  },
  {
   "cell_type": "code",
   "execution_count": 19,
   "id": "7a71bfe8-9ae0-490c-9f8d-65b1cce74028",
   "metadata": {},
   "outputs": [
    {
     "name": "stdout",
     "output_type": "stream",
     "text": [
      "+---------+------+----------+\n",
      "|firstname|salary|today_date|\n",
      "+---------+------+----------+\n",
      "|    James|  3000|2024-02-06|\n",
      "|     Anna|  4100|2024-02-06|\n",
      "|   Robert|  6200|2024-02-06|\n",
      "+---------+------+----------+\n",
      "\n"
     ]
    }
   ],
   "source": [
    "df.select(\"firstname\",\"salary\", current_date().alias(\"today_date\")).show()"
   ]
  },
  {
   "cell_type": "code",
   "execution_count": 20,
   "id": "e7cf98ea-9b97-4157-b9a9-2b20f401795c",
   "metadata": {},
   "outputs": [
    {
     "name": "stdout",
     "output_type": "stream",
     "text": [
      "+---------+------+-----+\n",
      "|firstname|salary|bonus|\n",
      "+---------+------+-----+\n",
      "|    James|  3000|  0.3|\n",
      "|     Anna|  4100|  0.3|\n",
      "|   Robert|  6200|  0.3|\n",
      "+---------+------+-----+\n",
      "\n"
     ]
    }
   ],
   "source": [
    "#Add columns using SQL\n",
    "df.createOrReplaceTempView(\"PER\")\n",
    "spark.sql(\"select firstname,salary, '0.3' as bonus from PER\").show()"
   ]
  },
  {
   "cell_type": "code",
   "execution_count": 21,
   "id": "0970728b-9f51-4ef8-b916-39d86a7fca53",
   "metadata": {},
   "outputs": [
    {
     "name": "stdout",
     "output_type": "stream",
     "text": [
      "+---------+------+------------+\n",
      "|firstname|salary|bonus_amount|\n",
      "+---------+------+------------+\n",
      "|    James|  3000|       900.0|\n",
      "|     Anna|  4100|      1230.0|\n",
      "|   Robert|  6200|      1860.0|\n",
      "+---------+------+------------+\n",
      "\n"
     ]
    }
   ],
   "source": [
    "spark.sql(\"select firstname,salary, salary * 0.3 as bonus_amount from PER\").show()"
   ]
  },
  {
   "cell_type": "code",
   "execution_count": 22,
   "id": "1021f566-b9fa-4b49-9746-e00acf6c272b",
   "metadata": {},
   "outputs": [
    {
     "name": "stdout",
     "output_type": "stream",
     "text": [
      "+---------+------+----------+\n",
      "|firstname|salary|today_date|\n",
      "+---------+------+----------+\n",
      "|    James|  3000|2024-02-06|\n",
      "|     Anna|  4100|2024-02-06|\n",
      "|   Robert|  6200|2024-02-06|\n",
      "+---------+------+----------+\n",
      "\n"
     ]
    }
   ],
   "source": [
    "spark.sql(\"select firstname,salary, current_date() as today_date from PER\").show()"
   ]
  },
  {
   "cell_type": "code",
   "execution_count": 23,
   "id": "d82c256d-ec84-45bd-8039-e6e15130d6e2",
   "metadata": {},
   "outputs": [
    {
     "name": "stdout",
     "output_type": "stream",
     "text": [
      "+---------+------+-----+\n",
      "|firstname|salary|grade|\n",
      "+---------+------+-----+\n",
      "|    James|  3000|    B|\n",
      "|     Anna|  4100|    B|\n",
      "|   Robert|  6200|    B|\n",
      "+---------+------+-----+\n",
      "\n"
     ]
    }
   ],
   "source": [
    "spark.sql(\"select firstname,salary, \" +\n",
    "          \"case salary when salary < 4000 then 'A' \"+\n",
    "          \"else 'B' END as grade from PER\").show()"
   ]
  },
  {
   "cell_type": "markdown",
   "id": "db1e4509-d3f7-4095-a818-06c21edc2fe5",
   "metadata": {},
   "source": [
    "### Renaming a RDD Column"
   ]
  },
  {
   "cell_type": "code",
   "execution_count": 24,
   "id": "6c752dd1-9509-4348-aa93-db738edaac35",
   "metadata": {},
   "outputs": [
    {
     "name": "stdout",
     "output_type": "stream",
     "text": [
      "+---------+--------+------+------+\n",
      "|firstname|lastname|gender|salary|\n",
      "+---------+--------+------+------+\n",
      "|    James|   Smith|     M|  3000|\n",
      "|     Anna|    Rose|     F|  4100|\n",
      "|   Robert|Williams|     M|  6200|\n",
      "+---------+--------+------+------+\n",
      "\n"
     ]
    }
   ],
   "source": [
    "df.show()"
   ]
  },
  {
   "cell_type": "code",
   "execution_count": 25,
   "id": "30984901-9b46-45be-8c4a-e480bc458229",
   "metadata": {},
   "outputs": [
    {
     "name": "stdout",
     "output_type": "stream",
     "text": [
      "+---------+--------+------+--------------+\n",
      "|firstname|lastname|gender|Monthly_Salary|\n",
      "+---------+--------+------+--------------+\n",
      "|    James|   Smith|     M|          3000|\n",
      "|     Anna|    Rose|     F|          4100|\n",
      "|   Robert|Williams|     M|          6200|\n",
      "+---------+--------+------+--------------+\n",
      "\n"
     ]
    }
   ],
   "source": [
    "df.withColumnRenamed('salary','Monthly_Salary').show()"
   ]
  },
  {
   "cell_type": "markdown",
   "id": "81ec26ee-d8dc-446d-9c68-e0209a373c04",
   "metadata": {},
   "source": [
    "### Dropping a column using df.drop(column_name)."
   ]
  },
  {
   "cell_type": "code",
   "execution_count": 30,
   "id": "81ece2d8-058a-4890-a93a-55e2653aa0cd",
   "metadata": {},
   "outputs": [
    {
     "name": "stdout",
     "output_type": "stream",
     "text": [
      "+--------+------+------+\n",
      "|lastname|gender|salary|\n",
      "+--------+------+------+\n",
      "|   Smith|     M|  3000|\n",
      "|    Rose|     F|  4100|\n",
      "|Williams|     M|  6200|\n",
      "+--------+------+------+\n",
      "\n"
     ]
    }
   ],
   "source": [
    "# dropping columns\n",
    "#drop (\"column_name\")\n",
    "remo_cols = df.drop(\"firstname\") # firstname is dropped\n",
    "remo_cols.show()"
   ]
  },
  {
   "cell_type": "code",
   "execution_count": 6,
   "id": "9ce5e54f-56b1-40c2-8606-11f1200cc83c",
   "metadata": {},
   "outputs": [
    {
     "name": "stdout",
     "output_type": "stream",
     "text": [
      "+-----+--------------+-------------+\n",
      "| Name|Monthly_Salary|Employee_Type|\n",
      "+-----+--------------+-------------+\n",
      "| Aman|          1000|    Permanant|\n",
      "|  Raj|          5000|         Temp|\n",
      "|Ketan|          3000|    Permanant|\n",
      "| NULL|          NULL|         NULL|\n",
      "| NULL|          4000|         Temp|\n",
      "+-----+--------------+-------------+\n",
      "\n"
     ]
    }
   ],
   "source": [
    "temp_list = [('Aman',\"1000\",\"Permanant\"),('Raj',\"5000\",\"Temp\"),('Ketan',\"3000\",\"Permanant\"),(None, None, None),(None,'4000','Temp')]\n",
    "columns = ['Name', 'Monthly_Salary','Employee_Type']\n",
    "temp_rdd = spark.createDataFrame(data=temp_list, schema=columns)\n",
    "temp_rdd.show()"
   ]
  },
  {
   "cell_type": "code",
   "execution_count": 7,
   "id": "23bd8df2-1f20-4f68-8547-a62f73e86455",
   "metadata": {},
   "outputs": [
    {
     "name": "stdout",
     "output_type": "stream",
     "text": [
      "+-----+--------------+-------------+\n",
      "| Name|Monthly_Salary|Employee_Type|\n",
      "+-----+--------------+-------------+\n",
      "| Aman|          1000|    Permanant|\n",
      "|  Raj|          5000|         Temp|\n",
      "|Ketan|          3000|    Permanant|\n",
      "| NULL|          4000|         Temp|\n",
      "+-----+--------------+-------------+\n",
      "\n"
     ]
    }
   ],
   "source": [
    "drop_col2 = temp_rdd.na.drop(how=\"all\")\n",
    "drop_col2.show()"
   ]
  },
  {
   "cell_type": "code",
   "execution_count": 8,
   "id": "ed9931c4-39aa-4ff0-bad0-df3c8fd08be2",
   "metadata": {},
   "outputs": [
    {
     "name": "stdout",
     "output_type": "stream",
     "text": [
      "+-----+--------------+-------------+\n",
      "| Name|Monthly_Salary|Employee_Type|\n",
      "+-----+--------------+-------------+\n",
      "| Aman|          1000|    Permanant|\n",
      "|  Raj|          5000|         Temp|\n",
      "|Ketan|          3000|    Permanant|\n",
      "+-----+--------------+-------------+\n",
      "\n"
     ]
    }
   ],
   "source": [
    "drop_col2 = temp_rdd.na.drop(how=\"any\")\n",
    "drop_col2.show()"
   ]
  },
  {
   "cell_type": "code",
   "execution_count": 9,
   "id": "dc7dcb4c-0f79-41fc-b4ef-6e4636fe8f6e",
   "metadata": {},
   "outputs": [
    {
     "name": "stdout",
     "output_type": "stream",
     "text": [
      "+-----+--------------+-------------+\n",
      "| Name|Monthly_Salary|Employee_Type|\n",
      "+-----+--------------+-------------+\n",
      "| Aman|          1000|    Permanant|\n",
      "|  Raj|          5000|         Temp|\n",
      "|Ketan|          3000|    Permanant|\n",
      "| NULL|          4000|         Temp|\n",
      "+-----+--------------+-------------+\n",
      "\n"
     ]
    }
   ],
   "source": [
    "# in subset you can mention which column to check the null values.\n",
    "m1_drop_col = temp_rdd.na.drop(how=\"any\", subset=[\"Employee_Type\"])\n",
    "m1_drop_col.show()"
   ]
  },
  {
   "cell_type": "code",
   "execution_count": 11,
   "id": "46b5c6b0-353a-4580-ac7c-e800d407eeeb",
   "metadata": {},
   "outputs": [
    {
     "name": "stdout",
     "output_type": "stream",
     "text": [
      "+-------+--------------+-------------+\n",
      "|   Name|Monthly_Salary|Employee_Type|\n",
      "+-------+--------------+-------------+\n",
      "|   Aman|          1000|    Permanant|\n",
      "|    Raj|          5000|         Temp|\n",
      "|  Ketan|          3000|    Permanant|\n",
      "|missing|          NULL|         NULL|\n",
      "|missing|          4000|         Temp|\n",
      "+-------+--------------+-------------+\n",
      "\n"
     ]
    }
   ],
   "source": [
    "# filling missing values\n",
    "data1 = temp_rdd.na.fill('missing',['Name'])\n",
    "data1.show()"
   ]
  },
  {
   "cell_type": "code",
   "execution_count": null,
   "id": "7ec3d990-3eeb-4653-9480-1fafe9438d8b",
   "metadata": {},
   "outputs": [],
   "source": []
  }
 ],
 "metadata": {
  "kernelspec": {
   "display_name": "Python 3 (ipykernel)",
   "language": "python",
   "name": "python3"
  },
  "language_info": {
   "codemirror_mode": {
    "name": "ipython",
    "version": 3
   },
   "file_extension": ".py",
   "mimetype": "text/x-python",
   "name": "python",
   "nbconvert_exporter": "python",
   "pygments_lexer": "ipython3",
   "version": "3.11.5"
  }
 },
 "nbformat": 4,
 "nbformat_minor": 5
}
