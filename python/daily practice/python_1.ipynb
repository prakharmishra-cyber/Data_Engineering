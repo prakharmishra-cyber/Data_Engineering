{
 "cells": [
  {
   "cell_type": "code",
   "outputs": [
    {
     "data": {
      "text/plain": "      Name  Maths  Science\n0   Martha     87       83\n1      Tim     91       99\n2      Rob     97       84\n3  Georgia     95       76",
      "text/html": "<div>\n<style scoped>\n    .dataframe tbody tr th:only-of-type {\n        vertical-align: middle;\n    }\n\n    .dataframe tbody tr th {\n        vertical-align: top;\n    }\n\n    .dataframe thead th {\n        text-align: right;\n    }\n</style>\n<table border=\"1\" class=\"dataframe\">\n  <thead>\n    <tr style=\"text-align: right;\">\n      <th></th>\n      <th>Name</th>\n      <th>Maths</th>\n      <th>Science</th>\n    </tr>\n  </thead>\n  <tbody>\n    <tr>\n      <th>0</th>\n      <td>Martha</td>\n      <td>87</td>\n      <td>83</td>\n    </tr>\n    <tr>\n      <th>1</th>\n      <td>Tim</td>\n      <td>91</td>\n      <td>99</td>\n    </tr>\n    <tr>\n      <th>2</th>\n      <td>Rob</td>\n      <td>97</td>\n      <td>84</td>\n    </tr>\n    <tr>\n      <th>3</th>\n      <td>Georgia</td>\n      <td>95</td>\n      <td>76</td>\n    </tr>\n  </tbody>\n</table>\n</div>"
     },
     "metadata": {},
     "output_type": "display_data"
    }
   ],
   "source": [
    "from IPython.display import display\n",
    "import pandas as pd\n",
    "import csv\n",
    "\n",
    "# creating a DataFrame\n",
    "dict = {'Name' : ['Martha', 'Tim', 'Rob', 'Georgia'],\n",
    "        'Maths' : [87, 91, 97, 95],\n",
    "        'Science' : [83, 99, 84, 76]}\n",
    "df = pd.DataFrame(dict)\n",
    "\n",
    "# displaying the DataFrame\n",
    "display(df)"
   ],
   "metadata": {
    "collapsed": false,
    "ExecuteTime": {
     "end_time": "2024-02-03T20:43:08.761930200Z",
     "start_time": "2024-02-03T20:43:06.639661500Z"
    }
   },
   "id": "aeb33f3955cb118f",
   "execution_count": 1
  },
  {
   "cell_type": "code",
   "outputs": [],
   "source": [
    "rawInput = input(\"enter your input\")\n",
    "rawInput"
   ],
   "metadata": {
    "collapsed": false,
    "ExecuteTime": {
     "end_time": "2024-01-30T10:15:06.570356700Z",
     "start_time": "2024-01-30T10:15:04.478910900Z"
    }
   },
   "id": "2b3cf47535403feb",
   "execution_count": 46
  },
  {
   "cell_type": "code",
   "outputs": [],
   "source": [
    "temp_file = open('sample2.txt', 'a+')"
   ],
   "metadata": {
    "collapsed": false,
    "ExecuteTime": {
     "end_time": "2024-01-30T10:12:17.496963800Z",
     "start_time": "2024-01-30T10:12:17.455750300Z"
    }
   },
   "id": "5132920f6046941a",
   "execution_count": 36
  },
  {
   "cell_type": "code",
   "outputs": [
    {
     "data": {
      "text/plain": "14"
     },
     "execution_count": 39,
     "metadata": {},
     "output_type": "execute_result"
    }
   ],
   "source": [
    "temp_file.write('Prakhar mishra')"
   ],
   "metadata": {
    "collapsed": false,
    "ExecuteTime": {
     "end_time": "2024-01-30T10:12:37.916294500Z",
     "start_time": "2024-01-30T10:12:37.860011400Z"
    }
   },
   "id": "35032f7a48a968a4",
   "execution_count": 39
  },
  {
   "cell_type": "code",
   "outputs": [
    {
     "data": {
      "text/plain": "31"
     },
     "execution_count": 44,
     "metadata": {},
     "output_type": "execute_result"
    }
   ],
   "source": [
    "temp_file.write(\"I live in Kanpur, Uttar Pradesh\")"
   ],
   "metadata": {
    "collapsed": false,
    "ExecuteTime": {
     "end_time": "2024-01-30T10:14:39.141796800Z",
     "start_time": "2024-01-30T10:14:39.025830Z"
    }
   },
   "id": "73823ad31a28a3f1",
   "execution_count": 44
  },
  {
   "cell_type": "code",
   "outputs": [],
   "source": [
    "temp_file = csv.reader('earning.csv')"
   ],
   "metadata": {
    "collapsed": false,
    "ExecuteTime": {
     "end_time": "2024-01-30T10:16:13.317756Z",
     "start_time": "2024-01-30T10:16:13.311715700Z"
    }
   },
   "id": "7a4b20c2d51abff5",
   "execution_count": 49
  },
  {
   "cell_type": "code",
   "outputs": [
    {
     "data": {
      "text/plain": "<_csv.reader at 0x1593f603340>"
     },
     "execution_count": 50,
     "metadata": {},
     "output_type": "execute_result"
    }
   ],
   "source": [
    "temp_file"
   ],
   "metadata": {
    "collapsed": false,
    "ExecuteTime": {
     "end_time": "2024-01-30T10:16:16.341999200Z",
     "start_time": "2024-01-30T10:16:16.327961800Z"
    }
   },
   "id": "bf81658d52027d62",
   "execution_count": 50
  },
  {
   "cell_type": "code",
   "outputs": [
    {
     "data": {
      "text/plain": "[['Username; Identifier;First name;Last name'],\n ['booker12;9012;Rachel;Booker'],\n ['grey07;2070;Laura;Grey'],\n ['johnson81;4081;Craig;Johnson'],\n ['jenkins46;9346;Mary;Jenkins'],\n ['smith79;5079;Jamie;Smith'],\n [],\n ['vesson79', '9889', 'Smith', 'vesson']]"
     },
     "execution_count": 58,
     "metadata": {},
     "output_type": "execute_result"
    }
   ],
   "source": [
    "data_list = []\n",
    "with open('username.csv', 'r') as file:\n",
    "        csv_reader = csv.reader(file)\n",
    "        for row in csv_reader:\n",
    "                data_list.append(row)\n",
    "data_list"
   ],
   "metadata": {
    "collapsed": false,
    "ExecuteTime": {
     "end_time": "2024-01-30T10:25:42.822322Z",
     "start_time": "2024-01-30T10:25:42.781021800Z"
    }
   },
   "id": "9d28e6c22a390185",
   "execution_count": 58
  },
  {
   "cell_type": "code",
   "outputs": [],
   "source": [
    "# writing to a csv file, we use with because it doesn't require to close manually, it automatically closes.\n",
    "data_list = []\n",
    "with open('username.csv', 'a', newline='') as file:\n",
    "        csv_writer = csv.writer(file)\n",
    "        csv_writer.writerow(['vesson79',9889,'Smith','vesson'])\n"
   ],
   "metadata": {
    "collapsed": false,
    "ExecuteTime": {
     "end_time": "2024-01-30T10:25:40.116898300Z",
     "start_time": "2024-01-30T10:25:40.094736200Z"
    }
   },
   "id": "9426bb5faa142371",
   "execution_count": 57
  },
  {
   "cell_type": "code",
   "outputs": [
    {
     "data": {
      "text/plain": "[1, 4, 9, 16, 25]"
     },
     "execution_count": 59,
     "metadata": {},
     "output_type": "execute_result"
    }
   ],
   "source": [
    "# list comprehension\n",
    "a = [1,2,3,4,5]\n",
    "b = [x**2 for x in a]\n",
    "b"
   ],
   "metadata": {
    "collapsed": false,
    "ExecuteTime": {
     "end_time": "2024-01-30T10:28:26.454925Z",
     "start_time": "2024-01-30T10:28:26.428566500Z"
    }
   },
   "id": "998e9858bb0e1884",
   "execution_count": 59
  },
  {
   "cell_type": "code",
   "outputs": [
    {
     "data": {
      "text/plain": "[1, 4, 9]"
     },
     "execution_count": 60,
     "metadata": {},
     "output_type": "execute_result"
    }
   ],
   "source": [
    "#list slicing\n",
    "b[0:3]"
   ],
   "metadata": {
    "collapsed": false,
    "ExecuteTime": {
     "end_time": "2024-01-30T10:28:40.044361800Z",
     "start_time": "2024-01-30T10:28:40.023274Z"
    }
   },
   "id": "5ff50ed61bd7f83f",
   "execution_count": 60
  },
  {
   "cell_type": "code",
   "outputs": [
    {
     "name": "stdout",
     "output_type": "stream",
     "text": [
      "[1, 16, 81, 256, 625]\n"
     ]
    }
   ],
   "source": [
    "#lambda function\n",
    "temp = [1,2,3,4,5]\n",
    "print(list(map(lambda x: x**4, temp)))"
   ],
   "metadata": {
    "collapsed": false,
    "ExecuteTime": {
     "end_time": "2024-01-30T11:21:22.900570600Z",
     "start_time": "2024-01-30T11:21:22.730146200Z"
    }
   },
   "id": "bdeb76c1dd3b293a",
   "execution_count": 61
  },
  {
   "cell_type": "code",
   "outputs": [],
   "source": [
    "# declaring a lambda functions\n",
    "add = lambda x: x/2"
   ],
   "metadata": {
    "collapsed": false,
    "ExecuteTime": {
     "end_time": "2024-01-30T11:22:02.619795300Z",
     "start_time": "2024-01-30T11:22:02.600745800Z"
    }
   },
   "id": "fe2295b6e458cb9d",
   "execution_count": 62
  },
  {
   "cell_type": "code",
   "outputs": [
    {
     "data": {
      "text/plain": "[0.5, 1.0, 1.5, 2.0, 2.5]"
     },
     "execution_count": 63,
     "metadata": {},
     "output_type": "execute_result"
    }
   ],
   "source": [
    "# using lambda by naming and declaring it before only\n",
    "list(map(add, temp))"
   ],
   "metadata": {
    "collapsed": false,
    "ExecuteTime": {
     "end_time": "2024-01-30T11:22:15.197855500Z",
     "start_time": "2024-01-30T11:22:15.098325800Z"
    }
   },
   "id": "93b0e94afbda3409",
   "execution_count": 63
  },
  {
   "cell_type": "code",
   "outputs": [],
   "source": [
    "# declaring a temporary array\n",
    "data = [(1,2), (5,4), (9,3)]"
   ],
   "metadata": {
    "collapsed": false,
    "ExecuteTime": {
     "end_time": "2024-01-30T11:24:10.642157300Z",
     "start_time": "2024-01-30T11:24:10.620075600Z"
    }
   },
   "id": "2d00d639577073df",
   "execution_count": 67
  },
  {
   "cell_type": "code",
   "outputs": [
    {
     "name": "stdout",
     "output_type": "stream",
     "text": [
      "sorted on the basis of first element  [(1, 2), (5, 4), (9, 3)]\n",
      "sorted on the basis of second element  [(1, 2), (9, 3), (5, 4)]\n"
     ]
    }
   ],
   "source": [
    "# using sorted with lambda as key function\n",
    "print(\"sorted on the basis of first element \",sorted(data, key=lambda x: x[0]))\n",
    "print(\"sorted on the basis of second element \", sorted(data, key=lambda x: x[1]))"
   ],
   "metadata": {
    "collapsed": false,
    "ExecuteTime": {
     "end_time": "2024-01-30T11:25:12.324051800Z",
     "start_time": "2024-01-30T11:25:12.289672300Z"
    }
   },
   "id": "567f9191bc09e9a4",
   "execution_count": 71
  },
  {
   "cell_type": "code",
   "outputs": [
    {
     "data": {
      "text/plain": "[2, 4, 6, 8, 10]"
     },
     "execution_count": 75,
     "metadata": {},
     "output_type": "execute_result"
    }
   ],
   "source": [
    "# using filter and lambda functions\n",
    "temp_list = [1,2,3,4,5,6,7,8,9,10]\n",
    "list(filter(lambda x: x%2==0, temp_list))"
   ],
   "metadata": {
    "collapsed": false,
    "ExecuteTime": {
     "end_time": "2024-01-30T11:26:21.432914500Z",
     "start_time": "2024-01-30T11:26:21.391216200Z"
    }
   },
   "id": "fe38f7bebfaa737c",
   "execution_count": 75
  },
  {
   "cell_type": "code",
   "outputs": [
    {
     "data": {
      "text/plain": "[1, 2, 3, 4, 5, 6, 7, 8, 9, 10]"
     },
     "execution_count": 76,
     "metadata": {},
     "output_type": "execute_result"
    }
   ],
   "source": [
    "temp_list"
   ],
   "metadata": {
    "collapsed": false,
    "ExecuteTime": {
     "end_time": "2024-01-30T11:26:23.930308900Z",
     "start_time": "2024-01-30T11:26:23.909561500Z"
    }
   },
   "id": "cf8e57978466db28",
   "execution_count": 76
  },
  {
   "cell_type": "code",
   "outputs": [
    {
     "data": {
      "text/plain": "6"
     },
     "execution_count": 77,
     "metadata": {},
     "output_type": "execute_result"
    }
   ],
   "source": [
    "# immediately running lambda function\n",
    "result = (lambda x, y, z: x+y+z)(1,2,3)\n",
    "result"
   ],
   "metadata": {
    "collapsed": false,
    "ExecuteTime": {
     "end_time": "2024-01-30T11:29:47.282724900Z",
     "start_time": "2024-01-30T11:29:47.261135400Z"
    }
   },
   "id": "d30559622ceb5801",
   "execution_count": 77
  },
  {
   "cell_type": "markdown",
   "source": [
    "# Example: Filtering names starting with 'A'"
   ],
   "metadata": {
    "collapsed": false
   },
   "id": "6bc66f9aa57c1108"
  },
  {
   "cell_type": "code",
   "outputs": [
    {
     "name": "stdout",
     "output_type": "stream",
     "text": [
      "['Alice']\n"
     ]
    }
   ],
   "source": [
    "names = [\"Alice\", \"Bob\", \"Charlie\", \"David\", \"Eva\"]\n",
    "filtered_names = list(filter(lambda name: name.startswith('A'), names))\n",
    "print(filtered_names)  # Output: ['Alice']"
   ],
   "metadata": {
    "collapsed": false,
    "ExecuteTime": {
     "end_time": "2024-01-30T11:30:57.767412500Z",
     "start_time": "2024-01-30T11:30:57.735295500Z"
    }
   },
   "id": "a2b8313ec10614b5",
   "execution_count": 78
  },
  {
   "cell_type": "markdown",
   "source": [
    "# Example: Filtering non-empty strings"
   ],
   "metadata": {
    "collapsed": false
   },
   "id": "854e7285ff947efe"
  },
  {
   "cell_type": "code",
   "outputs": [
    {
     "name": "stdout",
     "output_type": "stream",
     "text": [
      "['apple', 'orange', 'grape']\n"
     ]
    }
   ],
   "source": [
    "words = [\"apple\", \"\", \"orange\", None, \"grape\"]\n",
    "filtered_words = list(filter(lambda x: x and len(x), words))\n",
    "print(filtered_words)  # Output: ['apple', 'orange', 'grape']"
   ],
   "metadata": {
    "collapsed": false,
    "ExecuteTime": {
     "end_time": "2024-01-30T11:31:25.592727400Z",
     "start_time": "2024-01-30T11:31:25.522944400Z"
    }
   },
   "id": "6f69a18eb98f16d4",
   "execution_count": 80
  },
  {
   "cell_type": "markdown",
   "source": [
    "# Getting unique values from a list using map and set"
   ],
   "metadata": {
    "collapsed": false
   },
   "id": "f2e8f4d305097f37"
  },
  {
   "cell_type": "code",
   "outputs": [
    {
     "name": "stdout",
     "output_type": "stream",
     "text": [
      "Original List : [1, 2, 3, 4, 5, 6, 6, 6]\n",
      "Non Duplicate List : [1, 2, 3, 4, 5, 6]\n"
     ]
    }
   ],
   "source": [
    "temp_list = list(map(int, input().split(' ')))\n",
    "non_repeated_list = list(set(temp_list))\n",
    "print('Original List :', temp_list)\n",
    "print('Non Duplicate List :', non_repeated_list)"
   ],
   "metadata": {
    "collapsed": false,
    "ExecuteTime": {
     "end_time": "2024-01-30T11:34:26.411655600Z",
     "start_time": "2024-01-30T11:34:19.872849200Z"
    }
   },
   "id": "9a2f8d9d6e213498",
   "execution_count": 82
  },
  {
   "cell_type": "markdown",
   "source": [
    "# sorted with custom key"
   ],
   "metadata": {
    "collapsed": false
   },
   "id": "aa931ffb57e66e58"
  },
  {
   "cell_type": "code",
   "outputs": [
    {
     "name": "stdout",
     "output_type": "stream",
     "text": [
      "Bob is 22 years\n",
      "Alice is 25 years\n",
      "Charlie is 30 years\n"
     ]
    },
    {
     "data": {
      "text/plain": "[None, None, None]"
     },
     "execution_count": 86,
     "metadata": {},
     "output_type": "execute_result"
    }
   ],
   "source": [
    "class Person:\n",
    "        def __init__(self, name, age):\n",
    "                self.name = name\n",
    "                self.age = age\n",
    "        def __str__(self):\n",
    "                return f'{self.name} is {self.age} years'\n",
    "\n",
    "people = [Person('Alice', 25), Person('Bob', 22), Person('Charlie', 30)]\n",
    "sorted_people = sorted(people, key = lambda person: person.age)\n",
    "[print(x) for x in sorted_people]"
   ],
   "metadata": {
    "collapsed": false,
    "ExecuteTime": {
     "end_time": "2024-01-30T11:50:43.027384600Z",
     "start_time": "2024-01-30T11:50:42.928250Z"
    }
   },
   "id": "1bf6e007768fe4f",
   "execution_count": 86
  },
  {
   "cell_type": "markdown",
   "source": [
    "# Usage of Reduce Function"
   ],
   "metadata": {
    "collapsed": false
   },
   "id": "4058ce8dcadc60ff"
  },
  {
   "cell_type": "code",
   "outputs": [
    {
     "name": "stdout",
     "output_type": "stream",
     "text": [
      "The sum of the li is:- 193\n"
     ]
    }
   ],
   "source": [
    "from functools import reduce\n",
    "li  = [5, 8, 10, 20, 50, 100]\n",
    "sum1 = reduce((lambda x, y: x + y), li)\n",
    "print('The sum of the li is:-', sum1)"
   ],
   "metadata": {
    "collapsed": false,
    "ExecuteTime": {
     "end_time": "2024-01-30T12:15:58.119465Z",
     "start_time": "2024-01-30T12:15:58.089828600Z"
    }
   },
   "id": "433306876e2b1155",
   "execution_count": 90
  },
  {
   "cell_type": "code",
   "outputs": [],
   "source": [],
   "metadata": {
    "collapsed": false
   },
   "id": "ba9fb94a5b2fe8e2"
  }
 ],
 "metadata": {
  "kernelspec": {
   "display_name": "Python 3",
   "language": "python",
   "name": "python3"
  },
  "language_info": {
   "codemirror_mode": {
    "name": "ipython",
    "version": 2
   },
   "file_extension": ".py",
   "mimetype": "text/x-python",
   "name": "python",
   "nbconvert_exporter": "python",
   "pygments_lexer": "ipython2",
   "version": "2.7.6"
  }
 },
 "nbformat": 4,
 "nbformat_minor": 5
}
