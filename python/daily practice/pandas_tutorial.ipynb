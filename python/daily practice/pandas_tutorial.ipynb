{
 "cells": [
  {
   "cell_type": "code",
   "execution_count": 14,
   "id": "initial_id",
   "metadata": {
    "ExecuteTime": {
     "end_time": "2024-02-02T06:58:54.100989400Z",
     "start_time": "2024-02-02T06:58:53.953750Z"
    },
    "collapsed": true,
    "jupyter": {
     "outputs_hidden": true
    }
   },
   "outputs": [],
   "source": [
    "import pandas as pd\n",
    "import numpy as np\n",
    "import matplotlib.pyplot as plt\n",
    "\n",
    "temp = pd.read_csv('GroceryDataset.csv')\n",
    "df1 = pd.DataFrame(temp)"
   ]
  },
  {
   "cell_type": "code",
   "execution_count": 15,
   "id": "399389d050b5b79b",
   "metadata": {
    "ExecuteTime": {
     "end_time": "2024-02-02T06:58:56.162035400Z",
     "start_time": "2024-02-02T06:58:56.105958300Z"
    },
    "collapsed": false
   },
   "outputs": [
    {
     "data": {
      "text/html": [
       "<div>\n",
       "<style scoped>\n",
       "    .dataframe tbody tr th:only-of-type {\n",
       "        vertical-align: middle;\n",
       "    }\n",
       "\n",
       "    .dataframe tbody tr th {\n",
       "        vertical-align: top;\n",
       "    }\n",
       "\n",
       "    .dataframe thead th {\n",
       "        text-align: right;\n",
       "    }\n",
       "</style>\n",
       "<table border=\"1\" class=\"dataframe\">\n",
       "  <thead>\n",
       "    <tr style=\"text-align: right;\">\n",
       "      <th></th>\n",
       "      <th>Sub Category</th>\n",
       "      <th>Price</th>\n",
       "      <th>Discount</th>\n",
       "      <th>Rating</th>\n",
       "      <th>Title</th>\n",
       "      <th>Currency</th>\n",
       "      <th>Feature</th>\n",
       "      <th>Product Description</th>\n",
       "    </tr>\n",
       "  </thead>\n",
       "  <tbody>\n",
       "    <tr>\n",
       "      <th>0</th>\n",
       "      <td>Bakery &amp; Desserts</td>\n",
       "      <td>$56.99</td>\n",
       "      <td>No Discount</td>\n",
       "      <td>Rated 4.3 out of 5 stars based on 265 reviews.</td>\n",
       "      <td>David’s Cookies Mile High Peanut Butter Cake, ...</td>\n",
       "      <td>$</td>\n",
       "      <td>\"10\"\" Peanut Butter Cake\\nCertified Kosher OU-...</td>\n",
       "      <td>A cake the dessert epicure will die for!Our To...</td>\n",
       "    </tr>\n",
       "    <tr>\n",
       "      <th>1</th>\n",
       "      <td>Bakery &amp; Desserts</td>\n",
       "      <td>$159.99</td>\n",
       "      <td>No Discount</td>\n",
       "      <td>Rated 5 out of 5 stars based on 1 reviews.</td>\n",
       "      <td>The Cake Bake Shop 8\" Round Carrot Cake (16-22...</td>\n",
       "      <td>$</td>\n",
       "      <td>Spiced Carrot Cake with Cream Cheese Frosting ...</td>\n",
       "      <td>Due to the perishable nature of this item, ord...</td>\n",
       "    </tr>\n",
       "    <tr>\n",
       "      <th>2</th>\n",
       "      <td>Bakery &amp; Desserts</td>\n",
       "      <td>$44.99</td>\n",
       "      <td>No Discount</td>\n",
       "      <td>Rated 4.1 out of 5 stars based on 441 reviews.</td>\n",
       "      <td>St Michel Madeleine, Classic French Sponge Cak...</td>\n",
       "      <td>$</td>\n",
       "      <td>100 count\\nIndividually wrapped\\nMade in and I...</td>\n",
       "      <td>Moist and buttery sponge cakes with the tradit...</td>\n",
       "    </tr>\n",
       "    <tr>\n",
       "      <th>3</th>\n",
       "      <td>Bakery &amp; Desserts</td>\n",
       "      <td>$39.99</td>\n",
       "      <td>No Discount</td>\n",
       "      <td>Rated 4.7 out of 5 stars based on 9459 reviews.</td>\n",
       "      <td>David's Cookies Butter Pecan Meltaways 32 oz, ...</td>\n",
       "      <td>$</td>\n",
       "      <td>Butter Pecan Meltaways\\n32 oz 2-Pack\\nNo Prese...</td>\n",
       "      <td>These delectable butter pecan meltaways are th...</td>\n",
       "    </tr>\n",
       "    <tr>\n",
       "      <th>4</th>\n",
       "      <td>Bakery &amp; Desserts</td>\n",
       "      <td>$59.99</td>\n",
       "      <td>No Discount</td>\n",
       "      <td>Rated 4.5 out of 5 stars based on 758 reviews.</td>\n",
       "      <td>David’s Cookies Premier Chocolate Cake, 7.2 lb...</td>\n",
       "      <td>$</td>\n",
       "      <td>\"10\" Four Layer Chocolate Cake\\nCertified Kosh...</td>\n",
       "      <td>A cake the dessert epicure will die for!To the...</td>\n",
       "    </tr>\n",
       "    <tr>\n",
       "      <th>...</th>\n",
       "      <td>...</td>\n",
       "      <td>...</td>\n",
       "      <td>...</td>\n",
       "      <td>...</td>\n",
       "      <td>...</td>\n",
       "      <td>...</td>\n",
       "      <td>...</td>\n",
       "      <td>...</td>\n",
       "    </tr>\n",
       "    <tr>\n",
       "      <th>1752</th>\n",
       "      <td>Snacks</td>\n",
       "      <td>$23.99</td>\n",
       "      <td>No Discount</td>\n",
       "      <td>NaN</td>\n",
       "      <td>Oberto Thin Style Smoked Sausage Stick, Cockta...</td>\n",
       "      <td>$</td>\n",
       "      <td>Cocktail Pepperoni   Smoked Sausage Sticks   3...</td>\n",
       "      <td>Cocktail PepperoniSmoked Sausage Sticks3 oz ba...</td>\n",
       "    </tr>\n",
       "    <tr>\n",
       "      <th>1753</th>\n",
       "      <td>Snacks</td>\n",
       "      <td>$49.99</td>\n",
       "      <td>No Discount</td>\n",
       "      <td>NaN</td>\n",
       "      <td>Cheetos Crunchy, Original, 2.1 oz, 64-count</td>\n",
       "      <td>$</td>\n",
       "      <td>Made with Real Cheese</td>\n",
       "      <td>64-count2.1 oz Bags</td>\n",
       "    </tr>\n",
       "    <tr>\n",
       "      <th>1754</th>\n",
       "      <td>Snacks</td>\n",
       "      <td>$22.99</td>\n",
       "      <td>No Discount</td>\n",
       "      <td>NaN</td>\n",
       "      <td>Sabritas Chile &amp; Limon Mix, Variety Pack, 30-c...</td>\n",
       "      <td>$</td>\n",
       "      <td>Chile &amp; Limón Mix   Variety Pack   30 ct   Net...</td>\n",
       "      <td>8-Doritos Dinamita Chile Limón Flavored Rolled...</td>\n",
       "    </tr>\n",
       "    <tr>\n",
       "      <th>1755</th>\n",
       "      <td>Snacks</td>\n",
       "      <td>$17.49</td>\n",
       "      <td>No Discount</td>\n",
       "      <td>NaN</td>\n",
       "      <td>Fruit Roll-Ups, Variety Pack, 72-count</td>\n",
       "      <td>$</td>\n",
       "      <td>Variety Pack   1   Box with 72 Rolls   Flavore...</td>\n",
       "      <td>Fruit Flavored Snacks\\nVariety Includes: Straw...</td>\n",
       "    </tr>\n",
       "    <tr>\n",
       "      <th>1756</th>\n",
       "      <td>Snacks</td>\n",
       "      <td>$21.99</td>\n",
       "      <td>No Discount</td>\n",
       "      <td>NaN</td>\n",
       "      <td>Takis, Rolled Tortilla Chips, Intense Nacho, 1...</td>\n",
       "      <td>$</td>\n",
       "      <td>Intense Nacho Cheese   Non-Spicy   1 oz bag, 5...</td>\n",
       "      <td>Takis Non-Spicy Cheese Tortilla Chips\\nIndivid...</td>\n",
       "    </tr>\n",
       "  </tbody>\n",
       "</table>\n",
       "<p>1757 rows × 8 columns</p>\n",
       "</div>"
      ],
      "text/plain": [
       "           Sub Category     Price     Discount  \\\n",
       "0     Bakery & Desserts   $56.99   No Discount   \n",
       "1     Bakery & Desserts  $159.99   No Discount   \n",
       "2     Bakery & Desserts   $44.99   No Discount   \n",
       "3     Bakery & Desserts   $39.99   No Discount   \n",
       "4     Bakery & Desserts   $59.99   No Discount   \n",
       "...                 ...       ...          ...   \n",
       "1752             Snacks   $23.99   No Discount   \n",
       "1753             Snacks   $49.99   No Discount   \n",
       "1754             Snacks   $22.99   No Discount   \n",
       "1755             Snacks   $17.49   No Discount   \n",
       "1756             Snacks   $21.99   No Discount   \n",
       "\n",
       "                                               Rating  \\\n",
       "0      Rated 4.3 out of 5 stars based on 265 reviews.   \n",
       "1          Rated 5 out of 5 stars based on 1 reviews.   \n",
       "2      Rated 4.1 out of 5 stars based on 441 reviews.   \n",
       "3     Rated 4.7 out of 5 stars based on 9459 reviews.   \n",
       "4      Rated 4.5 out of 5 stars based on 758 reviews.   \n",
       "...                                               ...   \n",
       "1752                                              NaN   \n",
       "1753                                              NaN   \n",
       "1754                                              NaN   \n",
       "1755                                              NaN   \n",
       "1756                                              NaN   \n",
       "\n",
       "                                                  Title Currency  \\\n",
       "0     David’s Cookies Mile High Peanut Butter Cake, ...        $   \n",
       "1     The Cake Bake Shop 8\" Round Carrot Cake (16-22...        $   \n",
       "2     St Michel Madeleine, Classic French Sponge Cak...        $   \n",
       "3     David's Cookies Butter Pecan Meltaways 32 oz, ...        $   \n",
       "4     David’s Cookies Premier Chocolate Cake, 7.2 lb...        $   \n",
       "...                                                 ...      ...   \n",
       "1752  Oberto Thin Style Smoked Sausage Stick, Cockta...        $   \n",
       "1753        Cheetos Crunchy, Original, 2.1 oz, 64-count        $   \n",
       "1754  Sabritas Chile & Limon Mix, Variety Pack, 30-c...        $   \n",
       "1755             Fruit Roll-Ups, Variety Pack, 72-count        $   \n",
       "1756  Takis, Rolled Tortilla Chips, Intense Nacho, 1...        $   \n",
       "\n",
       "                                                Feature  \\\n",
       "0     \"10\"\" Peanut Butter Cake\\nCertified Kosher OU-...   \n",
       "1     Spiced Carrot Cake with Cream Cheese Frosting ...   \n",
       "2     100 count\\nIndividually wrapped\\nMade in and I...   \n",
       "3     Butter Pecan Meltaways\\n32 oz 2-Pack\\nNo Prese...   \n",
       "4     \"10\" Four Layer Chocolate Cake\\nCertified Kosh...   \n",
       "...                                                 ...   \n",
       "1752  Cocktail Pepperoni   Smoked Sausage Sticks   3...   \n",
       "1753                              Made with Real Cheese   \n",
       "1754  Chile & Limón Mix   Variety Pack   30 ct   Net...   \n",
       "1755  Variety Pack   1   Box with 72 Rolls   Flavore...   \n",
       "1756  Intense Nacho Cheese   Non-Spicy   1 oz bag, 5...   \n",
       "\n",
       "                                    Product Description  \n",
       "0     A cake the dessert epicure will die for!Our To...  \n",
       "1     Due to the perishable nature of this item, ord...  \n",
       "2     Moist and buttery sponge cakes with the tradit...  \n",
       "3     These delectable butter pecan meltaways are th...  \n",
       "4     A cake the dessert epicure will die for!To the...  \n",
       "...                                                 ...  \n",
       "1752  Cocktail PepperoniSmoked Sausage Sticks3 oz ba...  \n",
       "1753                                64-count2.1 oz Bags  \n",
       "1754  8-Doritos Dinamita Chile Limón Flavored Rolled...  \n",
       "1755  Fruit Flavored Snacks\\nVariety Includes: Straw...  \n",
       "1756  Takis Non-Spicy Cheese Tortilla Chips\\nIndivid...  \n",
       "\n",
       "[1757 rows x 8 columns]"
      ]
     },
     "execution_count": 15,
     "metadata": {},
     "output_type": "execute_result"
    }
   ],
   "source": [
    "df1"
   ]
  },
  {
   "cell_type": "code",
   "execution_count": 16,
   "id": "36f3b15571fb6dbe",
   "metadata": {
    "ExecuteTime": {
     "end_time": "2024-02-02T06:58:58.026346100Z",
     "start_time": "2024-02-02T06:58:57.969990400Z"
    },
    "collapsed": false
   },
   "outputs": [
    {
     "data": {
      "text/html": [
       "<div>\n",
       "<style scoped>\n",
       "    .dataframe tbody tr th:only-of-type {\n",
       "        vertical-align: middle;\n",
       "    }\n",
       "\n",
       "    .dataframe tbody tr th {\n",
       "        vertical-align: top;\n",
       "    }\n",
       "\n",
       "    .dataframe thead th {\n",
       "        text-align: right;\n",
       "    }\n",
       "</style>\n",
       "<table border=\"1\" class=\"dataframe\">\n",
       "  <thead>\n",
       "    <tr style=\"text-align: right;\">\n",
       "      <th></th>\n",
       "      <th>Sub Category</th>\n",
       "      <th>Price</th>\n",
       "    </tr>\n",
       "  </thead>\n",
       "  <tbody>\n",
       "    <tr>\n",
       "      <th>0</th>\n",
       "      <td>Bakery &amp; Desserts</td>\n",
       "      <td>$56.99</td>\n",
       "    </tr>\n",
       "    <tr>\n",
       "      <th>1</th>\n",
       "      <td>Bakery &amp; Desserts</td>\n",
       "      <td>$159.99</td>\n",
       "    </tr>\n",
       "    <tr>\n",
       "      <th>2</th>\n",
       "      <td>Bakery &amp; Desserts</td>\n",
       "      <td>$44.99</td>\n",
       "    </tr>\n",
       "    <tr>\n",
       "      <th>3</th>\n",
       "      <td>Bakery &amp; Desserts</td>\n",
       "      <td>$39.99</td>\n",
       "    </tr>\n",
       "    <tr>\n",
       "      <th>4</th>\n",
       "      <td>Bakery &amp; Desserts</td>\n",
       "      <td>$59.99</td>\n",
       "    </tr>\n",
       "    <tr>\n",
       "      <th>...</th>\n",
       "      <td>...</td>\n",
       "      <td>...</td>\n",
       "    </tr>\n",
       "    <tr>\n",
       "      <th>1752</th>\n",
       "      <td>Snacks</td>\n",
       "      <td>$23.99</td>\n",
       "    </tr>\n",
       "    <tr>\n",
       "      <th>1753</th>\n",
       "      <td>Snacks</td>\n",
       "      <td>$49.99</td>\n",
       "    </tr>\n",
       "    <tr>\n",
       "      <th>1754</th>\n",
       "      <td>Snacks</td>\n",
       "      <td>$22.99</td>\n",
       "    </tr>\n",
       "    <tr>\n",
       "      <th>1755</th>\n",
       "      <td>Snacks</td>\n",
       "      <td>$17.49</td>\n",
       "    </tr>\n",
       "    <tr>\n",
       "      <th>1756</th>\n",
       "      <td>Snacks</td>\n",
       "      <td>$21.99</td>\n",
       "    </tr>\n",
       "  </tbody>\n",
       "</table>\n",
       "<p>1757 rows × 2 columns</p>\n",
       "</div>"
      ],
      "text/plain": [
       "           Sub Category     Price\n",
       "0     Bakery & Desserts   $56.99 \n",
       "1     Bakery & Desserts  $159.99 \n",
       "2     Bakery & Desserts   $44.99 \n",
       "3     Bakery & Desserts   $39.99 \n",
       "4     Bakery & Desserts   $59.99 \n",
       "...                 ...       ...\n",
       "1752             Snacks   $23.99 \n",
       "1753             Snacks   $49.99 \n",
       "1754             Snacks   $22.99 \n",
       "1755             Snacks   $17.49 \n",
       "1756             Snacks   $21.99 \n",
       "\n",
       "[1757 rows x 2 columns]"
      ]
     },
     "execution_count": 16,
     "metadata": {},
     "output_type": "execute_result"
    }
   ],
   "source": [
    "# By passing column list you can get a new dataframe.\n",
    "df1[['Sub Category', 'Price']]"
   ]
  },
  {
   "cell_type": "code",
   "execution_count": 17,
   "id": "ef8e712b87bc56eb",
   "metadata": {
    "ExecuteTime": {
     "end_time": "2024-02-02T06:58:59.617625100Z",
     "start_time": "2024-02-02T06:58:59.505851300Z"
    },
    "collapsed": false
   },
   "outputs": [
    {
     "data": {
      "text/html": [
       "<div>\n",
       "<style scoped>\n",
       "    .dataframe tbody tr th:only-of-type {\n",
       "        vertical-align: middle;\n",
       "    }\n",
       "\n",
       "    .dataframe tbody tr th {\n",
       "        vertical-align: top;\n",
       "    }\n",
       "\n",
       "    .dataframe thead th {\n",
       "        text-align: right;\n",
       "    }\n",
       "</style>\n",
       "<table border=\"1\" class=\"dataframe\">\n",
       "  <thead>\n",
       "    <tr style=\"text-align: right;\">\n",
       "      <th></th>\n",
       "      <th>Sub Category</th>\n",
       "      <th>Price</th>\n",
       "      <th>Discount</th>\n",
       "      <th>Rating</th>\n",
       "      <th>Title</th>\n",
       "      <th>Currency</th>\n",
       "      <th>Feature</th>\n",
       "      <th>Product Description</th>\n",
       "    </tr>\n",
       "  </thead>\n",
       "  <tbody>\n",
       "    <tr>\n",
       "      <th>1054</th>\n",
       "      <td>Meat &amp; Seafood</td>\n",
       "      <td>$1,099.99</td>\n",
       "      <td>No Discount</td>\n",
       "      <td>Rated 4.6 out of 5 stars based on 657 reviews.</td>\n",
       "      <td>Japanese Wagyu Boneless Ribeye Roast, A5 Grade...</td>\n",
       "      <td>$</td>\n",
       "      <td>1 A5 Grade, 12 lb. Boneless Ribeye Roast   Imp...</td>\n",
       "      <td>When you take your first bite of our Wagyu Rib...</td>\n",
       "    </tr>\n",
       "    <tr>\n",
       "      <th>721</th>\n",
       "      <td>Gift Baskets</td>\n",
       "      <td>$1,399.99</td>\n",
       "      <td>No Discount</td>\n",
       "      <td>Rated 4.6 out of 5 stars based on 57 reviews.</td>\n",
       "      <td>Plaza Osetra Kilo Caviar Pack</td>\n",
       "      <td>$</td>\n",
       "      <td>Vacuum sealed Caviar tin keeps 30 days unopene...</td>\n",
       "      <td>Plaza Osetra Kilo is an event sized tin of cav...</td>\n",
       "    </tr>\n",
       "    <tr>\n",
       "      <th>562</th>\n",
       "      <td>Deli</td>\n",
       "      <td>$1,399.99</td>\n",
       "      <td>No Discount</td>\n",
       "      <td>Rated 4.6 out of 5 stars based on 57 reviews.</td>\n",
       "      <td>Plaza Osetra Kilo Caviar Pack</td>\n",
       "      <td>$</td>\n",
       "      <td>Vacuum sealed Caviar tin keeps 30 days unopene...</td>\n",
       "      <td>Plaza Osetra Kilo is an event sized tin of cav...</td>\n",
       "    </tr>\n",
       "    <tr>\n",
       "      <th>722</th>\n",
       "      <td>Gift Baskets</td>\n",
       "      <td>$1,999.99</td>\n",
       "      <td>No Discount</td>\n",
       "      <td>Rated 5 out of 5 stars based on 2 reviews.</td>\n",
       "      <td>Plaza Golden Osetra Caviar Kilo Pack, 35.2 oz</td>\n",
       "      <td>$</td>\n",
       "      <td>Vacuum sealed Caviar tin keeps 30 days unopene...</td>\n",
       "      <td>Plaza Golden Osetra Kilo is an event sized tin...</td>\n",
       "    </tr>\n",
       "    <tr>\n",
       "      <th>552</th>\n",
       "      <td>Deli</td>\n",
       "      <td>$1,999.99</td>\n",
       "      <td>No Discount</td>\n",
       "      <td>Rated 5 out of 5 stars based on 2 reviews.</td>\n",
       "      <td>Plaza Golden Osetra Caviar Kilo Pack, 35.2 oz</td>\n",
       "      <td>$</td>\n",
       "      <td>Vacuum sealed Caviar tin keeps 30 days unopene...</td>\n",
       "      <td>Plaza Golden Osetra Kilo is an event sized tin...</td>\n",
       "    </tr>\n",
       "    <tr>\n",
       "      <th>...</th>\n",
       "      <td>...</td>\n",
       "      <td>...</td>\n",
       "      <td>...</td>\n",
       "      <td>...</td>\n",
       "      <td>...</td>\n",
       "      <td>...</td>\n",
       "      <td>...</td>\n",
       "      <td>...</td>\n",
       "    </tr>\n",
       "    <tr>\n",
       "      <th>1053</th>\n",
       "      <td>Meat &amp; Seafood</td>\n",
       "      <td>$999.99</td>\n",
       "      <td>No Discount</td>\n",
       "      <td>Rated 4.6 out of 5 stars based on 424 reviews.</td>\n",
       "      <td>Japanese Wagyu New York Strip Loin Roast, A5 G...</td>\n",
       "      <td>$</td>\n",
       "      <td>A5 Grade, 11 lb New York Strip Loin Roast   Au...</td>\n",
       "      <td>Our Authentic Wagyu Striploin is artfully marb...</td>\n",
       "    </tr>\n",
       "    <tr>\n",
       "      <th>1059</th>\n",
       "      <td>Meat &amp; Seafood</td>\n",
       "      <td>$999.99</td>\n",
       "      <td>No Discount</td>\n",
       "      <td>Rated 4.5 out of 5 stars based on 36 reviews.</td>\n",
       "      <td>Japanese Wagyu Tenderloin Roast, A5 Grade, 6 lbs</td>\n",
       "      <td>$</td>\n",
       "      <td>(1) A5 Grade, 6 lb Tenderloin Roast   Authenti...</td>\n",
       "      <td>Our Tenderloin is the most delicate of all our...</td>\n",
       "    </tr>\n",
       "    <tr>\n",
       "      <th>1064</th>\n",
       "      <td>Meat &amp; Seafood</td>\n",
       "      <td>NaN</td>\n",
       "      <td>.</td>\n",
       "      <td>Rated 4.5 out of 5 stars based on 4 reviews.</td>\n",
       "      <td>Hillshire Farm Slow Roasted Turkey Breast, 11 ...</td>\n",
       "      <td>NaN</td>\n",
       "      <td>Gluten Free   No Artificial Ingredients   No N...</td>\n",
       "      <td>Available at your local Costco warehouse or cl...</td>\n",
       "    </tr>\n",
       "    <tr>\n",
       "      <th>1414</th>\n",
       "      <td>Poultry</td>\n",
       "      <td>NaN</td>\n",
       "      <td>.</td>\n",
       "      <td>Rated 4.5 out of 5 stars based on 4 reviews.</td>\n",
       "      <td>Hillshire Farm Slow Roasted Turkey Breast, 11 ...</td>\n",
       "      <td>NaN</td>\n",
       "      <td>Gluten Free   No Artificial Ingredients   No N...</td>\n",
       "      <td>Available at your local Costco warehouse or cl...</td>\n",
       "    </tr>\n",
       "    <tr>\n",
       "      <th>1480</th>\n",
       "      <td>Snacks</td>\n",
       "      <td>NaN</td>\n",
       "      <td>Costco Members Receive an Additional $5 OFF Ca...</td>\n",
       "      <td>NaN</td>\n",
       "      <td>FITCRUNCH - Costco Next</td>\n",
       "      <td>NaN</td>\n",
       "      <td>Non-GMO   Gluten Free   Soy Free   Flavor Mixo...</td>\n",
       "      <td>Shop Costco Next   Chef Robert Irvine’s FITCRU...</td>\n",
       "    </tr>\n",
       "  </tbody>\n",
       "</table>\n",
       "<p>1757 rows × 8 columns</p>\n",
       "</div>"
      ],
      "text/plain": [
       "        Sub Category       Price  \\\n",
       "1054  Meat & Seafood  $1,099.99    \n",
       "721     Gift Baskets  $1,399.99    \n",
       "562             Deli  $1,399.99    \n",
       "722     Gift Baskets  $1,999.99    \n",
       "552             Deli  $1,999.99    \n",
       "...              ...         ...   \n",
       "1053  Meat & Seafood    $999.99    \n",
       "1059  Meat & Seafood    $999.99    \n",
       "1064  Meat & Seafood         NaN   \n",
       "1414         Poultry         NaN   \n",
       "1480          Snacks         NaN   \n",
       "\n",
       "                                               Discount  \\\n",
       "1054                                        No Discount   \n",
       "721                                         No Discount   \n",
       "562                                         No Discount   \n",
       "722                                         No Discount   \n",
       "552                                         No Discount   \n",
       "...                                                 ...   \n",
       "1053                                        No Discount   \n",
       "1059                                        No Discount   \n",
       "1064                                                  .   \n",
       "1414                                                  .   \n",
       "1480  Costco Members Receive an Additional $5 OFF Ca...   \n",
       "\n",
       "                                              Rating  \\\n",
       "1054  Rated 4.6 out of 5 stars based on 657 reviews.   \n",
       "721    Rated 4.6 out of 5 stars based on 57 reviews.   \n",
       "562    Rated 4.6 out of 5 stars based on 57 reviews.   \n",
       "722       Rated 5 out of 5 stars based on 2 reviews.   \n",
       "552       Rated 5 out of 5 stars based on 2 reviews.   \n",
       "...                                              ...   \n",
       "1053  Rated 4.6 out of 5 stars based on 424 reviews.   \n",
       "1059   Rated 4.5 out of 5 stars based on 36 reviews.   \n",
       "1064    Rated 4.5 out of 5 stars based on 4 reviews.   \n",
       "1414    Rated 4.5 out of 5 stars based on 4 reviews.   \n",
       "1480                                             NaN   \n",
       "\n",
       "                                                  Title Currency  \\\n",
       "1054  Japanese Wagyu Boneless Ribeye Roast, A5 Grade...        $   \n",
       "721                       Plaza Osetra Kilo Caviar Pack        $   \n",
       "562                       Plaza Osetra Kilo Caviar Pack        $   \n",
       "722       Plaza Golden Osetra Caviar Kilo Pack, 35.2 oz        $   \n",
       "552       Plaza Golden Osetra Caviar Kilo Pack, 35.2 oz        $   \n",
       "...                                                 ...      ...   \n",
       "1053  Japanese Wagyu New York Strip Loin Roast, A5 G...        $   \n",
       "1059   Japanese Wagyu Tenderloin Roast, A5 Grade, 6 lbs        $   \n",
       "1064  Hillshire Farm Slow Roasted Turkey Breast, 11 ...      NaN   \n",
       "1414  Hillshire Farm Slow Roasted Turkey Breast, 11 ...      NaN   \n",
       "1480                            FITCRUNCH - Costco Next      NaN   \n",
       "\n",
       "                                                Feature  \\\n",
       "1054  1 A5 Grade, 12 lb. Boneless Ribeye Roast   Imp...   \n",
       "721   Vacuum sealed Caviar tin keeps 30 days unopene...   \n",
       "562   Vacuum sealed Caviar tin keeps 30 days unopene...   \n",
       "722   Vacuum sealed Caviar tin keeps 30 days unopene...   \n",
       "552   Vacuum sealed Caviar tin keeps 30 days unopene...   \n",
       "...                                                 ...   \n",
       "1053  A5 Grade, 11 lb New York Strip Loin Roast   Au...   \n",
       "1059  (1) A5 Grade, 6 lb Tenderloin Roast   Authenti...   \n",
       "1064  Gluten Free   No Artificial Ingredients   No N...   \n",
       "1414  Gluten Free   No Artificial Ingredients   No N...   \n",
       "1480  Non-GMO   Gluten Free   Soy Free   Flavor Mixo...   \n",
       "\n",
       "                                    Product Description  \n",
       "1054  When you take your first bite of our Wagyu Rib...  \n",
       "721   Plaza Osetra Kilo is an event sized tin of cav...  \n",
       "562   Plaza Osetra Kilo is an event sized tin of cav...  \n",
       "722   Plaza Golden Osetra Kilo is an event sized tin...  \n",
       "552   Plaza Golden Osetra Kilo is an event sized tin...  \n",
       "...                                                 ...  \n",
       "1053  Our Authentic Wagyu Striploin is artfully marb...  \n",
       "1059  Our Tenderloin is the most delicate of all our...  \n",
       "1064  Available at your local Costco warehouse or cl...  \n",
       "1414  Available at your local Costco warehouse or cl...  \n",
       "1480  Shop Costco Next   Chef Robert Irvine’s FITCRU...  \n",
       "\n",
       "[1757 rows x 8 columns]"
      ]
     },
     "execution_count": 17,
     "metadata": {},
     "output_type": "execute_result"
    }
   ],
   "source": [
    "# sorts the dataframe by given argument.\n",
    "df1.sort_values(by='Price')"
   ]
  },
  {
   "cell_type": "code",
   "execution_count": 18,
   "id": "7153305d231ebe0",
   "metadata": {
    "ExecuteTime": {
     "end_time": "2024-02-02T06:59:01.374076400Z",
     "start_time": "2024-02-02T06:59:01.290593700Z"
    },
    "collapsed": false
   },
   "outputs": [
    {
     "data": {
      "text/html": [
       "<div>\n",
       "<style scoped>\n",
       "    .dataframe tbody tr th:only-of-type {\n",
       "        vertical-align: middle;\n",
       "    }\n",
       "\n",
       "    .dataframe tbody tr th {\n",
       "        vertical-align: top;\n",
       "    }\n",
       "\n",
       "    .dataframe thead th {\n",
       "        text-align: right;\n",
       "    }\n",
       "</style>\n",
       "<table border=\"1\" class=\"dataframe\">\n",
       "  <thead>\n",
       "    <tr style=\"text-align: right;\">\n",
       "      <th></th>\n",
       "      <th>Sub Category</th>\n",
       "      <th>Price</th>\n",
       "      <th>Discount</th>\n",
       "      <th>Rating</th>\n",
       "      <th>Title</th>\n",
       "      <th>Currency</th>\n",
       "      <th>Feature</th>\n",
       "      <th>Product Description</th>\n",
       "    </tr>\n",
       "  </thead>\n",
       "  <tbody>\n",
       "    <tr>\n",
       "      <th>count</th>\n",
       "      <td>1757</td>\n",
       "      <td>1754</td>\n",
       "      <td>1757</td>\n",
       "      <td>682</td>\n",
       "      <td>1757</td>\n",
       "      <td>1752</td>\n",
       "      <td>1739</td>\n",
       "      <td>1715</td>\n",
       "    </tr>\n",
       "    <tr>\n",
       "      <th>unique</th>\n",
       "      <td>19</td>\n",
       "      <td>184</td>\n",
       "      <td>42</td>\n",
       "      <td>483</td>\n",
       "      <td>1484</td>\n",
       "      <td>1</td>\n",
       "      <td>1401</td>\n",
       "      <td>1435</td>\n",
       "    </tr>\n",
       "    <tr>\n",
       "      <th>top</th>\n",
       "      <td>Snacks</td>\n",
       "      <td>$14.99</td>\n",
       "      <td>No Discount</td>\n",
       "      <td>No Reviews</td>\n",
       "      <td>Ziploc Seal Top Freezer Bag, Gallon, 38-count,...</td>\n",
       "      <td>$</td>\n",
       "      <td>Pick Your Arrival Date at Checkout   Gift Mess...</td>\n",
       "      <td>Item may be available in your local warehouse ...</td>\n",
       "    </tr>\n",
       "    <tr>\n",
       "      <th>freq</th>\n",
       "      <td>293</td>\n",
       "      <td>81</td>\n",
       "      <td>1626</td>\n",
       "      <td>61</td>\n",
       "      <td>4</td>\n",
       "      <td>1752</td>\n",
       "      <td>7</td>\n",
       "      <td>5</td>\n",
       "    </tr>\n",
       "  </tbody>\n",
       "</table>\n",
       "</div>"
      ],
      "text/plain": [
       "       Sub Category    Price     Discount      Rating  \\\n",
       "count          1757     1754         1757         682   \n",
       "unique           19      184           42         483   \n",
       "top          Snacks  $14.99   No Discount  No Reviews   \n",
       "freq            293       81         1626          61   \n",
       "\n",
       "                                                    Title Currency  \\\n",
       "count                                                1757     1752   \n",
       "unique                                               1484        1   \n",
       "top     Ziploc Seal Top Freezer Bag, Gallon, 38-count,...        $   \n",
       "freq                                                    4     1752   \n",
       "\n",
       "                                                  Feature  \\\n",
       "count                                                1739   \n",
       "unique                                               1401   \n",
       "top     Pick Your Arrival Date at Checkout   Gift Mess...   \n",
       "freq                                                    7   \n",
       "\n",
       "                                      Product Description  \n",
       "count                                                1715  \n",
       "unique                                               1435  \n",
       "top     Item may be available in your local warehouse ...  \n",
       "freq                                                    5  "
      ]
     },
     "execution_count": 18,
     "metadata": {},
     "output_type": "execute_result"
    }
   ],
   "source": [
    "# The .describe() method prints the summary statistics of all numeric columns, such as count, mean, standard deviation, range, and quartiles of numeric columns.\n",
    "df1.describe()"
   ]
  },
  {
   "cell_type": "code",
   "execution_count": 19,
   "id": "d02d47b8fb1ddc52",
   "metadata": {
    "ExecuteTime": {
     "end_time": "2024-02-02T06:59:02.997711200Z",
     "start_time": "2024-02-02T06:59:02.875855800Z"
    },
    "collapsed": false
   },
   "outputs": [
    {
     "data": {
      "text/html": [
       "<div>\n",
       "<style scoped>\n",
       "    .dataframe tbody tr th:only-of-type {\n",
       "        vertical-align: middle;\n",
       "    }\n",
       "\n",
       "    .dataframe tbody tr th {\n",
       "        vertical-align: top;\n",
       "    }\n",
       "\n",
       "    .dataframe thead th {\n",
       "        text-align: right;\n",
       "    }\n",
       "</style>\n",
       "<table border=\"1\" class=\"dataframe\">\n",
       "  <thead>\n",
       "    <tr style=\"text-align: right;\">\n",
       "      <th></th>\n",
       "      <th>Sub Category</th>\n",
       "      <th>Price</th>\n",
       "      <th>Discount</th>\n",
       "      <th>Rating</th>\n",
       "      <th>Title</th>\n",
       "      <th>Currency</th>\n",
       "      <th>Feature</th>\n",
       "      <th>Product Description</th>\n",
       "    </tr>\n",
       "  </thead>\n",
       "  <tbody>\n",
       "    <tr>\n",
       "      <th>count</th>\n",
       "      <td>1757</td>\n",
       "      <td>1754</td>\n",
       "      <td>1757</td>\n",
       "      <td>682</td>\n",
       "      <td>1757</td>\n",
       "      <td>1752</td>\n",
       "      <td>1739</td>\n",
       "      <td>1715</td>\n",
       "    </tr>\n",
       "    <tr>\n",
       "      <th>unique</th>\n",
       "      <td>19</td>\n",
       "      <td>184</td>\n",
       "      <td>42</td>\n",
       "      <td>483</td>\n",
       "      <td>1484</td>\n",
       "      <td>1</td>\n",
       "      <td>1401</td>\n",
       "      <td>1435</td>\n",
       "    </tr>\n",
       "    <tr>\n",
       "      <th>top</th>\n",
       "      <td>Snacks</td>\n",
       "      <td>$14.99</td>\n",
       "      <td>No Discount</td>\n",
       "      <td>No Reviews</td>\n",
       "      <td>Ziploc Seal Top Freezer Bag, Gallon, 38-count,...</td>\n",
       "      <td>$</td>\n",
       "      <td>Pick Your Arrival Date at Checkout   Gift Mess...</td>\n",
       "      <td>Item may be available in your local warehouse ...</td>\n",
       "    </tr>\n",
       "    <tr>\n",
       "      <th>freq</th>\n",
       "      <td>293</td>\n",
       "      <td>81</td>\n",
       "      <td>1626</td>\n",
       "      <td>61</td>\n",
       "      <td>4</td>\n",
       "      <td>1752</td>\n",
       "      <td>7</td>\n",
       "      <td>5</td>\n",
       "    </tr>\n",
       "  </tbody>\n",
       "</table>\n",
       "</div>"
      ],
      "text/plain": [
       "       Sub Category    Price     Discount      Rating  \\\n",
       "count          1757     1754         1757         682   \n",
       "unique           19      184           42         483   \n",
       "top          Snacks  $14.99   No Discount  No Reviews   \n",
       "freq            293       81         1626          61   \n",
       "\n",
       "                                                    Title Currency  \\\n",
       "count                                                1757     1752   \n",
       "unique                                               1484        1   \n",
       "top     Ziploc Seal Top Freezer Bag, Gallon, 38-count,...        $   \n",
       "freq                                                    4     1752   \n",
       "\n",
       "                                                  Feature  \\\n",
       "count                                                1739   \n",
       "unique                                               1401   \n",
       "top     Pick Your Arrival Date at Checkout   Gift Mess...   \n",
       "freq                                                    7   \n",
       "\n",
       "                                      Product Description  \n",
       "count                                                1715  \n",
       "unique                                               1435  \n",
       "top     Item may be available in your local warehouse ...  \n",
       "freq                                                    5  "
      ]
     },
     "execution_count": 19,
     "metadata": {},
     "output_type": "execute_result"
    }
   ],
   "source": [
    "# You can also modify the quartiles using the percentiles argument. Here, for example, we’re looking at the 30%, 50%, and 70% percentiles of the numeric columns in DataFrame df.\n",
    "df1.describe(percentiles=[0.3, 0.5, 0.7])"
   ]
  },
  {
   "cell_type": "code",
   "execution_count": 21,
   "id": "e3bdc88f026e819d",
   "metadata": {
    "ExecuteTime": {
     "end_time": "2024-02-02T06:59:05.908095300Z",
     "start_time": "2024-02-02T06:59:05.805641500Z"
    },
    "collapsed": false
   },
   "outputs": [
    {
     "data": {
      "text/html": [
       "<div>\n",
       "<style scoped>\n",
       "    .dataframe tbody tr th:only-of-type {\n",
       "        vertical-align: middle;\n",
       "    }\n",
       "\n",
       "    .dataframe tbody tr th {\n",
       "        vertical-align: top;\n",
       "    }\n",
       "\n",
       "    .dataframe thead th {\n",
       "        text-align: right;\n",
       "    }\n",
       "</style>\n",
       "<table border=\"1\" class=\"dataframe\">\n",
       "  <thead>\n",
       "    <tr style=\"text-align: right;\">\n",
       "      <th></th>\n",
       "      <th>count</th>\n",
       "      <th>unique</th>\n",
       "      <th>top</th>\n",
       "      <th>freq</th>\n",
       "    </tr>\n",
       "  </thead>\n",
       "  <tbody>\n",
       "    <tr>\n",
       "      <th>Sub Category</th>\n",
       "      <td>1757</td>\n",
       "      <td>19</td>\n",
       "      <td>Snacks</td>\n",
       "      <td>293</td>\n",
       "    </tr>\n",
       "    <tr>\n",
       "      <th>Price</th>\n",
       "      <td>1754</td>\n",
       "      <td>184</td>\n",
       "      <td>$14.99</td>\n",
       "      <td>81</td>\n",
       "    </tr>\n",
       "    <tr>\n",
       "      <th>Discount</th>\n",
       "      <td>1757</td>\n",
       "      <td>42</td>\n",
       "      <td>No Discount</td>\n",
       "      <td>1626</td>\n",
       "    </tr>\n",
       "    <tr>\n",
       "      <th>Rating</th>\n",
       "      <td>682</td>\n",
       "      <td>483</td>\n",
       "      <td>No Reviews</td>\n",
       "      <td>61</td>\n",
       "    </tr>\n",
       "    <tr>\n",
       "      <th>Title</th>\n",
       "      <td>1757</td>\n",
       "      <td>1484</td>\n",
       "      <td>Ziploc Seal Top Freezer Bag, Gallon, 38-count,...</td>\n",
       "      <td>4</td>\n",
       "    </tr>\n",
       "    <tr>\n",
       "      <th>Currency</th>\n",
       "      <td>1752</td>\n",
       "      <td>1</td>\n",
       "      <td>$</td>\n",
       "      <td>1752</td>\n",
       "    </tr>\n",
       "    <tr>\n",
       "      <th>Feature</th>\n",
       "      <td>1739</td>\n",
       "      <td>1401</td>\n",
       "      <td>Pick Your Arrival Date at Checkout   Gift Mess...</td>\n",
       "      <td>7</td>\n",
       "    </tr>\n",
       "    <tr>\n",
       "      <th>Product Description</th>\n",
       "      <td>1715</td>\n",
       "      <td>1435</td>\n",
       "      <td>Item may be available in your local warehouse ...</td>\n",
       "      <td>5</td>\n",
       "    </tr>\n",
       "  </tbody>\n",
       "</table>\n",
       "</div>"
      ],
      "text/plain": [
       "                    count unique  \\\n",
       "Sub Category         1757     19   \n",
       "Price                1754    184   \n",
       "Discount             1757     42   \n",
       "Rating                682    483   \n",
       "Title                1757   1484   \n",
       "Currency             1752      1   \n",
       "Feature              1739   1401   \n",
       "Product Description  1715   1435   \n",
       "\n",
       "                                                                   top  freq  \n",
       "Sub Category                                                    Snacks   293  \n",
       "Price                                                          $14.99     81  \n",
       "Discount                                                   No Discount  1626  \n",
       "Rating                                                      No Reviews    61  \n",
       "Title                Ziploc Seal Top Freezer Bag, Gallon, 38-count,...     4  \n",
       "Currency                                                             $  1752  \n",
       "Feature              Pick Your Arrival Date at Checkout   Gift Mess...     7  \n",
       "Product Description  Item may be available in your local warehouse ...     5  "
      ]
     },
     "execution_count": 21,
     "metadata": {},
     "output_type": "execute_result"
    }
   ],
   "source": [
    "# we can do a transpose of the describe() table by using .T\n",
    "df1.describe().T"
   ]
  },
  {
   "cell_type": "code",
   "execution_count": null,
   "id": "6b1866aff6bfc3fd",
   "metadata": {
    "collapsed": false
   },
   "outputs": [],
   "source": [
    "# You can also isolate specific data types in your summary output by using the include argument. Here, for example, we’re only summarizing the columns with the integer data type. you can use both include, exclude both.\n",
    "df1.describe(include=[int])"
   ]
  },
  {
   "cell_type": "markdown",
   "id": "8ca580ee80c1d4dd",
   "metadata": {
    "collapsed": false
   },
   "source": [
    "## The .info() method is a quick way to look at the data types, missing values, and data size of a DataFrame. "
   ]
  },
  {
   "cell_type": "code",
   "execution_count": 22,
   "id": "a79d891463c27717",
   "metadata": {
    "ExecuteTime": {
     "end_time": "2024-02-02T07:00:10.307383900Z",
     "start_time": "2024-02-02T07:00:10.263137400Z"
    },
    "collapsed": false
   },
   "outputs": [
    {
     "name": "stdout",
     "output_type": "stream",
     "text": [
      "<class 'pandas.core.frame.DataFrame'>\n",
      "RangeIndex: 1757 entries, 0 to 1756\n",
      "Data columns (total 8 columns):\n",
      " #   Column               Non-Null Count  Dtype \n",
      "---  ------               --------------  ----- \n",
      " 0   Sub Category         1757 non-null   object\n",
      " 1   Price                1754 non-null   object\n",
      " 2   Discount             1757 non-null   object\n",
      " 3   Rating               682 non-null    object\n",
      " 4   Title                1757 non-null   object\n",
      " 5   Currency             1752 non-null   object\n",
      " 6   Feature              1739 non-null   object\n",
      " 7   Product Description  1715 non-null   object\n",
      "dtypes: object(8)\n",
      "memory usage: 109.9+ KB\n"
     ]
    }
   ],
   "source": [
    "df1.info()"
   ]
  },
  {
   "cell_type": "markdown",
   "id": "1e15ae890938529f",
   "metadata": {
    "collapsed": false
   },
   "source": [
    "## The number of rows and columns of a DataFrame can be identified using the .shape attribute of the DataFrame. It returns a tuple (row, column) and can be indexed to get only rows, and only columns count as output."
   ]
  },
  {
   "cell_type": "code",
   "execution_count": 29,
   "id": "94b35334a8fdc530",
   "metadata": {
    "ExecuteTime": {
     "end_time": "2024-02-02T07:02:11.374821700Z",
     "start_time": "2024-02-02T07:02:11.325478600Z"
    },
    "collapsed": false
   },
   "outputs": [
    {
     "name": "stdout",
     "output_type": "stream",
     "text": [
      "Data in tuple form ->  (1757, 8)\n",
      "Rows -> 1757\n",
      "Columns -> 8\n"
     ]
    }
   ],
   "source": [
    "print(\"Data in tuple form -> \", df1.shape) # Get the number of rows and columns\n",
    "print (\"Rows ->\", df1.shape[0]) # Get the number of rows only\n",
    "print (\"Columns ->\", df1.shape[1]) # Get the number of columns only"
   ]
  },
  {
   "cell_type": "markdown",
   "id": "a18020585ef845b3",
   "metadata": {
    "collapsed": false
   },
   "source": [
    "## Calling the .columns attribute of a DataFrame object returns the column names in the form of an Index"
   ]
  },
  {
   "cell_type": "code",
   "execution_count": 30,
   "id": "7f4513f46ac708a9",
   "metadata": {
    "ExecuteTime": {
     "end_time": "2024-02-02T07:02:47.881683900Z",
     "start_time": "2024-02-02T07:02:47.845052200Z"
    },
    "collapsed": false
   },
   "outputs": [
    {
     "data": {
      "text/plain": [
       "Index(['Sub Category', 'Price', 'Discount', 'Rating', 'Title', 'Currency',\n",
       "       'Feature', 'Product Description'],\n",
       "      dtype='object')"
      ]
     },
     "execution_count": 30,
     "metadata": {},
     "output_type": "execute_result"
    }
   ],
   "source": [
    "df1.columns"
   ]
  },
  {
   "cell_type": "code",
   "execution_count": 31,
   "id": "d9008dbaf6645174",
   "metadata": {
    "ExecuteTime": {
     "end_time": "2024-02-02T07:02:56.325076100Z",
     "start_time": "2024-02-02T07:02:56.205033700Z"
    },
    "collapsed": false
   },
   "outputs": [
    {
     "data": {
      "text/plain": [
       "['Sub Category',\n",
       " 'Price',\n",
       " 'Discount',\n",
       " 'Rating',\n",
       " 'Title',\n",
       " 'Currency',\n",
       " 'Feature',\n",
       " 'Product Description']"
      ]
     },
     "execution_count": 31,
     "metadata": {},
     "output_type": "execute_result"
    }
   ],
   "source": [
    "list(df1.columns)"
   ]
  },
  {
   "cell_type": "markdown",
   "id": "c522faeba3ea8d57",
   "metadata": {
    "collapsed": false
   },
   "source": [
    "## The .copy() method makes a copy of the original DataFrame. This is done to ensure that any changes to the copy don’t reflect in the original DataFrame.\n",
    "\n",
    "+ Loc Example:\n",
    "  + Using .loc (to be discussed later), you can set rows two to five of the Pregnancies column to NaN values, which denote missing values.\n",
    "    + example -> df2 = df.copy()\n",
    "    + df2.loc[2:5,'Pregnancies'] = None\n",
    "    + df2.head(7)\n",
    "  + Given it's often more useful to know how much missing data you have, you can combine .isnull() with .sum() to count the number of nulls in each column."
   ]
  },
  {
   "cell_type": "code",
   "execution_count": 46,
   "id": "cd265130e4268a93",
   "metadata": {
    "collapsed": false,
    "ExecuteTime": {
     "end_time": "2024-02-02T07:17:32.892997Z",
     "start_time": "2024-02-02T07:17:32.870522600Z"
    }
   },
   "outputs": [
    {
     "data": {
      "text/plain": "Sub Category              0\nPrice                     3\nDiscount                  0\nRating                 1075\nTitle                     0\nCurrency                  5\nFeature                  18\nProduct Description      42\ndtype: int64"
     },
     "execution_count": 46,
     "metadata": {},
     "output_type": "execute_result"
    }
   ],
   "source": [
    "df1.isnull().sum()"
   ]
  },
  {
   "cell_type": "code",
   "outputs": [
    {
     "data": {
      "text/plain": "      Sub Category  Price  Discount  Rating  Title  Currency  Feature  \\\n0            False  False     False   False  False     False    False   \n1            False  False     False   False  False     False    False   \n2            False  False     False   False  False     False    False   \n3            False  False     False   False  False     False    False   \n4            False  False     False   False  False     False    False   \n...            ...    ...       ...     ...    ...       ...      ...   \n1752         False  False     False    True  False     False    False   \n1753         False  False     False    True  False     False    False   \n1754         False  False     False    True  False     False    False   \n1755         False  False     False    True  False     False    False   \n1756         False  False     False    True  False     False    False   \n\n      Product Description  \n0                   False  \n1                   False  \n2                   False  \n3                   False  \n4                   False  \n...                   ...  \n1752                False  \n1753                False  \n1754                False  \n1755                False  \n1756                False  \n\n[1757 rows x 8 columns]",
      "text/html": "<div>\n<style scoped>\n    .dataframe tbody tr th:only-of-type {\n        vertical-align: middle;\n    }\n\n    .dataframe tbody tr th {\n        vertical-align: top;\n    }\n\n    .dataframe thead th {\n        text-align: right;\n    }\n</style>\n<table border=\"1\" class=\"dataframe\">\n  <thead>\n    <tr style=\"text-align: right;\">\n      <th></th>\n      <th>Sub Category</th>\n      <th>Price</th>\n      <th>Discount</th>\n      <th>Rating</th>\n      <th>Title</th>\n      <th>Currency</th>\n      <th>Feature</th>\n      <th>Product Description</th>\n    </tr>\n  </thead>\n  <tbody>\n    <tr>\n      <th>0</th>\n      <td>False</td>\n      <td>False</td>\n      <td>False</td>\n      <td>False</td>\n      <td>False</td>\n      <td>False</td>\n      <td>False</td>\n      <td>False</td>\n    </tr>\n    <tr>\n      <th>1</th>\n      <td>False</td>\n      <td>False</td>\n      <td>False</td>\n      <td>False</td>\n      <td>False</td>\n      <td>False</td>\n      <td>False</td>\n      <td>False</td>\n    </tr>\n    <tr>\n      <th>2</th>\n      <td>False</td>\n      <td>False</td>\n      <td>False</td>\n      <td>False</td>\n      <td>False</td>\n      <td>False</td>\n      <td>False</td>\n      <td>False</td>\n    </tr>\n    <tr>\n      <th>3</th>\n      <td>False</td>\n      <td>False</td>\n      <td>False</td>\n      <td>False</td>\n      <td>False</td>\n      <td>False</td>\n      <td>False</td>\n      <td>False</td>\n    </tr>\n    <tr>\n      <th>4</th>\n      <td>False</td>\n      <td>False</td>\n      <td>False</td>\n      <td>False</td>\n      <td>False</td>\n      <td>False</td>\n      <td>False</td>\n      <td>False</td>\n    </tr>\n    <tr>\n      <th>...</th>\n      <td>...</td>\n      <td>...</td>\n      <td>...</td>\n      <td>...</td>\n      <td>...</td>\n      <td>...</td>\n      <td>...</td>\n      <td>...</td>\n    </tr>\n    <tr>\n      <th>1752</th>\n      <td>False</td>\n      <td>False</td>\n      <td>False</td>\n      <td>True</td>\n      <td>False</td>\n      <td>False</td>\n      <td>False</td>\n      <td>False</td>\n    </tr>\n    <tr>\n      <th>1753</th>\n      <td>False</td>\n      <td>False</td>\n      <td>False</td>\n      <td>True</td>\n      <td>False</td>\n      <td>False</td>\n      <td>False</td>\n      <td>False</td>\n    </tr>\n    <tr>\n      <th>1754</th>\n      <td>False</td>\n      <td>False</td>\n      <td>False</td>\n      <td>True</td>\n      <td>False</td>\n      <td>False</td>\n      <td>False</td>\n      <td>False</td>\n    </tr>\n    <tr>\n      <th>1755</th>\n      <td>False</td>\n      <td>False</td>\n      <td>False</td>\n      <td>True</td>\n      <td>False</td>\n      <td>False</td>\n      <td>False</td>\n      <td>False</td>\n    </tr>\n    <tr>\n      <th>1756</th>\n      <td>False</td>\n      <td>False</td>\n      <td>False</td>\n      <td>True</td>\n      <td>False</td>\n      <td>False</td>\n      <td>False</td>\n      <td>False</td>\n    </tr>\n  </tbody>\n</table>\n<p>1757 rows × 8 columns</p>\n</div>"
     },
     "execution_count": 47,
     "metadata": {},
     "output_type": "execute_result"
    }
   ],
   "source": [
    "df1.isnull()"
   ],
   "metadata": {
    "collapsed": false,
    "ExecuteTime": {
     "end_time": "2024-02-02T07:17:38.645676900Z",
     "start_time": "2024-02-02T07:17:38.597394300Z"
    }
   },
   "id": "7f7d2ebd161f9f0c",
   "execution_count": 47
  },
  {
   "cell_type": "markdown",
   "source": [
    "# Some more important points\n",
    "+ Isolating one column using [ ] , df['Outcome']\n",
    "+ Isolating two or more columns using [[ ]] , df[['Pregnancies', 'Outcome']]\n",
    "+ Isolating one row using [ ] , df[df.index==1]\n",
    "+ Isolating two or more rows using [ ] , df[df.index.isin(range(2,10))]\n",
    "\n",
    "## Using .loc[] and .iloc[] to fetch rows\n",
    "+ You can fetch specific rows by labels or conditions using .loc[] and .iloc[] (\"location\" and \"integer location\"). .loc[] uses a label to point to a row, column or cell, whereas .iloc[] uses the numeric position., *df2.index = range(1,769)*\n",
    "+ You can also fetch multiple rows by providing a range in square brackets."
   ],
   "metadata": {
    "collapsed": false
   },
   "id": "ca96438172efaadb"
  },
  {
   "cell_type": "code",
   "outputs": [
    {
     "data": {
      "text/plain": "        Sub Category     Price     Discount  \\\n0  Bakery & Desserts   $56.99   No Discount   \n1  Bakery & Desserts  $159.99   No Discount   \n2  Bakery & Desserts   $44.99   No Discount   \n\n                                           Rating  \\\n0  Rated 4.3 out of 5 stars based on 265 reviews.   \n1      Rated 5 out of 5 stars based on 1 reviews.   \n2  Rated 4.1 out of 5 stars based on 441 reviews.   \n\n                                               Title Currency  \\\n0  David’s Cookies Mile High Peanut Butter Cake, ...        $   \n1  The Cake Bake Shop 8\" Round Carrot Cake (16-22...        $   \n2  St Michel Madeleine, Classic French Sponge Cak...        $   \n\n                                             Feature  \\\n0  \"10\"\" Peanut Butter Cake\\nCertified Kosher OU-...   \n1  Spiced Carrot Cake with Cream Cheese Frosting ...   \n2  100 count\\nIndividually wrapped\\nMade in and I...   \n\n                                 Product Description  \n0  A cake the dessert epicure will die for!Our To...  \n1  Due to the perishable nature of this item, ord...  \n2  Moist and buttery sponge cakes with the tradit...  ",
      "text/html": "<div>\n<style scoped>\n    .dataframe tbody tr th:only-of-type {\n        vertical-align: middle;\n    }\n\n    .dataframe tbody tr th {\n        vertical-align: top;\n    }\n\n    .dataframe thead th {\n        text-align: right;\n    }\n</style>\n<table border=\"1\" class=\"dataframe\">\n  <thead>\n    <tr style=\"text-align: right;\">\n      <th></th>\n      <th>Sub Category</th>\n      <th>Price</th>\n      <th>Discount</th>\n      <th>Rating</th>\n      <th>Title</th>\n      <th>Currency</th>\n      <th>Feature</th>\n      <th>Product Description</th>\n    </tr>\n  </thead>\n  <tbody>\n    <tr>\n      <th>0</th>\n      <td>Bakery &amp; Desserts</td>\n      <td>$56.99</td>\n      <td>No Discount</td>\n      <td>Rated 4.3 out of 5 stars based on 265 reviews.</td>\n      <td>David’s Cookies Mile High Peanut Butter Cake, ...</td>\n      <td>$</td>\n      <td>\"10\"\" Peanut Butter Cake\\nCertified Kosher OU-...</td>\n      <td>A cake the dessert epicure will die for!Our To...</td>\n    </tr>\n    <tr>\n      <th>1</th>\n      <td>Bakery &amp; Desserts</td>\n      <td>$159.99</td>\n      <td>No Discount</td>\n      <td>Rated 5 out of 5 stars based on 1 reviews.</td>\n      <td>The Cake Bake Shop 8\" Round Carrot Cake (16-22...</td>\n      <td>$</td>\n      <td>Spiced Carrot Cake with Cream Cheese Frosting ...</td>\n      <td>Due to the perishable nature of this item, ord...</td>\n    </tr>\n    <tr>\n      <th>2</th>\n      <td>Bakery &amp; Desserts</td>\n      <td>$44.99</td>\n      <td>No Discount</td>\n      <td>Rated 4.1 out of 5 stars based on 441 reviews.</td>\n      <td>St Michel Madeleine, Classic French Sponge Cak...</td>\n      <td>$</td>\n      <td>100 count\\nIndividually wrapped\\nMade in and I...</td>\n      <td>Moist and buttery sponge cakes with the tradit...</td>\n    </tr>\n  </tbody>\n</table>\n</div>"
     },
     "execution_count": 52,
     "metadata": {},
     "output_type": "execute_result"
    }
   ],
   "source": [
    "df1.loc[0:2]"
   ],
   "metadata": {
    "collapsed": false,
    "ExecuteTime": {
     "end_time": "2024-02-02T08:40:35.848152500Z",
     "start_time": "2024-02-02T08:40:35.786992800Z"
    }
   },
   "id": "52b3df665dd61555",
   "execution_count": 52
  },
  {
   "cell_type": "code",
   "outputs": [
    {
     "data": {
      "text/plain": "Sub Category                                           Bakery & Desserts\nPrice                                                            $56.99 \nDiscount                                                     No Discount\nRating                    Rated 4.3 out of 5 stars based on 265 reviews.\nTitle                  David’s Cookies Mile High Peanut Butter Cake, ...\nCurrency                                                               $\nFeature                \"10\"\" Peanut Butter Cake\\nCertified Kosher OU-...\nProduct Description    A cake the dessert epicure will die for!Our To...\nName: 0, dtype: object"
     },
     "execution_count": 51,
     "metadata": {},
     "output_type": "execute_result"
    }
   ],
   "source": [
    "df1.iloc[0]"
   ],
   "metadata": {
    "collapsed": false,
    "ExecuteTime": {
     "end_time": "2024-02-02T08:40:01.775628500Z",
     "start_time": "2024-02-02T08:40:01.733837300Z"
    }
   },
   "id": "3f5a4d2d8842af52",
   "execution_count": 51
  },
  {
   "cell_type": "markdown",
   "source": [
    "## You can also subset with .loc[] and .iloc[] by using a list instead of a range.\n",
    "\n",
    "## These are some important points which should be remembered - \n",
    "+ You can also select specific columns along with rows. This is where .iloc[] is different from .loc[] – it requires column location and not column labels.\n",
    "+ For faster workflows, you can pass in the starting index of a row as a range.\n",
    "  + df2.loc[760:, ['Pregnancies', 'Glucose', 'BloodPressure']]\n"
   ],
   "metadata": {
    "collapsed": false
   },
   "id": "2f134f882ab2a7d2"
  },
  {
   "cell_type": "code",
   "outputs": [
    {
     "data": {
      "text/plain": "        Sub Category     Price     Discount  \\\n1  Bakery & Desserts  $159.99   No Discount   \n2  Bakery & Desserts   $44.99   No Discount   \n3  Bakery & Desserts   $39.99   No Discount   \n\n                                            Rating  \\\n1       Rated 5 out of 5 stars based on 1 reviews.   \n2   Rated 4.1 out of 5 stars based on 441 reviews.   \n3  Rated 4.7 out of 5 stars based on 9459 reviews.   \n\n                                               Title Currency  \\\n1  The Cake Bake Shop 8\" Round Carrot Cake (16-22...        $   \n2  St Michel Madeleine, Classic French Sponge Cak...        $   \n3  David's Cookies Butter Pecan Meltaways 32 oz, ...        $   \n\n                                             Feature  \\\n1  Spiced Carrot Cake with Cream Cheese Frosting ...   \n2  100 count\\nIndividually wrapped\\nMade in and I...   \n3  Butter Pecan Meltaways\\n32 oz 2-Pack\\nNo Prese...   \n\n                                 Product Description  \n1  Due to the perishable nature of this item, ord...  \n2  Moist and buttery sponge cakes with the tradit...  \n3  These delectable butter pecan meltaways are th...  ",
      "text/html": "<div>\n<style scoped>\n    .dataframe tbody tr th:only-of-type {\n        vertical-align: middle;\n    }\n\n    .dataframe tbody tr th {\n        vertical-align: top;\n    }\n\n    .dataframe thead th {\n        text-align: right;\n    }\n</style>\n<table border=\"1\" class=\"dataframe\">\n  <thead>\n    <tr style=\"text-align: right;\">\n      <th></th>\n      <th>Sub Category</th>\n      <th>Price</th>\n      <th>Discount</th>\n      <th>Rating</th>\n      <th>Title</th>\n      <th>Currency</th>\n      <th>Feature</th>\n      <th>Product Description</th>\n    </tr>\n  </thead>\n  <tbody>\n    <tr>\n      <th>1</th>\n      <td>Bakery &amp; Desserts</td>\n      <td>$159.99</td>\n      <td>No Discount</td>\n      <td>Rated 5 out of 5 stars based on 1 reviews.</td>\n      <td>The Cake Bake Shop 8\" Round Carrot Cake (16-22...</td>\n      <td>$</td>\n      <td>Spiced Carrot Cake with Cream Cheese Frosting ...</td>\n      <td>Due to the perishable nature of this item, ord...</td>\n    </tr>\n    <tr>\n      <th>2</th>\n      <td>Bakery &amp; Desserts</td>\n      <td>$44.99</td>\n      <td>No Discount</td>\n      <td>Rated 4.1 out of 5 stars based on 441 reviews.</td>\n      <td>St Michel Madeleine, Classic French Sponge Cak...</td>\n      <td>$</td>\n      <td>100 count\\nIndividually wrapped\\nMade in and I...</td>\n      <td>Moist and buttery sponge cakes with the tradit...</td>\n    </tr>\n    <tr>\n      <th>3</th>\n      <td>Bakery &amp; Desserts</td>\n      <td>$39.99</td>\n      <td>No Discount</td>\n      <td>Rated 4.7 out of 5 stars based on 9459 reviews.</td>\n      <td>David's Cookies Butter Pecan Meltaways 32 oz, ...</td>\n      <td>$</td>\n      <td>Butter Pecan Meltaways\\n32 oz 2-Pack\\nNo Prese...</td>\n      <td>These delectable butter pecan meltaways are th...</td>\n    </tr>\n  </tbody>\n</table>\n</div>"
     },
     "execution_count": 53,
     "metadata": {},
     "output_type": "execute_result"
    }
   ],
   "source": [
    "df1.loc[[1,2,3]]"
   ],
   "metadata": {
    "collapsed": false,
    "ExecuteTime": {
     "end_time": "2024-02-02T08:41:11.799744Z",
     "start_time": "2024-02-02T08:41:11.303890100Z"
    }
   },
   "id": "7664057d61f0607f",
   "execution_count": 53
  },
  {
   "cell_type": "code",
   "outputs": [
    {
     "data": {
      "text/plain": "        Sub Category     Price Currency\n1  Bakery & Desserts  $159.99         $\n2  Bakery & Desserts   $44.99         $\n3  Bakery & Desserts   $39.99         $\n4  Bakery & Desserts   $59.99         $\n5  Bakery & Desserts   $59.99         $",
      "text/html": "<div>\n<style scoped>\n    .dataframe tbody tr th:only-of-type {\n        vertical-align: middle;\n    }\n\n    .dataframe tbody tr th {\n        vertical-align: top;\n    }\n\n    .dataframe thead th {\n        text-align: right;\n    }\n</style>\n<table border=\"1\" class=\"dataframe\">\n  <thead>\n    <tr style=\"text-align: right;\">\n      <th></th>\n      <th>Sub Category</th>\n      <th>Price</th>\n      <th>Currency</th>\n    </tr>\n  </thead>\n  <tbody>\n    <tr>\n      <th>1</th>\n      <td>Bakery &amp; Desserts</td>\n      <td>$159.99</td>\n      <td>$</td>\n    </tr>\n    <tr>\n      <th>2</th>\n      <td>Bakery &amp; Desserts</td>\n      <td>$44.99</td>\n      <td>$</td>\n    </tr>\n    <tr>\n      <th>3</th>\n      <td>Bakery &amp; Desserts</td>\n      <td>$39.99</td>\n      <td>$</td>\n    </tr>\n    <tr>\n      <th>4</th>\n      <td>Bakery &amp; Desserts</td>\n      <td>$59.99</td>\n      <td>$</td>\n    </tr>\n    <tr>\n      <th>5</th>\n      <td>Bakery &amp; Desserts</td>\n      <td>$59.99</td>\n      <td>$</td>\n    </tr>\n  </tbody>\n</table>\n</div>"
     },
     "execution_count": 55,
     "metadata": {},
     "output_type": "execute_result"
    }
   ],
   "source": [
    "df1.loc[1:5, ['Sub Category', 'Price', 'Currency']]"
   ],
   "metadata": {
    "collapsed": false,
    "ExecuteTime": {
     "end_time": "2024-02-02T08:42:28.065010600Z",
     "start_time": "2024-02-02T08:42:27.506406Z"
    }
   },
   "id": "ca1e721289fd128a",
   "execution_count": 55
  },
  {
   "cell_type": "code",
   "outputs": [
    {
     "data": {
      "text/plain": "          Sub Category     Price     Discount\n100  Beverages & Water   $29.99   No Discount\n101  Beverages & Water   $18.99   No Discount\n102  Beverages & Water   $37.99   No Discount\n103  Beverages & Water   $19.99   No Discount\n104  Beverages & Water  $139.99   No Discount\n105  Beverages & Water   $18.99   No Discount\n106  Beverages & Water   $37.99   No Discount\n107  Beverages & Water  $159.99   No Discount\n108  Beverages & Water   $19.99   No Discount\n109  Beverages & Water   $13.79   No Discount",
      "text/html": "<div>\n<style scoped>\n    .dataframe tbody tr th:only-of-type {\n        vertical-align: middle;\n    }\n\n    .dataframe tbody tr th {\n        vertical-align: top;\n    }\n\n    .dataframe thead th {\n        text-align: right;\n    }\n</style>\n<table border=\"1\" class=\"dataframe\">\n  <thead>\n    <tr style=\"text-align: right;\">\n      <th></th>\n      <th>Sub Category</th>\n      <th>Price</th>\n      <th>Discount</th>\n    </tr>\n  </thead>\n  <tbody>\n    <tr>\n      <th>100</th>\n      <td>Beverages &amp; Water</td>\n      <td>$29.99</td>\n      <td>No Discount</td>\n    </tr>\n    <tr>\n      <th>101</th>\n      <td>Beverages &amp; Water</td>\n      <td>$18.99</td>\n      <td>No Discount</td>\n    </tr>\n    <tr>\n      <th>102</th>\n      <td>Beverages &amp; Water</td>\n      <td>$37.99</td>\n      <td>No Discount</td>\n    </tr>\n    <tr>\n      <th>103</th>\n      <td>Beverages &amp; Water</td>\n      <td>$19.99</td>\n      <td>No Discount</td>\n    </tr>\n    <tr>\n      <th>104</th>\n      <td>Beverages &amp; Water</td>\n      <td>$139.99</td>\n      <td>No Discount</td>\n    </tr>\n    <tr>\n      <th>105</th>\n      <td>Beverages &amp; Water</td>\n      <td>$18.99</td>\n      <td>No Discount</td>\n    </tr>\n    <tr>\n      <th>106</th>\n      <td>Beverages &amp; Water</td>\n      <td>$37.99</td>\n      <td>No Discount</td>\n    </tr>\n    <tr>\n      <th>107</th>\n      <td>Beverages &amp; Water</td>\n      <td>$159.99</td>\n      <td>No Discount</td>\n    </tr>\n    <tr>\n      <th>108</th>\n      <td>Beverages &amp; Water</td>\n      <td>$19.99</td>\n      <td>No Discount</td>\n    </tr>\n    <tr>\n      <th>109</th>\n      <td>Beverages &amp; Water</td>\n      <td>$13.79</td>\n      <td>No Discount</td>\n    </tr>\n  </tbody>\n</table>\n</div>"
     },
     "execution_count": 57,
     "metadata": {},
     "output_type": "execute_result"
    }
   ],
   "source": [
    "df1.iloc[100:110, :3]"
   ],
   "metadata": {
    "collapsed": false,
    "ExecuteTime": {
     "end_time": "2024-02-02T08:43:02.157438100Z",
     "start_time": "2024-02-02T08:43:02.093935200Z"
    }
   },
   "id": "ed7f2e7f1b4fa32",
   "execution_count": 57
  },
  {
   "cell_type": "markdown",
   "source": [
    "## You can update/modify certain values by using the assignment operator =\n",
    "+ df2.loc[df['Age']==81, ['Age']] = 80"
   ],
   "metadata": {
    "collapsed": false
   },
   "id": "991df0e63187a986"
  },
  {
   "cell_type": "markdown",
   "source": [
    "## Conditional slicing (that fits certain conditions)\n",
    "+ pandas lets you filter data by conditions over row/column values.\n",
    "+ Example => df[df.BloodPressure == 122]\n",
    "+ You can use a > operator to draw comparisons.\n",
    "+ Example => df.loc[df['BloodPressure'] > 100, ['Pregnancies', 'Glucose', 'BloodPressure']]"
   ],
   "metadata": {
    "collapsed": false
   },
   "id": "21e9a214a1aee264"
  },
  {
   "cell_type": "markdown",
   "source": [
    "# Cleaning data using pandas "
   ],
   "metadata": {
    "collapsed": false
   },
   "id": "2d095532de0c696"
  },
  {
   "cell_type": "code",
   "outputs": [
    {
     "data": {
      "text/plain": "Sub Category              0\nPrice                     3\nDiscount                  0\nRating                 1075\nTitle                     0\nCurrency                  5\nFeature                  18\nProduct Description      42\ndtype: int64"
     },
     "execution_count": 81,
     "metadata": {},
     "output_type": "execute_result"
    }
   ],
   "source": [
    "(df1.isnull().sum())"
   ],
   "metadata": {
    "collapsed": false,
    "ExecuteTime": {
     "end_time": "2024-02-02T09:03:41.296204300Z",
     "start_time": "2024-02-02T09:03:41.264036300Z"
    }
   },
   "id": "a3454edb7c646a77",
   "execution_count": 81
  },
  {
   "cell_type": "markdown",
   "source": [
    "## Dealing with missing data technique #1: Dropping missing values\n",
    "+ One way to deal with missing data is to drop it. This is particularly useful in cases where you have plenty of data and losing a small portion won’t impact the downstream analysis. You can use a .dropna() method"
   ],
   "metadata": {
    "collapsed": false
   },
   "id": "b7e704e12caed551"
  },
  {
   "cell_type": "code",
   "outputs": [
    {
     "name": "stdout",
     "output_type": "stream",
     "text": [
      "Shape before dropping na value => (1757, 8)\n",
      "Shape after dropping na => (673, 8)\n"
     ]
    }
   ],
   "source": [
    "df3 = df1.copy()\n",
    "df3 = df3.dropna()\n",
    "print(\"Shape before dropping na value =>\", df1.shape)\n",
    "print(\"Shape after dropping na =>\",df3.shape)"
   ],
   "metadata": {
    "collapsed": false,
    "ExecuteTime": {
     "end_time": "2024-02-02T09:06:22.544229300Z",
     "start_time": "2024-02-02T09:06:22.187612700Z"
    }
   },
   "id": "506791e5190b5111",
   "execution_count": 82
  },
  {
   "cell_type": "markdown",
   "source": [
    "* Important note point.\n",
    "* The axis argument lets you specify whether you are dropping rows, or columns, with missing values. The default axis removes the rows containing NaNs. \n",
    "* Use axis = 1 to remove the columns with one or more NaN values. Also, notice how we are using the argument inplace=True which lets you skip saving the output of .dropna() into a new DataFrame.\n",
    "* You can also drop both rows and columns with missing values by setting the how argument to 'all'"
   ],
   "metadata": {
    "collapsed": false
   },
   "id": "944450af7946ca15"
  },
  {
   "cell_type": "code",
   "outputs": [
    {
     "data": {
      "text/plain": "           Sub Category     Discount  \\\n0     Bakery & Desserts  No Discount   \n1     Bakery & Desserts  No Discount   \n2     Bakery & Desserts  No Discount   \n3     Bakery & Desserts  No Discount   \n4     Bakery & Desserts  No Discount   \n...                 ...          ...   \n1752             Snacks  No Discount   \n1753             Snacks  No Discount   \n1754             Snacks  No Discount   \n1755             Snacks  No Discount   \n1756             Snacks  No Discount   \n\n                                                  Title  \n0     David’s Cookies Mile High Peanut Butter Cake, ...  \n1     The Cake Bake Shop 8\" Round Carrot Cake (16-22...  \n2     St Michel Madeleine, Classic French Sponge Cak...  \n3     David's Cookies Butter Pecan Meltaways 32 oz, ...  \n4     David’s Cookies Premier Chocolate Cake, 7.2 lb...  \n...                                                 ...  \n1752  Oberto Thin Style Smoked Sausage Stick, Cockta...  \n1753        Cheetos Crunchy, Original, 2.1 oz, 64-count  \n1754  Sabritas Chile & Limon Mix, Variety Pack, 30-c...  \n1755             Fruit Roll-Ups, Variety Pack, 72-count  \n1756  Takis, Rolled Tortilla Chips, Intense Nacho, 1...  \n\n[1757 rows x 3 columns]",
      "text/html": "<div>\n<style scoped>\n    .dataframe tbody tr th:only-of-type {\n        vertical-align: middle;\n    }\n\n    .dataframe tbody tr th {\n        vertical-align: top;\n    }\n\n    .dataframe thead th {\n        text-align: right;\n    }\n</style>\n<table border=\"1\" class=\"dataframe\">\n  <thead>\n    <tr style=\"text-align: right;\">\n      <th></th>\n      <th>Sub Category</th>\n      <th>Discount</th>\n      <th>Title</th>\n    </tr>\n  </thead>\n  <tbody>\n    <tr>\n      <th>0</th>\n      <td>Bakery &amp; Desserts</td>\n      <td>No Discount</td>\n      <td>David’s Cookies Mile High Peanut Butter Cake, ...</td>\n    </tr>\n    <tr>\n      <th>1</th>\n      <td>Bakery &amp; Desserts</td>\n      <td>No Discount</td>\n      <td>The Cake Bake Shop 8\" Round Carrot Cake (16-22...</td>\n    </tr>\n    <tr>\n      <th>2</th>\n      <td>Bakery &amp; Desserts</td>\n      <td>No Discount</td>\n      <td>St Michel Madeleine, Classic French Sponge Cak...</td>\n    </tr>\n    <tr>\n      <th>3</th>\n      <td>Bakery &amp; Desserts</td>\n      <td>No Discount</td>\n      <td>David's Cookies Butter Pecan Meltaways 32 oz, ...</td>\n    </tr>\n    <tr>\n      <th>4</th>\n      <td>Bakery &amp; Desserts</td>\n      <td>No Discount</td>\n      <td>David’s Cookies Premier Chocolate Cake, 7.2 lb...</td>\n    </tr>\n    <tr>\n      <th>...</th>\n      <td>...</td>\n      <td>...</td>\n      <td>...</td>\n    </tr>\n    <tr>\n      <th>1752</th>\n      <td>Snacks</td>\n      <td>No Discount</td>\n      <td>Oberto Thin Style Smoked Sausage Stick, Cockta...</td>\n    </tr>\n    <tr>\n      <th>1753</th>\n      <td>Snacks</td>\n      <td>No Discount</td>\n      <td>Cheetos Crunchy, Original, 2.1 oz, 64-count</td>\n    </tr>\n    <tr>\n      <th>1754</th>\n      <td>Snacks</td>\n      <td>No Discount</td>\n      <td>Sabritas Chile &amp; Limon Mix, Variety Pack, 30-c...</td>\n    </tr>\n    <tr>\n      <th>1755</th>\n      <td>Snacks</td>\n      <td>No Discount</td>\n      <td>Fruit Roll-Ups, Variety Pack, 72-count</td>\n    </tr>\n    <tr>\n      <th>1756</th>\n      <td>Snacks</td>\n      <td>No Discount</td>\n      <td>Takis, Rolled Tortilla Chips, Intense Nacho, 1...</td>\n    </tr>\n  </tbody>\n</table>\n<p>1757 rows × 3 columns</p>\n</div>"
     },
     "execution_count": 93,
     "metadata": {},
     "output_type": "execute_result"
    }
   ],
   "source": [
    "# Those columns are dropped which has na values by keeping axis=1, and by default axis=0 and inplace=False\n",
    "df4 = df1.copy()\n",
    "df4.dropna(inplace=True, axis=1)\n",
    "df4"
   ],
   "metadata": {
    "collapsed": false,
    "ExecuteTime": {
     "end_time": "2024-02-02T09:40:22.144883500Z",
     "start_time": "2024-02-02T09:40:22.076179900Z"
    }
   },
   "id": "b6cb0c66f6a09fc4",
   "execution_count": 93
  },
  {
   "cell_type": "markdown",
   "source": [
    "## Dealing with missing data technique #2: Replacing missing values.\n",
    "+ Instead of dropping, replacing missing values with a summary statistic or a specific value (depending on the use case) maybe the best way to go. For example, if there is one missing row from a temperature column denoting temperatures throughout the days of the week, replacing that missing value with the average temperature of that week may be more effective than dropping values completely. "
   ],
   "metadata": {
    "collapsed": false
   },
   "id": "ef544b63c18a8fd0"
  },
  {
   "cell_type": "code",
   "outputs": [],
   "source": [
    "df3 = pd.DataFrame(temp)\n",
    "# Get the mean of Pregnancies\n",
    "mean_value = df3['Price'].mean()\n",
    "# Fill missing values using .fillna()\n",
    "df3 = df3.fillna(mean_value)"
   ],
   "metadata": {
    "collapsed": false,
    "ExecuteTime": {
     "end_time": "2024-02-02T09:39:46.829846500Z",
     "start_time": "2024-02-02T09:39:46.791376700Z"
    }
   },
   "id": "4bc2a98118aeffae",
   "execution_count": 91
  },
  {
   "cell_type": "markdown",
   "source": [
    "## Dealing with Duplicate Data\n",
    "+ Let's add some duplicates to the original data to learn how to eliminate duplicates in a DataFrame. Here, we are using the .concat() method to concatenate the rows"
   ],
   "metadata": {
    "collapsed": false
   },
   "id": "8f00689a3d5181b3"
  },
  {
   "cell_type": "code",
   "outputs": [
    {
     "data": {
      "text/plain": "(3514, 8)"
     },
     "execution_count": 94,
     "metadata": {},
     "output_type": "execute_result"
    }
   ],
   "source": [
    "df5 = pd.concat([df1, df1])\n",
    "df5.shape"
   ],
   "metadata": {
    "collapsed": false,
    "ExecuteTime": {
     "end_time": "2024-02-02T09:42:37.761506700Z",
     "start_time": "2024-02-02T09:42:37.726780600Z"
    }
   },
   "id": "af4884e3943a1516",
   "execution_count": 94
  },
  {
   "cell_type": "code",
   "outputs": [
    {
     "data": {
      "text/plain": "(1754, 8)"
     },
     "execution_count": 95,
     "metadata": {},
     "output_type": "execute_result"
    }
   ],
   "source": [
    "df5 = df5.drop_duplicates()\n",
    "df5.shape"
   ],
   "metadata": {
    "collapsed": false,
    "ExecuteTime": {
     "end_time": "2024-02-02T09:43:00.775340Z",
     "start_time": "2024-02-02T09:43:00.383228600Z"
    }
   },
   "id": "505e93e59756cac0",
   "execution_count": 95
  },
  {
   "cell_type": "markdown",
   "source": [
    "## Renaming columns\n",
    "+ A common data cleaning task is renaming columns. With the .rename() method, you can use columns as an argument to rename specific columns. The below code shows the dictionary for mapping old and new column names.\n",
    "+ Example -> df3.rename(columns = {'DiabetesPedigreeFunction':'DPF'}, inplace = True)\n",
    "\n",
    "# Data analysis in pandas\n",
    "+ we can use different aggregations like, mean, sum, min, max, median, mode\n",
    "+ Counting using .value_counts(). Category values can be counted using the .value_counts() methods.\n",
    "+ Turn off automatic sorting of results using sort argument (True by default). The default sorting is based on the counts in descending order.\n",
    "+ df['Outcome'].value_counts(sort=False)\n",
    "+ Aggregating data with .groupby() in pandas pandas lets you aggregate values by grouping them by specific column values. You can do that by combining the .groupby() method. Example -> df.groupby('Outcome').mean()"
   ],
   "metadata": {
    "collapsed": false
   },
   "id": "cd3ab2d40d3813c5"
  },
  {
   "cell_type": "markdown",
   "source": [
    "## Pivoting Tables\n",
    "+ pandas also enables you to calculate summary statistics as pivot tables. This makes it easy to draw conclusions based on a combination of variables.\n",
    "+ For example, for Pregnancies = 5 and Outcome = 0, the average BMI turns out to be 31.1.\n",
    "+ pd.pivot_table(df, values=\"BMI\", index='Pregnancies', columns=['Outcome'], aggfunc=np.mean)"
   ],
   "metadata": {
    "collapsed": false
   },
   "id": "295721047e6d28a2"
  }
 ],
 "metadata": {
  "kernelspec": {
   "display_name": "Python 3 (ipykernel)",
   "language": "python",
   "name": "python3"
  },
  "language_info": {
   "codemirror_mode": {
    "name": "ipython",
    "version": 3
   },
   "file_extension": ".py",
   "mimetype": "text/x-python",
   "name": "python",
   "nbconvert_exporter": "python",
   "pygments_lexer": "ipython3",
   "version": "3.8.18"
  }
 },
 "nbformat": 4,
 "nbformat_minor": 5
}
