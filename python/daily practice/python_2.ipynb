{
 "cells": [
  {
   "cell_type": "markdown",
   "source": [
    "# Overview of JSON Strings and Files\n",
    "\n",
    "JSON (JavaScript Object Notation) is a lightweight data interchange format that is easy for humans to read and write and easy for machines to parse and generate. It is widely used to transmit data between a server and a web application, as well as for configuration files and data storage. JSON is language-independent, making it a popular choice for data exchange between different programming languages."
   ],
   "metadata": {
    "collapsed": false
   },
   "id": "b0dc531c3f49a809"
  },
  {
   "cell_type": "code",
   "outputs": [
    {
     "name": "stdout",
     "output_type": "stream",
     "text": [
      "<class 'dict'>\n"
     ]
    }
   ],
   "source": [
    "import json\n",
    "json_str = '{\"name\": \"John\", \"age\": 25, \"city\": \"New York\"}'\n",
    "data = json.loads(json_str)\n",
    "print(type(data))"
   ],
   "metadata": {
    "collapsed": true,
    "ExecuteTime": {
     "end_time": "2024-01-30T11:55:45.973674800Z",
     "start_time": "2024-01-30T11:55:45.845123800Z"
    }
   },
   "id": "initial_id",
   "execution_count": 7
  },
  {
   "cell_type": "markdown",
   "source": [
    "# Loading a JSON File into python Dict"
   ],
   "metadata": {
    "collapsed": false
   },
   "id": "61e8a97db4a417c1"
  },
  {
   "cell_type": "code",
   "outputs": [
    {
     "name": "stdout",
     "output_type": "stream",
     "text": [
      "{'fruit': 'Apple', 'size': 'Large', 'color': 'Red'}\n",
      "<class 'dict'>\n"
     ]
    }
   ],
   "source": [
    "with open('sample_json.json', 'r') as file:\n",
    "    temp_data = json.load(file)\n",
    "    print(temp_data)\n",
    "    print(type(temp_data))"
   ],
   "metadata": {
    "collapsed": false,
    "ExecuteTime": {
     "end_time": "2024-01-30T11:57:08.489420900Z",
     "start_time": "2024-01-30T11:57:08.442315300Z"
    }
   },
   "id": "a43082d0a4a5703c",
   "execution_count": 11
  },
  {
   "cell_type": "markdown",
   "source": [
    "# Creating JSON Strings:\n",
    "# Use json.dumps() to convert a Python data structure into a JSON-formatted string."
   ],
   "metadata": {
    "collapsed": false
   },
   "id": "c7090874228c6ad3"
  },
  {
   "cell_type": "code",
   "outputs": [
    {
     "name": "stdout",
     "output_type": "stream",
     "text": [
      "{\"name\": \"Alice\", \"age\": 30, \"city\": \"London\"}\n"
     ]
    }
   ],
   "source": [
    "import json\n",
    "\n",
    "data = {\"name\": \"Alice\", \"age\": 30, \"city\": \"London\"}\n",
    "json_str = json.dumps(data)\n",
    "print(json_str)"
   ],
   "metadata": {
    "collapsed": false,
    "ExecuteTime": {
     "end_time": "2024-01-30T20:25:03.736397Z",
     "start_time": "2024-01-30T20:25:03.712822700Z"
    }
   },
   "id": "9fde40510bdd6e67",
   "execution_count": 1
  },
  {
   "cell_type": "markdown",
   "source": [
    "# Writing JSON to Files:\n",
    "# Use json.dump() to write Python data to a file in JSON format."
   ],
   "metadata": {
    "collapsed": false
   },
   "id": "20727cab9896b7df"
  },
  {
   "cell_type": "code",
   "outputs": [],
   "source": [
    "import json\n",
    "\n",
    "data = {\"name\": \"Bob\", \"age\": 22, \"city\": \"Paris\"}\n",
    "\n",
    "with open('output.json', 'w') as file:\n",
    "    json.dump(data, file)"
   ],
   "metadata": {
    "collapsed": false,
    "ExecuteTime": {
     "end_time": "2024-01-30T20:27:37.839926100Z",
     "start_time": "2024-01-30T20:27:37.803928400Z"
    }
   },
   "id": "871c3536cc2d16a2",
   "execution_count": 3
  },
  {
   "cell_type": "markdown",
   "source": [
    "# Loading JSON string to a list\n",
    "\n",
    "In this example, json_string is a JSON-formatted string. json.loads(json_string) converts this string into a Python dictionary (python_dict), and the resulting dictionary is then printed."
   ],
   "metadata": {
    "collapsed": false
   },
   "id": "c7121ed6e06b61b6"
  },
  {
   "cell_type": "code",
   "outputs": [
    {
     "name": "stdout",
     "output_type": "stream",
     "text": [
      "[1, 2, 3, 4, 5]\n"
     ]
    }
   ],
   "source": [
    "import json\n",
    "json_array_string = '[1, 2, 3, 4, 5]'\n",
    "# Parse the JSON string to a Python list\n",
    "python_list = json.loads(json_array_string)\n",
    "print(python_list)"
   ],
   "metadata": {
    "collapsed": false,
    "ExecuteTime": {
     "end_time": "2024-01-30T20:50:34.718048400Z",
     "start_time": "2024-01-30T20:50:34.688445100Z"
    }
   },
   "id": "69a67fd76f16cf10",
   "execution_count": 4
  },
  {
   "cell_type": "markdown",
   "source": [
    "# Reading JSON Files using json.load():\n",
    "If your JSON data is stored in a file, you can use the json.load() function to read the data directly from the file into a Python object."
   ],
   "metadata": {
    "collapsed": false
   },
   "id": "bf20e4ee03ff67d7"
  },
  {
   "cell_type": "code",
   "outputs": [
    {
     "name": "stdout",
     "output_type": "stream",
     "text": [
      "{'$schema': 'http://json-schema.org/draft-07/schema#', 'type': 'object', 'properties': {'name': {'type': 'string'}, 'age': {'type': 'integer', 'minimum': 0}, 'isStudent': {'type': 'boolean'}, 'courses': {'type': 'array', 'items': {'type': 'string'}}}, 'required': ['name', 'age']}\n"
     ]
    }
   ],
   "source": [
    "import json\n",
    "# Assume there is a file named 'output.json' with JSON-formatted content\n",
    "with open('output.json', 'r') as file:\n",
    "    # Load JSON data from the file into a Python object (dictionary or list)\n",
    "    python_object = json.load(file)\n",
    "print(python_object)"
   ],
   "metadata": {
    "collapsed": false,
    "ExecuteTime": {
     "end_time": "2024-01-30T21:14:11.717440900Z",
     "start_time": "2024-01-30T21:14:11.695469200Z"
    }
   },
   "id": "42015dcd92f81222",
   "execution_count": 6
  },
  {
   "cell_type": "markdown",
   "source": [
    "# Updating JSON String and saving them."
   ],
   "metadata": {
    "collapsed": false
   },
   "id": "88c9ede72d7173c7"
  },
  {
   "cell_type": "code",
   "outputs": [
    {
     "name": "stdout",
     "output_type": "stream",
     "text": [
      "Before Update:  [1, 2, 3, 4, 5]\n",
      "After Update:  [1, 2, 3, 4, 5, 6, 7, 8, 9, 10]\n"
     ]
    }
   ],
   "source": [
    "\n",
    "import json\n",
    "json_array_string = '[1,2,3,4,5]'\n",
    "python_list = json.loads(json_array_string)\n",
    "print('Before Update: ',python_list)\n",
    "python_list.extend([6,7,8,9,10])\n",
    "json_array_string = json.dumps(python_list)\n",
    "print('After Update: ',json_array_string)"
   ],
   "metadata": {
    "collapsed": false,
    "ExecuteTime": {
     "end_time": "2024-01-30T21:42:47.218187100Z",
     "start_time": "2024-01-30T21:42:47.215188Z"
    }
   },
   "id": "3efe77dbf46472fc",
   "execution_count": 10
  },
  {
   "cell_type": "markdown",
   "source": [
    "# Error Handling:\n",
    "When working with JSON data, it's essential to handle potential errors during parsing, especially if the JSON data might be malformed."
   ],
   "metadata": {
    "collapsed": false
   },
   "id": "834035d921d8c22e"
  },
  {
   "cell_type": "code",
   "outputs": [
    {
     "name": "stdout",
     "output_type": "stream",
     "text": [
      "Error decoding JSON: Expecting value: line 1 column 58 (char 57)\n"
     ]
    }
   ],
   "source": [
    "import json\n",
    "\n",
    "json_string = '{\"name\": \"John\", \"age\": 25, \"city\": \"New York\", \"extra\": }'\n",
    "\n",
    "try:\n",
    "    # Attempt to parse the JSON string\n",
    "    python_dict = json.loads(json_string)\n",
    "except json.JSONDecodeError as e:\n",
    "    print(f\"Error decoding JSON: {e}\")"
   ],
   "metadata": {
    "collapsed": false,
    "ExecuteTime": {
     "end_time": "2024-01-30T21:43:06.397099Z",
     "start_time": "2024-01-30T21:43:06.381050200Z"
    }
   },
   "id": "e78ca67f28c9c93a",
   "execution_count": 11
  },
  {
   "cell_type": "markdown",
   "source": [
    "# Complex JSON Structures:\n",
    "If your JSON data has nested structures (objects within objects, arrays within objects, etc.), you can navigate through these structures using Python's indexing and looping mechanisms."
   ],
   "metadata": {
    "collapsed": false
   },
   "id": "d4dce776ea3c1d65"
  },
  {
   "cell_type": "code",
   "outputs": [
    {
     "name": "stdout",
     "output_type": "stream",
     "text": [
      "Name: John, Age: 25\n",
      "Name: Alice, Age: 30\n"
     ]
    }
   ],
   "source": [
    "# Example with a JSON array containing objects\n",
    "json_array_string = '[{\"name\": \"John\", \"age\": 25}, {\"name\": \"Alice\", \"age\": 30}]'\n",
    "python_list = json.loads(json_array_string)\n",
    "\n",
    "# Iterate through the list of objects\n",
    "for person in python_list:\n",
    "    print(f\"Name: {person['name']}, Age: {person['age']}\")"
   ],
   "metadata": {
    "collapsed": false,
    "ExecuteTime": {
     "end_time": "2024-01-30T21:43:38.583222Z",
     "start_time": "2024-01-30T21:43:38.548116400Z"
    }
   },
   "id": "cd3043ac757accfe",
   "execution_count": 12
  },
  {
   "cell_type": "markdown",
   "source": [],
   "metadata": {
    "collapsed": false
   },
   "id": "5d5fe9b53e92bc70"
  },
  {
   "cell_type": "markdown",
   "source": [
    "## Extract Details from Complex JSON Arrays using Python\n",
    "When dealing with complex JSON data structures that include arrays containing nested objects or other arrays, extracting specific details from these structures becomes a common task. In Python, you can navigate through complex JSON arrays using a combination of indexing, looping, and dictionary access."
   ],
   "metadata": {
    "collapsed": false
   },
   "id": "48021c3ddd437f39"
  },
  {
   "cell_type": "code",
   "outputs": [
    {
     "name": "stdout",
     "output_type": "stream",
     "text": [
      "Name: John, Age: 25, City: New York, Zipcode: 10001\n",
      "Name: Alice, Age: 30, City: San Francisco, Zipcode: 94105\n"
     ]
    }
   ],
   "source": [
    "import json\n",
    "\n",
    "json_array_string = '[{\"name\": \"John\", \"age\": 25, \"address\": {\"city\": \"New York\", \"zipcode\": \"10001\"}}, {\"name\": \"Alice\", \"age\": 30, \"address\": {\"city\": \"San Francisco\", \"zipcode\": \"94105\"}}]'\n",
    "\n",
    "# Parse the JSON array string to a Python list\n",
    "people_list = json.loads(json_array_string)\n",
    "\n",
    "# Extracting details from the complex array\n",
    "for person in people_list:\n",
    "    name = person['name']\n",
    "    age = person['age']\n",
    "    city = person['address']['city']\n",
    "    zipcode = person['address']['zipcode']\n",
    "\n",
    "    print(f\"Name: {name}, Age: {age}, City: {city}, Zipcode: {zipcode}\")"
   ],
   "metadata": {
    "collapsed": false,
    "ExecuteTime": {
     "end_time": "2024-01-30T21:48:30.121120900Z",
     "start_time": "2024-01-30T21:48:30.102594600Z"
    }
   },
   "id": "ff40524e357d9173",
   "execution_count": 13
  },
  {
   "cell_type": "markdown",
   "source": [
    "## Sort Data in JSON Arrays using Python\n",
    "Sorting data within JSON arrays is a common task, especially when dealing with large datasets or when you want to present the data in a specific order. In Python, you can use the sorted() function along with a custom key function to sort JSON arrays based on specific criteria."
   ],
   "metadata": {
    "collapsed": false
   },
   "id": "b53279782e63d506"
  },
  {
   "cell_type": "code",
   "outputs": [
    {
     "name": "stdout",
     "output_type": "stream",
     "text": [
      "Title: To Kill a Mockingbird, Author: Harper Lee, Year: 1960\n",
      "Title: 1984, Author: George Orwell, Year: 1949\n",
      "Title: The Great Gatsby, Author: F. Scott Fitzgerald, Year: 1925\n"
     ]
    }
   ],
   "source": [
    "import json\n",
    "\n",
    "json_books_string = '[{\"title\": \"The Great Gatsby\", \"author\": \"F. Scott Fitzgerald\", \"year\": 1925}, {\"title\": \"To Kill a Mockingbird\", \"author\": \"Harper Lee\", \"year\": 1960}, {\"title\": \"1984\", \"author\": \"George Orwell\", \"year\": 1949}]'\n",
    "\n",
    "# Parse the JSON array string to a Python list\n",
    "books_list = json.loads(json_books_string)\n",
    "\n",
    "# Sort the list of books based on the 'year' property\n",
    "sorted_books = sorted(books_list, key=lambda book: book['year'], reverse=True)\n",
    "\n",
    "# Print the sorted list of books\n",
    "for book in sorted_books:\n",
    "    print(f\"Title: {book['title']}, Author: {book['author']}, Year: {book['year']}\")"
   ],
   "metadata": {
    "collapsed": false,
    "ExecuteTime": {
     "end_time": "2024-01-30T21:50:35.667890Z",
     "start_time": "2024-01-30T21:50:35.645423700Z"
    }
   },
   "id": "5cfc7016e0d23a09",
   "execution_count": 15
  },
  {
   "cell_type": "markdown",
   "source": [
    "## Create Function to Get Column Details from Schemas JSON File\n",
    "In the context of this topic, it seems like the goal is to create a function that extracts column details from a JSON file containing schema information. A schema typically defines the structure of a dataset, including details about columns, data types, and other properties."
   ],
   "metadata": {
    "collapsed": false
   },
   "id": "365fef96d2caf3f0"
  },
  {
   "cell_type": "code",
   "outputs": [
    {
     "name": "stdout",
     "output_type": "stream",
     "text": [
      "Column: id, Data Type: int, Nullable: False\n",
      "Column: name, Data Type: string, Nullable: True\n",
      "Column: age, Data Type: int, Nullable: True\n",
      "Column: city, Data Type: string, Nullable: True\n"
     ]
    }
   ],
   "source": [
    "import json\n",
    "\n",
    "def get_column_details(json_file_path):\n",
    "    with open(json_file_path, 'r') as file:\n",
    "        # Load the JSON schema from the file into a Python dictionary\n",
    "        schema = json.load(file)\n",
    "\n",
    "        # Extract column details from the 'columns' key\n",
    "        columns = schema.get('columns', [])\n",
    "\n",
    "        # Print or process column details as needed\n",
    "        for column in columns:\n",
    "            name = column.get('name', '')\n",
    "            data_type = column.get('type', '')\n",
    "            nullable = column.get('nullable', True)\n",
    "\n",
    "            print(f\"Column: {name}, Data Type: {data_type}, Nullable: {nullable}\")\n",
    "\n",
    "# Example usage:\n",
    "get_column_details('output_2.json')"
   ],
   "metadata": {
    "collapsed": false,
    "ExecuteTime": {
     "end_time": "2024-01-30T21:54:03.278839100Z",
     "start_time": "2024-01-30T21:54:03.260305900Z"
    }
   },
   "id": "d2e404a538ba37d2",
   "execution_count": 17
  },
  {
   "cell_type": "code",
   "outputs": [],
   "source": [],
   "metadata": {
    "collapsed": false
   },
   "id": "b487f537d3f2181b"
  }
 ],
 "metadata": {
  "kernelspec": {
   "display_name": "Python 3",
   "language": "python",
   "name": "python3"
  },
  "language_info": {
   "codemirror_mode": {
    "name": "ipython",
    "version": 2
   },
   "file_extension": ".py",
   "mimetype": "text/x-python",
   "name": "python",
   "nbconvert_exporter": "python",
   "pygments_lexer": "ipython2",
   "version": "2.7.6"
  }
 },
 "nbformat": 4,
 "nbformat_minor": 5
}
