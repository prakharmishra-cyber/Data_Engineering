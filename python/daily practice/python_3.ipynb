{
 "cells": [
  {
   "cell_type": "markdown",
   "id": "6f9086e704312881",
   "metadata": {
    "collapsed": false
   },
   "source": [
    "## Reading CSV Data using Pandas:\n",
    " - To read data from a CSV (Comma Separated Values) file into a Pandas DataFrame, we can use the pd.read_csv() function. \n",
    " - This function reads the contents of a CSV file and creates a DataFrame with the data."
   ]
  },
  {
   "cell_type": "code",
   "execution_count": 1,
   "id": "initial_id",
   "metadata": {
    "ExecuteTime": {
     "end_time": "2024-01-31T05:09:55.707669300Z",
     "start_time": "2024-01-31T05:09:55.637994700Z"
    }
   },
   "outputs": [
    {
     "data": {
      "text/html": [
       "<div>\n",
       "<style scoped>\n",
       "    .dataframe tbody tr th:only-of-type {\n",
       "        vertical-align: middle;\n",
       "    }\n",
       "\n",
       "    .dataframe tbody tr th {\n",
       "        vertical-align: top;\n",
       "    }\n",
       "\n",
       "    .dataframe thead th {\n",
       "        text-align: right;\n",
       "    }\n",
       "</style>\n",
       "<table border=\"1\" class=\"dataframe\">\n",
       "  <thead>\n",
       "    <tr style=\"text-align: right;\">\n",
       "      <th></th>\n",
       "      <th>Sub Category</th>\n",
       "      <th>Price</th>\n",
       "      <th>Discount</th>\n",
       "      <th>Rating</th>\n",
       "      <th>Title</th>\n",
       "      <th>Currency</th>\n",
       "      <th>Feature</th>\n",
       "      <th>Product Description</th>\n",
       "    </tr>\n",
       "  </thead>\n",
       "  <tbody>\n",
       "    <tr>\n",
       "      <th>0</th>\n",
       "      <td>Bakery &amp; Desserts</td>\n",
       "      <td>$56.99</td>\n",
       "      <td>No Discount</td>\n",
       "      <td>Rated 4.3 out of 5 stars based on 265 reviews.</td>\n",
       "      <td>David’s Cookies Mile High Peanut Butter Cake, ...</td>\n",
       "      <td>$</td>\n",
       "      <td>\"10\"\" Peanut Butter Cake\\nCertified Kosher OU-...</td>\n",
       "      <td>A cake the dessert epicure will die for!Our To...</td>\n",
       "    </tr>\n",
       "  </tbody>\n",
       "</table>\n",
       "</div>"
      ],
      "text/plain": [
       "        Sub Category    Price     Discount  \\\n",
       "0  Bakery & Desserts  $56.99   No Discount   \n",
       "\n",
       "                                           Rating  \\\n",
       "0  Rated 4.3 out of 5 stars based on 265 reviews.   \n",
       "\n",
       "                                               Title Currency  \\\n",
       "0  David’s Cookies Mile High Peanut Butter Cake, ...        $   \n",
       "\n",
       "                                             Feature  \\\n",
       "0  \"10\"\" Peanut Butter Cake\\nCertified Kosher OU-...   \n",
       "\n",
       "                                 Product Description  \n",
       "0  A cake the dessert epicure will die for!Our To...  "
      ]
     },
     "metadata": {},
     "output_type": "display_data"
    }
   ],
   "source": [
    "import pandas as pd\n",
    "from IPython.display import display\n",
    "# Read the CSV file into a Pandas DataFrame\n",
    "df = pd.read_csv('GroceryDataset.csv')\n",
    "display(df[0:1])"
   ]
  },
  {
   "cell_type": "markdown",
   "id": "2a5a8aaea816d470",
   "metadata": {
    "collapsed": false
   },
   "source": [
    "# we can use parse_dates to parse date in the csv files."
   ]
  },
  {
   "cell_type": "code",
   "execution_count": 2,
   "id": "3d8841e0669afac2",
   "metadata": {
    "ExecuteTime": {
     "end_time": "2024-01-31T05:17:39.103723100Z",
     "start_time": "2024-01-31T05:17:39.071139Z"
    },
    "collapsed": false
   },
   "outputs": [
    {
     "data": {
      "text/html": [
       "<div>\n",
       "<style scoped>\n",
       "    .dataframe tbody tr th:only-of-type {\n",
       "        vertical-align: middle;\n",
       "    }\n",
       "\n",
       "    .dataframe tbody tr th {\n",
       "        vertical-align: top;\n",
       "    }\n",
       "\n",
       "    .dataframe thead th {\n",
       "        text-align: right;\n",
       "    }\n",
       "</style>\n",
       "<table border=\"1\" class=\"dataframe\">\n",
       "  <thead>\n",
       "    <tr style=\"text-align: right;\">\n",
       "      <th></th>\n",
       "      <th>Date</th>\n",
       "      <th>Status</th>\n",
       "      <th>Amount</th>\n",
       "      <th>Month</th>\n",
       "    </tr>\n",
       "  </thead>\n",
       "  <tbody>\n",
       "    <tr>\n",
       "      <th>0</th>\n",
       "      <td>2022-01-01</td>\n",
       "      <td>Active</td>\n",
       "      <td>100</td>\n",
       "      <td>January</td>\n",
       "    </tr>\n",
       "    <tr>\n",
       "      <th>1</th>\n",
       "      <td>2022-01-01</td>\n",
       "      <td>Inactive</td>\n",
       "      <td>150</td>\n",
       "      <td>January</td>\n",
       "    </tr>\n",
       "    <tr>\n",
       "      <th>2</th>\n",
       "      <td>2022-02-01</td>\n",
       "      <td>Active</td>\n",
       "      <td>80</td>\n",
       "      <td>February</td>\n",
       "    </tr>\n",
       "    <tr>\n",
       "      <th>3</th>\n",
       "      <td>2022-02-01</td>\n",
       "      <td>Active</td>\n",
       "      <td>120</td>\n",
       "      <td>February</td>\n",
       "    </tr>\n",
       "    <tr>\n",
       "      <th>4</th>\n",
       "      <td>2022-02-01</td>\n",
       "      <td>Inactive</td>\n",
       "      <td>90</td>\n",
       "      <td>February</td>\n",
       "    </tr>\n",
       "  </tbody>\n",
       "</table>\n",
       "</div>"
      ],
      "text/plain": [
       "        Date    Status  Amount     Month\n",
       "0 2022-01-01    Active     100   January\n",
       "1 2022-01-01  Inactive     150   January\n",
       "2 2022-02-01    Active      80  February\n",
       "3 2022-02-01    Active     120  February\n",
       "4 2022-02-01  Inactive      90  February"
      ]
     },
     "metadata": {},
     "output_type": "display_data"
    }
   ],
   "source": [
    "import pandas as pd\n",
    "# Specify the file path\n",
    "file_path = 'sales_data.csv'\n",
    "# Read the CSV file into a Pandas DataFrame\n",
    "df = pd.read_csv(file_path, parse_dates=['Date'])\n",
    "# Display the DataFrame\n",
    "display(df)"
   ]
  },
  {
   "cell_type": "markdown",
   "id": "c8af2bc1e0613d7f",
   "metadata": {
    "collapsed": false
   },
   "source": [
    "# we can use skiprows argument to skip rows in the csv files.\n",
    "- The skiprows parameter allows you to skip a specific number of rows at the beginning of the file.\n"
   ]
  },
  {
   "cell_type": "code",
   "execution_count": 3,
   "id": "137fc35635d8c0d",
   "metadata": {
    "ExecuteTime": {
     "end_time": "2024-01-31T05:22:59.083701700Z",
     "start_time": "2024-01-31T05:22:59.011540900Z"
    },
    "collapsed": false
   },
   "outputs": [
    {
     "data": {
      "text/html": [
       "<div>\n",
       "<style scoped>\n",
       "    .dataframe tbody tr th:only-of-type {\n",
       "        vertical-align: middle;\n",
       "    }\n",
       "\n",
       "    .dataframe tbody tr th {\n",
       "        vertical-align: top;\n",
       "    }\n",
       "\n",
       "    .dataframe thead th {\n",
       "        text-align: right;\n",
       "    }\n",
       "</style>\n",
       "<table border=\"1\" class=\"dataframe\">\n",
       "  <thead>\n",
       "    <tr style=\"text-align: right;\">\n",
       "      <th></th>\n",
       "      <th>Bakery &amp; Desserts</th>\n",
       "      <th>$159.99</th>\n",
       "      <th>No Discount</th>\n",
       "      <th>Rated 5 out of 5 stars based on 1 reviews.</th>\n",
       "      <th>The Cake Bake Shop 8\" Round Carrot Cake (16-22 Servings)</th>\n",
       "      <th>$</th>\n",
       "      <th>Spiced Carrot Cake with Cream Cheese Frosting   Silk Cherry Blossom Flowers (Not Edible)   No Nuts or Raisins   Dimensions: 9” Diameter, 7” High   16-22 Servings</th>\n",
       "      <th>Due to the perishable nature of this item, orders do NOT ship over the weekend. Orders can only be delivered on Wednesday, Thursday and Friday. Minimum delivery time is 5 business days.   Plate not included.   Gwendolyn Rogers' The Cake Bake Shop is famous for handcrafting magnificent and delicious cakes and desserts for her award winning restaurants. Each cake arrives beautifully packaged in her bakery’s signature pink and gold cake box with a pink satin ribbon and is topped with the bakery’s dusting of edible Pixie Glitter®, adding a sparkling finish to every dessert. Gwendolyn’s moist and delicious carrot cake is made with hand peeled and freshly grated carrots. Perfectly spiced with just the right amount of cinnamon, this cake has no nuts and no raisins. The three layers of spiced carrot cake are then filled and frosted with Gwendolyn's signature homemade cream cheese frosting. Topped with decorative pink silk cherry blossom flowers.   Features:   Flavor: Spiced Carrot Cake\\nCake Filling: Cream Cheese Frosting\\nCake Frosting: Cream Cheese Frosting\\nTopped with Pink Silk Cherry Blossom Flowers (cherry blossom flowers are not edible, please do not consume, remove before eating)\\nDimensions: 9” diameter, 7” high\\nServes 16-22\\nEach Cake Arrives With It’s Own Cake Care Card\\nAllergens: Contains Wheat, Milk, Soy, Egg\\nShips Frozen</th>\n",
       "    </tr>\n",
       "  </thead>\n",
       "  <tbody>\n",
       "    <tr>\n",
       "      <th>0</th>\n",
       "      <td>Bakery &amp; Desserts</td>\n",
       "      <td>$44.99</td>\n",
       "      <td>No Discount</td>\n",
       "      <td>Rated 4.1 out of 5 stars based on 441 reviews.</td>\n",
       "      <td>St Michel Madeleine, Classic French Sponge Cak...</td>\n",
       "      <td>$</td>\n",
       "      <td>100 count\\nIndividually wrapped\\nMade in and I...</td>\n",
       "      <td>Moist and buttery sponge cakes with the tradit...</td>\n",
       "    </tr>\n",
       "    <tr>\n",
       "      <th>1</th>\n",
       "      <td>Bakery &amp; Desserts</td>\n",
       "      <td>$39.99</td>\n",
       "      <td>No Discount</td>\n",
       "      <td>Rated 4.7 out of 5 stars based on 9459 reviews.</td>\n",
       "      <td>David's Cookies Butter Pecan Meltaways 32 oz, ...</td>\n",
       "      <td>$</td>\n",
       "      <td>Butter Pecan Meltaways\\n32 oz 2-Pack\\nNo Prese...</td>\n",
       "      <td>These delectable butter pecan meltaways are th...</td>\n",
       "    </tr>\n",
       "    <tr>\n",
       "      <th>2</th>\n",
       "      <td>Bakery &amp; Desserts</td>\n",
       "      <td>$59.99</td>\n",
       "      <td>No Discount</td>\n",
       "      <td>Rated 4.5 out of 5 stars based on 758 reviews.</td>\n",
       "      <td>David’s Cookies Premier Chocolate Cake, 7.2 lb...</td>\n",
       "      <td>$</td>\n",
       "      <td>\"10\" Four Layer Chocolate Cake\\nCertified Kosh...</td>\n",
       "      <td>A cake the dessert epicure will die for!To the...</td>\n",
       "    </tr>\n",
       "    <tr>\n",
       "      <th>3</th>\n",
       "      <td>Bakery &amp; Desserts</td>\n",
       "      <td>$59.99</td>\n",
       "      <td>No Discount</td>\n",
       "      <td>Rated 4.4 out of 5 stars based on 369 reviews.</td>\n",
       "      <td>David's Cookies Mango &amp; Strawberry Cheesecake ...</td>\n",
       "      <td>$</td>\n",
       "      <td>2-count\\nStrawberry Cheesecake\\nMango Cheeseca...</td>\n",
       "      <td>Strawberry Cheesecake: There's only one way to...</td>\n",
       "    </tr>\n",
       "    <tr>\n",
       "      <th>4</th>\n",
       "      <td>Bakery &amp; Desserts</td>\n",
       "      <td>$74.99</td>\n",
       "      <td>No Discount</td>\n",
       "      <td>Rated 4.7 out of 5 stars based on 2241 reviews.</td>\n",
       "      <td>La Grande Galette French Butter Cookies, 1.3 l...</td>\n",
       "      <td>$</td>\n",
       "      <td>1.3 lb, 6-count\\nBaked in, and Imported from, ...</td>\n",
       "      <td>Once upon a time in the French coastal town of...</td>\n",
       "    </tr>\n",
       "  </tbody>\n",
       "</table>\n",
       "</div>"
      ],
      "text/plain": [
       "   Bakery & Desserts $159.99   No Discount  \\\n",
       "0  Bakery & Desserts  $44.99   No Discount   \n",
       "1  Bakery & Desserts  $39.99   No Discount   \n",
       "2  Bakery & Desserts  $59.99   No Discount   \n",
       "3  Bakery & Desserts  $59.99   No Discount   \n",
       "4  Bakery & Desserts  $74.99   No Discount   \n",
       "\n",
       "        Rated 5 out of 5 stars based on 1 reviews.  \\\n",
       "0   Rated 4.1 out of 5 stars based on 441 reviews.   \n",
       "1  Rated 4.7 out of 5 stars based on 9459 reviews.   \n",
       "2   Rated 4.5 out of 5 stars based on 758 reviews.   \n",
       "3   Rated 4.4 out of 5 stars based on 369 reviews.   \n",
       "4  Rated 4.7 out of 5 stars based on 2241 reviews.   \n",
       "\n",
       "  The Cake Bake Shop 8\" Round Carrot Cake (16-22 Servings)  $  \\\n",
       "0  St Michel Madeleine, Classic French Sponge Cak...        $   \n",
       "1  David's Cookies Butter Pecan Meltaways 32 oz, ...        $   \n",
       "2  David’s Cookies Premier Chocolate Cake, 7.2 lb...        $   \n",
       "3  David's Cookies Mango & Strawberry Cheesecake ...        $   \n",
       "4  La Grande Galette French Butter Cookies, 1.3 l...        $   \n",
       "\n",
       "  Spiced Carrot Cake with Cream Cheese Frosting   Silk Cherry Blossom Flowers (Not Edible)   No Nuts or Raisins   Dimensions: 9” Diameter, 7” High   16-22 Servings  \\\n",
       "0  100 count\\nIndividually wrapped\\nMade in and I...                                                                                                                  \n",
       "1  Butter Pecan Meltaways\\n32 oz 2-Pack\\nNo Prese...                                                                                                                  \n",
       "2  \"10\" Four Layer Chocolate Cake\\nCertified Kosh...                                                                                                                  \n",
       "3  2-count\\nStrawberry Cheesecake\\nMango Cheeseca...                                                                                                                  \n",
       "4  1.3 lb, 6-count\\nBaked in, and Imported from, ...                                                                                                                  \n",
       "\n",
       "  Due to the perishable nature of this item, orders do NOT ship over the weekend. Orders can only be delivered on Wednesday, Thursday and Friday. Minimum delivery time is 5 business days.   Plate not included.   Gwendolyn Rogers' The Cake Bake Shop is famous for handcrafting magnificent and delicious cakes and desserts for her award winning restaurants. Each cake arrives beautifully packaged in her bakery’s signature pink and gold cake box with a pink satin ribbon and is topped with the bakery’s dusting of edible Pixie Glitter®, adding a sparkling finish to every dessert. Gwendolyn’s moist and delicious carrot cake is made with hand peeled and freshly grated carrots. Perfectly spiced with just the right amount of cinnamon, this cake has no nuts and no raisins. The three layers of spiced carrot cake are then filled and frosted with Gwendolyn's signature homemade cream cheese frosting. Topped with decorative pink silk cherry blossom flowers.   Features:   Flavor: Spiced Carrot Cake\\nCake Filling: Cream Cheese Frosting\\nCake Frosting: Cream Cheese Frosting\\nTopped with Pink Silk Cherry Blossom Flowers (cherry blossom flowers are not edible, please do not consume, remove before eating)\\nDimensions: 9” diameter, 7” high\\nServes 16-22\\nEach Cake Arrives With It’s Own Cake Care Card\\nAllergens: Contains Wheat, Milk, Soy, Egg\\nShips Frozen  \n",
       "0  Moist and buttery sponge cakes with the tradit...                                                                                                                                                                                                                                                                                                                                                                                                                                                                                                                                                                                                                                                                                                                                                                                                                                                                                                                                                                                                                                                                                                                                                                                                                                                                                                                                                       \n",
       "1  These delectable butter pecan meltaways are th...                                                                                                                                                                                                                                                                                                                                                                                                                                                                                                                                                                                                                                                                                                                                                                                                                                                                                                                                                                                                                                                                                                                                                                                                                                                                                                                                                       \n",
       "2  A cake the dessert epicure will die for!To the...                                                                                                                                                                                                                                                                                                                                                                                                                                                                                                                                                                                                                                                                                                                                                                                                                                                                                                                                                                                                                                                                                                                                                                                                                                                                                                                                                       \n",
       "3  Strawberry Cheesecake: There's only one way to...                                                                                                                                                                                                                                                                                                                                                                                                                                                                                                                                                                                                                                                                                                                                                                                                                                                                                                                                                                                                                                                                                                                                                                                                                                                                                                                                                       \n",
       "4  Once upon a time in the French coastal town of...                                                                                                                                                                                                                                                                                                                                                                                                                                                                                                                                                                                                                                                                                                                                                                                                                                                                                                                                                                                                                                                                                                                                                                                                                                                                                                                                                       "
      ]
     },
     "metadata": {},
     "output_type": "display_data"
    }
   ],
   "source": [
    "df2 = pd.read_csv('GroceryDataset.csv', skiprows=2)\n",
    "display(df2.head())"
   ]
  },
  {
   "cell_type": "markdown",
   "id": "9390dd4eab840ee4",
   "metadata": {
    "collapsed": false
   },
   "source": [
    "## Python Pandas DataFrame \n",
    "- By using pd.DataFrame() we can use a csv file to convert it into a dataframe for various analysis.\n"
   ]
  },
  {
   "cell_type": "code",
   "execution_count": 8,
   "id": "f4db907113403df0",
   "metadata": {
    "ExecuteTime": {
     "end_time": "2024-01-31T05:59:44.396380100Z",
     "start_time": "2024-01-31T05:59:44.378866600Z"
    },
    "collapsed": false
   },
   "outputs": [
    {
     "data": {
      "text/html": [
       "<div>\n",
       "<style scoped>\n",
       "    .dataframe tbody tr th:only-of-type {\n",
       "        vertical-align: middle;\n",
       "    }\n",
       "\n",
       "    .dataframe tbody tr th {\n",
       "        vertical-align: top;\n",
       "    }\n",
       "\n",
       "    .dataframe thead th {\n",
       "        text-align: right;\n",
       "    }\n",
       "</style>\n",
       "<table border=\"1\" class=\"dataframe\">\n",
       "  <thead>\n",
       "    <tr style=\"text-align: right;\">\n",
       "      <th></th>\n",
       "      <th>Date</th>\n",
       "      <th>Status</th>\n",
       "    </tr>\n",
       "  </thead>\n",
       "  <tbody>\n",
       "    <tr>\n",
       "      <th>0</th>\n",
       "      <td>2022-01-01</td>\n",
       "      <td>Active</td>\n",
       "    </tr>\n",
       "    <tr>\n",
       "      <th>1</th>\n",
       "      <td>2022-01-01</td>\n",
       "      <td>Inactive</td>\n",
       "    </tr>\n",
       "    <tr>\n",
       "      <th>2</th>\n",
       "      <td>2022-02-01</td>\n",
       "      <td>Active</td>\n",
       "    </tr>\n",
       "    <tr>\n",
       "      <th>3</th>\n",
       "      <td>2022-02-01</td>\n",
       "      <td>Active</td>\n",
       "    </tr>\n",
       "    <tr>\n",
       "      <th>4</th>\n",
       "      <td>2022-02-01</td>\n",
       "      <td>Inactive</td>\n",
       "    </tr>\n",
       "  </tbody>\n",
       "</table>\n",
       "</div>"
      ],
      "text/plain": [
       "        Date    Status\n",
       "0 2022-01-01    Active\n",
       "1 2022-01-01  Inactive\n",
       "2 2022-02-01    Active\n",
       "3 2022-02-01    Active\n",
       "4 2022-02-01  Inactive"
      ]
     },
     "execution_count": 8,
     "metadata": {},
     "output_type": "execute_result"
    }
   ],
   "source": [
    "temp_df = pd.DataFrame(df)\n",
    "temp_df[['Date', 'Status']]"
   ]
  },
  {
   "cell_type": "markdown",
   "id": "6f1df30c8bcd487c",
   "metadata": {
    "collapsed": false
   },
   "source": [
    "# query() is used to for conditional filtering of data, we can specify a single condition or multiple condition joined using or, and, etc."
   ]
  },
  {
   "cell_type": "code",
   "execution_count": 9,
   "id": "74c328cb54446fa2",
   "metadata": {
    "ExecuteTime": {
     "end_time": "2024-01-31T06:15:57.731126300Z",
     "start_time": "2024-01-31T06:15:57.567257700Z"
    },
    "collapsed": false
   },
   "outputs": [
    {
     "data": {
      "text/html": [
       "<div>\n",
       "<style scoped>\n",
       "    .dataframe tbody tr th:only-of-type {\n",
       "        vertical-align: middle;\n",
       "    }\n",
       "\n",
       "    .dataframe tbody tr th {\n",
       "        vertical-align: top;\n",
       "    }\n",
       "\n",
       "    .dataframe thead th {\n",
       "        text-align: right;\n",
       "    }\n",
       "</style>\n",
       "<table border=\"1\" class=\"dataframe\">\n",
       "  <thead>\n",
       "    <tr style=\"text-align: right;\">\n",
       "      <th></th>\n",
       "      <th>Date</th>\n",
       "      <th>Status</th>\n",
       "      <th>Amount</th>\n",
       "      <th>Month</th>\n",
       "    </tr>\n",
       "  </thead>\n",
       "  <tbody>\n",
       "    <tr>\n",
       "      <th>1</th>\n",
       "      <td>2022-01-01</td>\n",
       "      <td>Inactive</td>\n",
       "      <td>150</td>\n",
       "      <td>January</td>\n",
       "    </tr>\n",
       "    <tr>\n",
       "      <th>3</th>\n",
       "      <td>2022-02-01</td>\n",
       "      <td>Active</td>\n",
       "      <td>120</td>\n",
       "      <td>February</td>\n",
       "    </tr>\n",
       "  </tbody>\n",
       "</table>\n",
       "</div>"
      ],
      "text/plain": [
       "        Date    Status  Amount     Month\n",
       "1 2022-01-01  Inactive     150   January\n",
       "3 2022-02-01    Active     120  February"
      ]
     },
     "execution_count": 9,
     "metadata": {},
     "output_type": "execute_result"
    }
   ],
   "source": [
    "df.query('Amount > 100')"
   ]
  },
  {
   "cell_type": "code",
   "execution_count": 10,
   "id": "12e6081d95ac38e5",
   "metadata": {
    "ExecuteTime": {
     "end_time": "2024-01-31T06:18:14.972306900Z",
     "start_time": "2024-01-31T06:18:14.937249200Z"
    },
    "collapsed": false
   },
   "outputs": [
    {
     "data": {
      "text/html": [
       "<div>\n",
       "<style scoped>\n",
       "    .dataframe tbody tr th:only-of-type {\n",
       "        vertical-align: middle;\n",
       "    }\n",
       "\n",
       "    .dataframe tbody tr th {\n",
       "        vertical-align: top;\n",
       "    }\n",
       "\n",
       "    .dataframe thead th {\n",
       "        text-align: right;\n",
       "    }\n",
       "</style>\n",
       "<table border=\"1\" class=\"dataframe\">\n",
       "  <thead>\n",
       "    <tr style=\"text-align: right;\">\n",
       "      <th></th>\n",
       "      <th>Date</th>\n",
       "      <th>Status</th>\n",
       "      <th>Amount</th>\n",
       "      <th>Month</th>\n",
       "    </tr>\n",
       "  </thead>\n",
       "  <tbody>\n",
       "    <tr>\n",
       "      <th>1</th>\n",
       "      <td>2022-01-01</td>\n",
       "      <td>Inactive</td>\n",
       "      <td>150</td>\n",
       "      <td>January</td>\n",
       "    </tr>\n",
       "  </tbody>\n",
       "</table>\n",
       "</div>"
      ],
      "text/plain": [
       "        Date    Status  Amount    Month\n",
       "1 2022-01-01  Inactive     150  January"
      ]
     },
     "execution_count": 10,
     "metadata": {},
     "output_type": "execute_result"
    }
   ],
   "source": [
    "df.query(\"Amount>100 and Month=='January'\")"
   ]
  },
  {
   "cell_type": "code",
   "execution_count": 11,
   "id": "6c2debcf4021b102",
   "metadata": {
    "ExecuteTime": {
     "end_time": "2024-01-31T06:19:05.531266600Z",
     "start_time": "2024-01-31T06:19:05.517712700Z"
    },
    "collapsed": false
   },
   "outputs": [
    {
     "data": {
      "text/html": [
       "<div>\n",
       "<style scoped>\n",
       "    .dataframe tbody tr th:only-of-type {\n",
       "        vertical-align: middle;\n",
       "    }\n",
       "\n",
       "    .dataframe tbody tr th {\n",
       "        vertical-align: top;\n",
       "    }\n",
       "\n",
       "    .dataframe thead th {\n",
       "        text-align: right;\n",
       "    }\n",
       "</style>\n",
       "<table border=\"1\" class=\"dataframe\">\n",
       "  <thead>\n",
       "    <tr style=\"text-align: right;\">\n",
       "      <th></th>\n",
       "      <th>Date</th>\n",
       "      <th>Status</th>\n",
       "      <th>Amount</th>\n",
       "      <th>Month</th>\n",
       "    </tr>\n",
       "  </thead>\n",
       "  <tbody>\n",
       "    <tr>\n",
       "      <th>1</th>\n",
       "      <td>2022-01-01</td>\n",
       "      <td>Inactive</td>\n",
       "      <td>150</td>\n",
       "      <td>January</td>\n",
       "    </tr>\n",
       "    <tr>\n",
       "      <th>3</th>\n",
       "      <td>2022-02-01</td>\n",
       "      <td>Active</td>\n",
       "      <td>120</td>\n",
       "      <td>February</td>\n",
       "    </tr>\n",
       "  </tbody>\n",
       "</table>\n",
       "</div>"
      ],
      "text/plain": [
       "        Date    Status  Amount     Month\n",
       "1 2022-01-01  Inactive     150   January\n",
       "3 2022-02-01    Active     120  February"
      ]
     },
     "execution_count": 11,
     "metadata": {},
     "output_type": "execute_result"
    }
   ],
   "source": [
    "# we can use a variable value by using the @ symbol\n",
    "threshold = 100\n",
    "df.query('Amount > @threshold')"
   ]
  },
  {
   "cell_type": "markdown",
   "id": "37a59fa3b9f1aad5",
   "metadata": {
    "collapsed": false
   },
   "source": [
    "# Get Count by Status using Pandas DataFrame APIs. This involves using Pandas DataFrame methods to group data by a specific column, such as \"Status,\" and then obtaining counts for each unique value in that column."
   ]
  },
  {
   "cell_type": "code",
   "execution_count": 12,
   "id": "a856a904f658dab1",
   "metadata": {
    "ExecuteTime": {
     "end_time": "2024-01-31T06:44:22.469649300Z",
     "start_time": "2024-01-31T06:44:22.442855800Z"
    },
    "collapsed": false
   },
   "outputs": [
    {
     "name": "stdout",
     "output_type": "stream",
     "text": [
      "Original DataFrame:\n",
      "    Name  Age    Status\n",
      "0   John   30    Active\n",
      "1  Alice   25  Inactive\n",
      "2    Bob   28    Active\n",
      "3    Eve   35    Active\n",
      "4   Mike   22  Inactive\n",
      "5   Anna   29    Active\n",
      "6    Tom   31  Inactive\n"
     ]
    }
   ],
   "source": [
    "import pandas as pd\n",
    "\n",
    "# Sample DataFrame\n",
    "data = {\n",
    "    'Name': ['John', 'Alice', 'Bob', 'Eve', 'Mike', 'Anna', 'Tom'],\n",
    "    'Age': [30, 25, 28, 35, 22, 29, 31],\n",
    "    'Status': ['Active', 'Inactive', 'Active', 'Active', 'Inactive', 'Active', 'Inactive']\n",
    "}\n",
    "\n",
    "df_new = pd.DataFrame(data)\n",
    "\n",
    "print(\"Original DataFrame:\")\n",
    "print(df_new)"
   ]
  },
  {
   "cell_type": "code",
   "execution_count": 13,
   "id": "33ef6c47189a6f92",
   "metadata": {
    "ExecuteTime": {
     "end_time": "2024-01-31T06:44:57.742578Z",
     "start_time": "2024-01-31T06:44:57.723697800Z"
    },
    "collapsed": false
   },
   "outputs": [
    {
     "name": "stdout",
     "output_type": "stream",
     "text": [
      "\n",
      "Count by Status:\n",
      "Status\n",
      "Active      4\n",
      "Inactive    3\n",
      "Name: count, dtype: int64\n"
     ]
    }
   ],
   "source": [
    "# Using group by and count to get counts by status\n",
    "status_counts = df_new['Status'].value_counts()\n",
    "print(\"\\nCount by Status:\")\n",
    "print(status_counts)"
   ]
  },
  {
   "cell_type": "code",
   "execution_count": 57,
   "id": "db39159e3b6c1348",
   "metadata": {
    "ExecuteTime": {
     "end_time": "2024-01-31T06:47:28.472702200Z",
     "start_time": "2024-01-31T06:47:25.729879Z"
    },
    "collapsed": false
   },
   "outputs": [
    {
     "data": {
      "image/png": "[encoded data removed]",
      "text/plain": [
       "<Figure size 640x480 with 1 Axes>"
      ]
     },
     "metadata": {},
     "output_type": "display_data"
    }
   ],
   "source": [
    "import matplotlib.pyplot as plt\n",
    "\n",
    "# Plotting the counts\n",
    "status_counts.plot(kind='bar', rot=0)\n",
    "plt.xlabel('Status')\n",
    "plt.ylabel('Count')\n",
    "plt.title('Count by Status')\n",
    "plt.show()"
   ]
  },
  {
   "cell_type": "markdown",
   "id": "517ae202df418bd5",
   "metadata": {
    "collapsed": false
   },
   "source": [
    "# Get Count by Month and Status using Pandas DataFrame APIs:\n",
    "Suppose you have a DataFrame representing a dataset with \"Month,\" \"Status,\" and other relevant columns:"
   ]
  },
  {
   "cell_type": "code",
   "execution_count": 14,
   "id": "63269b7b1c4d5940",
   "metadata": {
    "ExecuteTime": {
     "end_time": "2024-01-31T07:01:13.807101300Z",
     "start_time": "2024-01-31T07:01:13.797589800Z"
    },
    "collapsed": false
   },
   "outputs": [
    {
     "name": "stdout",
     "output_type": "stream",
     "text": [
      "Original DataFrame:\n",
      "        Date    Status  Amount\n",
      "0 2022-01-01    Active     100\n",
      "1 2022-01-01  Inactive     150\n",
      "2 2022-02-01    Active      80\n",
      "3 2022-02-01    Active     120\n",
      "4 2022-02-01  Inactive      90\n"
     ]
    }
   ],
   "source": [
    "import pandas as pd\n",
    "\n",
    "# Sample DataFrame\n",
    "data = {\n",
    "    'Date': ['2022-01-01', '2022-01-01', '2022-02-01', '2022-02-01', '2022-02-01'],\n",
    "    'Status': ['Active', 'Inactive', 'Active', 'Active', 'Inactive'],\n",
    "    'Amount': [100, 150, 80, 120, 90]\n",
    "}\n",
    "\n",
    "df = pd.DataFrame(data)\n",
    "df['Date'] = pd.to_datetime(df['Date'])  # Convert 'Date' column to datetime\n",
    "\n",
    "print(\"Original DataFrame:\")\n",
    "print(df)"
   ]
  },
  {
   "cell_type": "markdown",
   "id": "79f7c0a30aeead83",
   "metadata": {
    "collapsed": false
   },
   "source": [
    "- Added a new column \"Month\" by extracting the month from the \"Date\" column using df['Date'].dt.month_name().\n",
    "- df.groupby(['Month', 'Status']).size() groups the data by both \"Month\" and \"Status\" and returns the count for each combination.\n",
    "- unstack(fill_value=0) reshapes the result to form a DataFrame with \"Month\" as the index, \"Status\" as columns, and counts as values."
   ]
  },
  {
   "cell_type": "code",
   "execution_count": 15,
   "id": "eae639da5f8781ec",
   "metadata": {
    "ExecuteTime": {
     "end_time": "2024-01-31T07:04:40.997626600Z",
     "start_time": "2024-01-31T07:04:40.982998200Z"
    },
    "collapsed": false
   },
   "outputs": [
    {
     "name": "stdout",
     "output_type": "stream",
     "text": [
      "\n",
      "Count by Month and Status:\n",
      "Status    Active  Inactive\n",
      "Month                     \n",
      "February       2         1\n",
      "January        1         1\n"
     ]
    }
   ],
   "source": [
    "# Extracting Month from Date\n",
    "df['Month'] = df['Date'].dt.month_name()\n",
    "# Using groupby and count to get counts by month and status\n",
    "month_status_counts = df.groupby(['Month', 'Status']).size().unstack(fill_value=0)\n",
    "print(\"\\nCount by Month and Status:\")\n",
    "print(month_status_counts)"
   ]
  },
  {
   "cell_type": "markdown",
   "id": "bce880f96eef4099",
   "metadata": {
    "collapsed": false
   },
   "source": [
    "## Create Dataframes using Dynamic Column List on CSV Data:"
   ]
  },
  {
   "cell_type": "code",
   "execution_count": 16,
   "id": "ed40caa98df34263",
   "metadata": {
    "ExecuteTime": {
     "end_time": "2024-01-31T07:26:46.160698500Z",
     "start_time": "2024-01-31T07:26:46.126466Z"
    },
    "collapsed": false
   },
   "outputs": [
    {
     "data": {
      "text/html": [
       "<div>\n",
       "<style scoped>\n",
       "    .dataframe tbody tr th:only-of-type {\n",
       "        vertical-align: middle;\n",
       "    }\n",
       "\n",
       "    .dataframe tbody tr th {\n",
       "        vertical-align: top;\n",
       "    }\n",
       "\n",
       "    .dataframe thead th {\n",
       "        text-align: right;\n",
       "    }\n",
       "</style>\n",
       "<table border=\"1\" class=\"dataframe\">\n",
       "  <thead>\n",
       "    <tr style=\"text-align: right;\">\n",
       "      <th></th>\n",
       "      <th>Date</th>\n",
       "      <th>Status</th>\n",
       "      <th>Amount</th>\n",
       "    </tr>\n",
       "  </thead>\n",
       "  <tbody>\n",
       "    <tr>\n",
       "      <th>0</th>\n",
       "      <td>2022-01-01</td>\n",
       "      <td>Active</td>\n",
       "      <td>100</td>\n",
       "    </tr>\n",
       "    <tr>\n",
       "      <th>1</th>\n",
       "      <td>2022-01-01</td>\n",
       "      <td>Inactive</td>\n",
       "      <td>150</td>\n",
       "    </tr>\n",
       "    <tr>\n",
       "      <th>2</th>\n",
       "      <td>2022-02-01</td>\n",
       "      <td>Active</td>\n",
       "      <td>80</td>\n",
       "    </tr>\n",
       "    <tr>\n",
       "      <th>3</th>\n",
       "      <td>2022-02-01</td>\n",
       "      <td>Active</td>\n",
       "      <td>120</td>\n",
       "    </tr>\n",
       "    <tr>\n",
       "      <th>4</th>\n",
       "      <td>2022-02-01</td>\n",
       "      <td>Inactive</td>\n",
       "      <td>90</td>\n",
       "    </tr>\n",
       "  </tbody>\n",
       "</table>\n",
       "</div>"
      ],
      "text/plain": [
       "        Date    Status  Amount\n",
       "0 2022-01-01    Active     100\n",
       "1 2022-01-01  Inactive     150\n",
       "2 2022-02-01    Active      80\n",
       "3 2022-02-01    Active     120\n",
       "4 2022-02-01  Inactive      90"
      ]
     },
     "execution_count": 16,
     "metadata": {},
     "output_type": "execute_result"
    }
   ],
   "source": [
    "# Selected columns from the dataframe by passing the columns list ['Date','Status','Amount']\n",
    "df[['Date', 'Status', 'Amount']]"
   ]
  },
  {
   "cell_type": "markdown",
   "id": "18b24fde650798d1",
   "metadata": {
    "collapsed": false
   },
   "source": [
    "# Parameterized dynamic column list"
   ]
  },
  {
   "cell_type": "code",
   "execution_count": 17,
   "id": "43b62eb3d1b90392",
   "metadata": {
    "ExecuteTime": {
     "end_time": "2024-01-31T07:29:04.436565400Z",
     "start_time": "2024-01-31T07:29:04.406406200Z"
    },
    "collapsed": false
   },
   "outputs": [
    {
     "name": "stdout",
     "output_type": "stream",
     "text": [
      "\n",
      "Dynamic DataFrame with Parameterized Columns:\n"
     ]
    },
    {
     "data": {
      "text/html": [
       "<div>\n",
       "<style scoped>\n",
       "    .dataframe tbody tr th:only-of-type {\n",
       "        vertical-align: middle;\n",
       "    }\n",
       "\n",
       "    .dataframe tbody tr th {\n",
       "        vertical-align: top;\n",
       "    }\n",
       "\n",
       "    .dataframe thead th {\n",
       "        text-align: right;\n",
       "    }\n",
       "</style>\n",
       "<table border=\"1\" class=\"dataframe\">\n",
       "  <thead>\n",
       "    <tr style=\"text-align: right;\">\n",
       "      <th></th>\n",
       "      <th>Date</th>\n",
       "      <th>Status</th>\n",
       "    </tr>\n",
       "  </thead>\n",
       "  <tbody>\n",
       "    <tr>\n",
       "      <th>0</th>\n",
       "      <td>2022-01-01</td>\n",
       "      <td>Active</td>\n",
       "    </tr>\n",
       "    <tr>\n",
       "      <th>1</th>\n",
       "      <td>2022-01-01</td>\n",
       "      <td>Inactive</td>\n",
       "    </tr>\n",
       "    <tr>\n",
       "      <th>2</th>\n",
       "      <td>2022-02-01</td>\n",
       "      <td>Active</td>\n",
       "    </tr>\n",
       "    <tr>\n",
       "      <th>3</th>\n",
       "      <td>2022-02-01</td>\n",
       "      <td>Active</td>\n",
       "    </tr>\n",
       "    <tr>\n",
       "      <th>4</th>\n",
       "      <td>2022-02-01</td>\n",
       "      <td>Inactive</td>\n",
       "    </tr>\n",
       "  </tbody>\n",
       "</table>\n",
       "</div>"
      ],
      "text/plain": [
       "        Date    Status\n",
       "0 2022-01-01    Active\n",
       "1 2022-01-01  Inactive\n",
       "2 2022-02-01    Active\n",
       "3 2022-02-01    Active\n",
       "4 2022-02-01  Inactive"
      ]
     },
     "execution_count": 17,
     "metadata": {},
     "output_type": "execute_result"
    }
   ],
   "source": [
    "def create_dynamic_dataframe(columns):\n",
    "    return df[columns]\n",
    "\n",
    "selected_columns = ['Date', 'Status']\n",
    "dynamic_df = create_dynamic_dataframe(selected_columns)\n",
    "\n",
    "print(\"\\nDynamic DataFrame with Parameterized Columns:\")\n",
    "dynamic_df"
   ]
  },
  {
   "cell_type": "markdown",
   "id": "9825a26629138930",
   "metadata": {
    "collapsed": false
   },
   "source": [
    "## Performing Inner Join between Pandas DataFrames:\n",
    "\n",
    "- Performing Inner Join between Pandas Dataframes. This involves using the merge() function in Pandas to perform an inner join between two DataFrames based on a common key"
   ]
  },
  {
   "cell_type": "code",
   "execution_count": 19,
   "id": "99301771f1fba93f",
   "metadata": {
    "ExecuteTime": {
     "end_time": "2024-01-31T08:20:58.752834200Z",
     "start_time": "2024-01-31T08:20:58.261211900Z"
    },
    "collapsed": false
   },
   "outputs": [
    {
     "name": "stdout",
     "output_type": "stream",
     "text": [
      "Sales Data DataFrame:\n",
      "         Date  Product  Amount Customer\n",
      "0  2022-01-01   Apples     100     John\n",
      "1  2022-01-01  Oranges     150    Alice\n",
      "2  2022-01-02  Bananas      80      Bob\n",
      "3  2022-01-02   Apples     120      Eve\n",
      "\n",
      "Customer DataFrame:\n",
      "  Customer Region\n",
      "0     John   East\n",
      "1    Alice   West\n",
      "2      Bob  North\n",
      "3      Eve  South\n",
      "\n",
      "Merged DataFrame:\n"
     ]
    },
    {
     "data": {
      "text/html": [
       "<div>\n",
       "<style scoped>\n",
       "    .dataframe tbody tr th:only-of-type {\n",
       "        vertical-align: middle;\n",
       "    }\n",
       "\n",
       "    .dataframe tbody tr th {\n",
       "        vertical-align: top;\n",
       "    }\n",
       "\n",
       "    .dataframe thead th {\n",
       "        text-align: right;\n",
       "    }\n",
       "</style>\n",
       "<table border=\"1\" class=\"dataframe\">\n",
       "  <thead>\n",
       "    <tr style=\"text-align: right;\">\n",
       "      <th></th>\n",
       "      <th>Date</th>\n",
       "      <th>Product</th>\n",
       "      <th>Amount</th>\n",
       "      <th>Customer</th>\n",
       "      <th>Region</th>\n",
       "    </tr>\n",
       "  </thead>\n",
       "  <tbody>\n",
       "    <tr>\n",
       "      <th>0</th>\n",
       "      <td>2022-01-01</td>\n",
       "      <td>Apples</td>\n",
       "      <td>100</td>\n",
       "      <td>John</td>\n",
       "      <td>East</td>\n",
       "    </tr>\n",
       "    <tr>\n",
       "      <th>1</th>\n",
       "      <td>2022-01-01</td>\n",
       "      <td>Oranges</td>\n",
       "      <td>150</td>\n",
       "      <td>Alice</td>\n",
       "      <td>West</td>\n",
       "    </tr>\n",
       "    <tr>\n",
       "      <th>2</th>\n",
       "      <td>2022-01-02</td>\n",
       "      <td>Bananas</td>\n",
       "      <td>80</td>\n",
       "      <td>Bob</td>\n",
       "      <td>North</td>\n",
       "    </tr>\n",
       "    <tr>\n",
       "      <th>3</th>\n",
       "      <td>2022-01-02</td>\n",
       "      <td>Apples</td>\n",
       "      <td>120</td>\n",
       "      <td>Eve</td>\n",
       "      <td>South</td>\n",
       "    </tr>\n",
       "  </tbody>\n",
       "</table>\n",
       "</div>"
      ],
      "text/plain": [
       "         Date  Product  Amount Customer Region\n",
       "0  2022-01-01   Apples     100     John   East\n",
       "1  2022-01-01  Oranges     150    Alice   West\n",
       "2  2022-01-02  Bananas      80      Bob  North\n",
       "3  2022-01-02   Apples     120      Eve  South"
      ]
     },
     "execution_count": 19,
     "metadata": {},
     "output_type": "execute_result"
    }
   ],
   "source": [
    "import pandas as pd\n",
    "\n",
    "# Sales Data DataFrame\n",
    "sales_data = {\n",
    "    'Date': ['2022-01-01', '2022-01-01', '2022-01-02', '2022-01-02'],\n",
    "    'Product': ['Apples', 'Oranges', 'Bananas', 'Apples'],\n",
    "    'Amount': [100, 150, 80, 120],\n",
    "    'Customer': ['John', 'Alice', 'Bob', 'Eve']\n",
    "}\n",
    "df_sales = pd.DataFrame(sales_data)\n",
    "\n",
    "# Customer DataFrame\n",
    "customer_data = {\n",
    "    'Customer': ['John', 'Alice', 'Bob', 'Eve'],\n",
    "    'Region': ['East', 'West', 'North', 'South']\n",
    "}\n",
    "df_customers = pd.DataFrame(customer_data)\n",
    "\n",
    "print(\"Sales Data DataFrame:\")\n",
    "print(df_sales)\n",
    "print(\"\\nCustomer DataFrame:\")\n",
    "print(df_customers)\n",
    "\n",
    "# Performing inner join on 'Customer' column\n",
    "merged_df = pd.merge(df_sales, df_customers, on='Customer')\n",
    "print(\"\\nMerged DataFrame:\")\n",
    "merged_df"
   ]
  },
  {
   "cell_type": "markdown",
   "id": "a0e875dd90b14643",
   "metadata": {
    "collapsed": false
   },
   "source": [
    "# Perform Aggregations on Join results. \n",
    "- This involves using Pandas to perform aggregation operations on DataFrames that result from joining multiple tables."
   ]
  },
  {
   "cell_type": "code",
   "execution_count": 20,
   "id": "93ddad73fb71ff26",
   "metadata": {
    "ExecuteTime": {
     "end_time": "2024-01-31T11:11:39.101558Z",
     "start_time": "2024-01-31T11:11:39.065318Z"
    },
    "collapsed": false
   },
   "outputs": [
    {
     "data": {
      "text/html": [
       "<div>\n",
       "<style scoped>\n",
       "    .dataframe tbody tr th:only-of-type {\n",
       "        vertical-align: middle;\n",
       "    }\n",
       "\n",
       "    .dataframe tbody tr th {\n",
       "        vertical-align: top;\n",
       "    }\n",
       "\n",
       "    .dataframe thead th {\n",
       "        text-align: right;\n",
       "    }\n",
       "</style>\n",
       "<table border=\"1\" class=\"dataframe\">\n",
       "  <thead>\n",
       "    <tr style=\"text-align: right;\">\n",
       "      <th></th>\n",
       "      <th>Region</th>\n",
       "      <th>Amount</th>\n",
       "    </tr>\n",
       "  </thead>\n",
       "  <tbody>\n",
       "    <tr>\n",
       "      <th>0</th>\n",
       "      <td>East</td>\n",
       "      <td>100</td>\n",
       "    </tr>\n",
       "    <tr>\n",
       "      <th>1</th>\n",
       "      <td>North</td>\n",
       "      <td>80</td>\n",
       "    </tr>\n",
       "    <tr>\n",
       "      <th>2</th>\n",
       "      <td>South</td>\n",
       "      <td>120</td>\n",
       "    </tr>\n",
       "    <tr>\n",
       "      <th>3</th>\n",
       "      <td>West</td>\n",
       "      <td>150</td>\n",
       "    </tr>\n",
       "  </tbody>\n",
       "</table>\n",
       "</div>"
      ],
      "text/plain": [
       "  Region  Amount\n",
       "0   East     100\n",
       "1  North      80\n",
       "2  South     120\n",
       "3   West     150"
      ]
     },
     "execution_count": 20,
     "metadata": {},
     "output_type": "execute_result"
    }
   ],
   "source": [
    "region_sales_total = merged_df.groupby('Region')['Amount'].sum().reset_index()\n",
    "region_sales_total"
   ]
  },
  {
   "cell_type": "markdown",
   "id": "fb839106a7b4c81b",
   "metadata": {
    "collapsed": false
   },
   "source": [
    "# Multiple Aggregations:\n",
    " - You can perform multiple aggregations simultaneously, such as calculating both the sum and the average."
   ]
  },
  {
   "cell_type": "code",
   "execution_count": 21,
   "id": "30dc95bca8606b55",
   "metadata": {
    "ExecuteTime": {
     "end_time": "2024-01-31T11:13:33.550527Z",
     "start_time": "2024-01-31T11:13:33.221432900Z"
    },
    "collapsed": false
   },
   "outputs": [
    {
     "data": {
      "text/html": [
       "<div>\n",
       "<style scoped>\n",
       "    .dataframe tbody tr th:only-of-type {\n",
       "        vertical-align: middle;\n",
       "    }\n",
       "\n",
       "    .dataframe tbody tr th {\n",
       "        vertical-align: top;\n",
       "    }\n",
       "\n",
       "    .dataframe thead th {\n",
       "        text-align: right;\n",
       "    }\n",
       "</style>\n",
       "<table border=\"1\" class=\"dataframe\">\n",
       "  <thead>\n",
       "    <tr style=\"text-align: right;\">\n",
       "      <th></th>\n",
       "      <th>Region</th>\n",
       "      <th>sum</th>\n",
       "      <th>mean</th>\n",
       "    </tr>\n",
       "  </thead>\n",
       "  <tbody>\n",
       "    <tr>\n",
       "      <th>0</th>\n",
       "      <td>East</td>\n",
       "      <td>100</td>\n",
       "      <td>100.0</td>\n",
       "    </tr>\n",
       "    <tr>\n",
       "      <th>1</th>\n",
       "      <td>North</td>\n",
       "      <td>80</td>\n",
       "      <td>80.0</td>\n",
       "    </tr>\n",
       "    <tr>\n",
       "      <th>2</th>\n",
       "      <td>South</td>\n",
       "      <td>120</td>\n",
       "      <td>120.0</td>\n",
       "    </tr>\n",
       "    <tr>\n",
       "      <th>3</th>\n",
       "      <td>West</td>\n",
       "      <td>150</td>\n",
       "      <td>150.0</td>\n",
       "    </tr>\n",
       "  </tbody>\n",
       "</table>\n",
       "</div>"
      ],
      "text/plain": [
       "  Region  sum   mean\n",
       "0   East  100  100.0\n",
       "1  North   80   80.0\n",
       "2  South  120  120.0\n",
       "3   West  150  150.0"
      ]
     },
     "execution_count": 21,
     "metadata": {},
     "output_type": "execute_result"
    }
   ],
   "source": [
    "region_sales_stats = merged_df.groupby('Region')['Amount'].agg(['sum','mean']).reset_index()\n",
    "region_sales_stats"
   ]
  },
  {
   "cell_type": "markdown",
   "id": "fdb75a777fc9a88",
   "metadata": {
    "collapsed": false
   },
   "source": [
    "# Aggregation on Multiple Columns:\n",
    " - You can perform aggregations on multiple columns simultaneously."
   ]
  },
  {
   "cell_type": "code",
   "execution_count": 22,
   "id": "b62a2bb5bb7013c",
   "metadata": {
    "ExecuteTime": {
     "end_time": "2024-01-31T11:14:49.331882400Z",
     "start_time": "2024-01-31T11:14:49.287613700Z"
    },
    "collapsed": false
   },
   "outputs": [
    {
     "name": "stdout",
     "output_type": "stream",
     "text": [
      "\n",
      "Multiple Column Aggregation per Region:\n"
     ]
    },
    {
     "data": {
      "text/html": [
       "<div>\n",
       "<style scoped>\n",
       "    .dataframe tbody tr th:only-of-type {\n",
       "        vertical-align: middle;\n",
       "    }\n",
       "\n",
       "    .dataframe tbody tr th {\n",
       "        vertical-align: top;\n",
       "    }\n",
       "\n",
       "    .dataframe thead th {\n",
       "        text-align: right;\n",
       "    }\n",
       "</style>\n",
       "<table border=\"1\" class=\"dataframe\">\n",
       "  <thead>\n",
       "    <tr style=\"text-align: right;\">\n",
       "      <th></th>\n",
       "      <th>Region</th>\n",
       "      <th>Amount</th>\n",
       "      <th>Customer</th>\n",
       "    </tr>\n",
       "  </thead>\n",
       "  <tbody>\n",
       "    <tr>\n",
       "      <th>0</th>\n",
       "      <td>East</td>\n",
       "      <td>100</td>\n",
       "      <td>1</td>\n",
       "    </tr>\n",
       "    <tr>\n",
       "      <th>1</th>\n",
       "      <td>North</td>\n",
       "      <td>80</td>\n",
       "      <td>1</td>\n",
       "    </tr>\n",
       "    <tr>\n",
       "      <th>2</th>\n",
       "      <td>South</td>\n",
       "      <td>120</td>\n",
       "      <td>1</td>\n",
       "    </tr>\n",
       "    <tr>\n",
       "      <th>3</th>\n",
       "      <td>West</td>\n",
       "      <td>150</td>\n",
       "      <td>1</td>\n",
       "    </tr>\n",
       "  </tbody>\n",
       "</table>\n",
       "</div>"
      ],
      "text/plain": [
       "  Region  Amount  Customer\n",
       "0   East     100         1\n",
       "1  North      80         1\n",
       "2  South     120         1\n",
       "3   West     150         1"
      ]
     },
     "execution_count": 22,
     "metadata": {},
     "output_type": "execute_result"
    }
   ],
   "source": [
    "# Aggregating total sales amount and average age per region\n",
    "multi_column_agg = merged_df.groupby('Region').agg({'Amount': 'sum', 'Customer': 'count'}).reset_index()\n",
    "\n",
    "print(\"\\nMultiple Column Aggregation per Region:\")\n",
    "multi_column_agg"
   ]
  },
  {
   "cell_type": "markdown",
   "id": "d7f8621709746cc8",
   "metadata": {
    "collapsed": false
   },
   "source": [
    "# Sort Data in Pandas DataFrames\n",
    "- \"Sort Data in Pandas Dataframes.\" Sorting data in Pandas DataFrames involves arranging the rows based on the values in one or more columns."
   ]
  },
  {
   "cell_type": "code",
   "execution_count": 23,
   "id": "ea8e2b70533102d",
   "metadata": {
    "ExecuteTime": {
     "end_time": "2024-01-31T11:30:20.718976900Z",
     "start_time": "2024-01-31T11:30:20.647491600Z"
    },
    "collapsed": false
   },
   "outputs": [
    {
     "name": "stdout",
     "output_type": "stream",
     "text": [
      "Sales DataFrame:\n",
      "         Date  Product  Amount Customer\n",
      "0  2022-01-01   Apples     100     John\n",
      "1  2022-01-01  Oranges     150    Alice\n",
      "2  2022-01-02  Bananas      80      Bob\n",
      "3  2022-01-02   Apples     120      Eve\n",
      "\n",
      "Sorted Sales DataFrame:\n",
      "         Date  Product  Amount Customer\n",
      "2  2022-01-02  Bananas      80      Bob\n",
      "0  2022-01-01   Apples     100     John\n",
      "3  2022-01-02   Apples     120      Eve\n",
      "1  2022-01-01  Oranges     150    Alice\n"
     ]
    }
   ],
   "source": [
    "print(\"Sales DataFrame:\")\n",
    "print(df_sales)\n",
    "\n",
    "print(\"\\nSorted Sales DataFrame:\")\n",
    "print(df_sales.sort_values(by='Amount', ascending=True))"
   ]
  },
  {
   "cell_type": "markdown",
   "id": "8352af7346d76f22",
   "metadata": {
    "collapsed": false
   },
   "source": [
    "# Sorting DataFrame by 'Product' and then by 'Amount'\n",
    "- You can sort the DataFrame in descending order by setting the ascending parameter to False."
   ]
  },
  {
   "cell_type": "code",
   "execution_count": 24,
   "id": "9202ef3f849809f9",
   "metadata": {
    "ExecuteTime": {
     "end_time": "2024-01-31T11:33:15.943479400Z",
     "start_time": "2024-01-31T11:33:15.863587500Z"
    },
    "collapsed": false
   },
   "outputs": [
    {
     "name": "stdout",
     "output_type": "stream",
     "text": [
      "\n",
      "Sorted DataFrame by Product and Amount:\n"
     ]
    },
    {
     "data": {
      "text/html": [
       "<div>\n",
       "<style scoped>\n",
       "    .dataframe tbody tr th:only-of-type {\n",
       "        vertical-align: middle;\n",
       "    }\n",
       "\n",
       "    .dataframe tbody tr th {\n",
       "        vertical-align: top;\n",
       "    }\n",
       "\n",
       "    .dataframe thead th {\n",
       "        text-align: right;\n",
       "    }\n",
       "</style>\n",
       "<table border=\"1\" class=\"dataframe\">\n",
       "  <thead>\n",
       "    <tr style=\"text-align: right;\">\n",
       "      <th></th>\n",
       "      <th>Date</th>\n",
       "      <th>Product</th>\n",
       "      <th>Amount</th>\n",
       "      <th>Customer</th>\n",
       "    </tr>\n",
       "  </thead>\n",
       "  <tbody>\n",
       "    <tr>\n",
       "      <th>3</th>\n",
       "      <td>2022-01-02</td>\n",
       "      <td>Apples</td>\n",
       "      <td>120</td>\n",
       "      <td>Eve</td>\n",
       "    </tr>\n",
       "    <tr>\n",
       "      <th>0</th>\n",
       "      <td>2022-01-01</td>\n",
       "      <td>Apples</td>\n",
       "      <td>100</td>\n",
       "      <td>John</td>\n",
       "    </tr>\n",
       "    <tr>\n",
       "      <th>2</th>\n",
       "      <td>2022-01-02</td>\n",
       "      <td>Bananas</td>\n",
       "      <td>80</td>\n",
       "      <td>Bob</td>\n",
       "    </tr>\n",
       "    <tr>\n",
       "      <th>1</th>\n",
       "      <td>2022-01-01</td>\n",
       "      <td>Oranges</td>\n",
       "      <td>150</td>\n",
       "      <td>Alice</td>\n",
       "    </tr>\n",
       "  </tbody>\n",
       "</table>\n",
       "</div>"
      ],
      "text/plain": [
       "         Date  Product  Amount Customer\n",
       "3  2022-01-02   Apples     120      Eve\n",
       "0  2022-01-01   Apples     100     John\n",
       "2  2022-01-02  Bananas      80      Bob\n",
       "1  2022-01-01  Oranges     150    Alice"
      ]
     },
     "execution_count": 24,
     "metadata": {},
     "output_type": "execute_result"
    }
   ],
   "source": [
    "multi_sorted_df = df_sales.sort_values(by=['Product', 'Amount'], ascending=[True, False])\n",
    "print(\"\\nSorted DataFrame by Product and Amount:\")\n",
    "multi_sorted_df"
   ]
  },
  {
   "cell_type": "markdown",
   "id": "d3564a16c5f24278",
   "metadata": {
    "collapsed": false
   },
   "source": [
    "# Writing Pandas DataFrames to Files\n",
    "- \"Writing Pandas Dataframes to Files.\" This involves saving Pandas DataFrames to various file formats, such as CSV and JSON. "
   ]
  },
  {
   "cell_type": "code",
   "execution_count": 25,
   "id": "da46d44260d5d281",
   "metadata": {
    "ExecuteTime": {
     "end_time": "2024-01-31T11:37:09.156943900Z",
     "start_time": "2024-01-31T11:37:09.112542100Z"
    },
    "collapsed": false
   },
   "outputs": [
    {
     "name": "stdout",
     "output_type": "stream",
     "text": [
      "         Date  Product  Amount Customer\n",
      "0  2022-01-01   Apples     100     John\n",
      "1  2022-01-01  Oranges     150    Alice\n",
      "2  2022-01-02  Bananas      80      Bob\n",
      "3  2022-01-02   Apples     120      Eve\n"
     ]
    }
   ],
   "source": [
    "print(df_sales)"
   ]
  },
  {
   "cell_type": "code",
   "execution_count": 26,
   "id": "d98db98067117b9f",
   "metadata": {
    "ExecuteTime": {
     "end_time": "2024-01-31T11:41:04.372698900Z",
     "start_time": "2024-01-31T11:41:04.340486400Z"
    },
    "collapsed": false
   },
   "outputs": [
    {
     "name": "stdout",
     "output_type": "stream",
     "text": [
      "\n",
      "DataFrame has been written to CSV file: new_sales_data.csv\n"
     ]
    }
   ],
   "source": [
    "# Writing DataFrame to CSV file\n",
    "csv_file_path = 'new_sales_data.csv'\n",
    "df_sales.to_csv(csv_file_path, index=False)\n",
    "print(f\"\\nDataFrame has been written to CSV file: {csv_file_path}\")"
   ]
  },
  {
   "cell_type": "markdown",
   "id": "fcac084af55f29cd",
   "metadata": {
    "collapsed": false
   },
   "source": [
    "# Writing Pandas DataFrames to JSON Files:"
   ]
  },
  {
   "cell_type": "code",
   "execution_count": 27,
   "id": "32d1da09641f5a2e",
   "metadata": {
    "ExecuteTime": {
     "end_time": "2024-01-31T19:20:06.495627700Z",
     "start_time": "2024-01-31T19:19:58.693245400Z"
    },
    "collapsed": false
   },
   "outputs": [],
   "source": [
    "import pandas as pd\n",
    "temp_df = pd.read_csv('username.csv')\n",
    "df =  pd.DataFrame(temp_df)"
   ]
  },
  {
   "cell_type": "code",
   "execution_count": 28,
   "id": "c740fb1a6998078",
   "metadata": {
    "ExecuteTime": {
     "end_time": "2024-01-31T19:20:06.632625100Z",
     "start_time": "2024-01-31T19:20:06.537629500Z"
    },
    "collapsed": false
   },
   "outputs": [
    {
     "data": {
      "text/html": [
       "<div>\n",
       "<style scoped>\n",
       "    .dataframe tbody tr th:only-of-type {\n",
       "        vertical-align: middle;\n",
       "    }\n",
       "\n",
       "    .dataframe tbody tr th {\n",
       "        vertical-align: top;\n",
       "    }\n",
       "\n",
       "    .dataframe thead th {\n",
       "        text-align: right;\n",
       "    }\n",
       "</style>\n",
       "<table border=\"1\" class=\"dataframe\">\n",
       "  <thead>\n",
       "    <tr style=\"text-align: right;\">\n",
       "      <th></th>\n",
       "      <th>Username</th>\n",
       "      <th>Identifier</th>\n",
       "      <th>First name</th>\n",
       "      <th>Last name</th>\n",
       "    </tr>\n",
       "  </thead>\n",
       "  <tbody>\n",
       "    <tr>\n",
       "      <th>0</th>\n",
       "      <td>vesson79</td>\n",
       "      <td>8587</td>\n",
       "      <td>smith</td>\n",
       "      <td>vesson</td>\n",
       "    </tr>\n",
       "  </tbody>\n",
       "</table>\n",
       "</div>"
      ],
      "text/plain": [
       "   Username  Identifier First name Last name\n",
       "0  vesson79        8587      smith    vesson"
      ]
     },
     "execution_count": 28,
     "metadata": {},
     "output_type": "execute_result"
    }
   ],
   "source": [
    "df"
   ]
  },
  {
   "cell_type": "code",
   "execution_count": 29,
   "id": "259d8b54e499d191",
   "metadata": {
    "ExecuteTime": {
     "end_time": "2024-01-31T19:21:15.741160Z",
     "start_time": "2024-01-31T19:21:15.676160800Z"
    },
    "collapsed": false
   },
   "outputs": [
    {
     "name": "stdout",
     "output_type": "stream",
     "text": [
      "\n",
      "DataFrame has been written to JSON file: 'username_json.json'\n"
     ]
    }
   ],
   "source": [
    "df.to_json('username_json.json', orient='records')\n",
    "print(f\"\\nDataFrame has been written to JSON file: 'username_json.json'\")"
   ]
  },
  {
   "cell_type": "code",
   "execution_count": null,
   "id": "399e5326-ffef-4f35-98c3-89b1141a98f0",
   "metadata": {},
   "outputs": [],
   "source": []
  }
 ],
 "metadata": {
  "kernelspec": {
   "display_name": "Python 3 (ipykernel)",
   "language": "python",
   "name": "python3"
  },
  "language_info": {
   "codemirror_mode": {
    "name": "ipython",
    "version": 3
   },
   "file_extension": ".py",
   "mimetype": "text/x-python",
   "name": "python",
   "nbconvert_exporter": "python",
   "pygments_lexer": "ipython3",
   "version": "3.8.18"
  }
 },
 "nbformat": 4,
 "nbformat_minor": 5
}
