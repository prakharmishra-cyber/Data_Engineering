{
 "cells": [
  {
   "cell_type": "markdown",
   "id": "115f3c963ed66f1",
   "metadata": {
    "collapsed": false
   },
   "source": [
    "# Q1. Explain Pandas for Data Processing\n",
    " + Pandas is a Python library for data manipulation and analysis. \n",
    " + It provides easy-to-use data structures like DataFrame and Series, along with tools for reading and writing data in various formats.\n",
    " + Think of it as a table or spreadsheet. It's a 2D structure to hold data, where each column can be of a different data type."
   ]
  },
  {
   "cell_type": "markdown",
   "id": "bceac261d29a720e",
   "metadata": {
    "collapsed": false
   },
   "source": [
    "# Q2. Execute Reading CSV Data using Pandas"
   ]
  },
  {
   "cell_type": "code",
   "execution_count": 3,
   "id": "initial_id",
   "metadata": {
    "ExecuteTime": {
     "end_time": "2024-02-02T10:42:24.460381Z",
     "start_time": "2024-02-02T10:42:24.405056800Z"
    },
    "collapsed": true,
    "jupyter": {
     "outputs_hidden": true
    }
   },
   "outputs": [
    {
     "name": "stdout",
     "output_type": "stream",
     "text": [
      "         Date    Status  Amount     Month\n",
      "0  2022-01-01    Active     100   January\n",
      "1  2022-01-01  Inactive     150   January\n",
      "2  2022-02-01    Active      80  February\n",
      "3  2022-02-01    Active     120  February\n",
      "4  2022-02-01  Inactive      90  February\n"
     ]
    }
   ],
   "source": [
    "import pandas as pd\n",
    "# Reading the csv file by using read_csv and specifying the file path\n",
    "temp = pd.read_csv('sales_data.csv')\n",
    "print(temp)"
   ]
  },
  {
   "cell_type": "markdown",
   "id": "751dbcd6b6652d2c",
   "metadata": {
    "collapsed": false
   },
   "source": [
    "## we can see different details of the csv file by using different functions like tail, head, describe, etc."
   ]
  },
  {
   "cell_type": "code",
   "execution_count": 8,
   "id": "9c2434dc89364e92",
   "metadata": {
    "ExecuteTime": {
     "end_time": "2024-02-02T10:43:57.810556300Z",
     "start_time": "2024-02-02T10:43:57.784965100Z"
    },
    "collapsed": false
   },
   "outputs": [
    {
     "name": "stdout",
     "output_type": "stream",
     "text": [
      "         Date    Status  Amount    Month\n",
      "0  2022-01-01    Active     100  January\n",
      "1  2022-01-01  Inactive     150  January\n",
      "\n",
      "         Date    Status  Amount     Month\n",
      "3  2022-02-01    Active     120  February\n",
      "4  2022-02-01  Inactive      90  February\n",
      "\n",
      "           Amount\n",
      "count    5.000000\n",
      "mean   108.000000\n",
      "std     27.748874\n",
      "min     80.000000\n",
      "25%     90.000000\n",
      "50%    100.000000\n",
      "75%    120.000000\n",
      "max    150.000000\n"
     ]
    }
   ],
   "source": [
    "print(temp.head(2))\n",
    "print()\n",
    "print(temp.tail(2))\n",
    "print()\n",
    "print(temp.describe())"
   ]
  },
  {
   "cell_type": "markdown",
   "id": "acdf8710ff41a0c4",
   "metadata": {
    "collapsed": false
   },
   "source": [
    "## Read Data from CSV Files to Pandas Dataframes\n",
    "+ we can read csv file and create a pandas dataframe using pd.DataFrame() functions which returns a dataframe.\n"
   ]
  },
  {
   "cell_type": "code",
   "execution_count": 9,
   "id": "c159a734aa9c0b34",
   "metadata": {
    "ExecuteTime": {
     "end_time": "2024-02-02T10:46:16.251241500Z",
     "start_time": "2024-02-02T10:46:16.223498100Z"
    },
    "collapsed": false
   },
   "outputs": [
    {
     "name": "stdout",
     "output_type": "stream",
     "text": [
      "         Date    Status  Amount     Month\n",
      "0  2022-01-01    Active     100   January\n",
      "1  2022-01-01  Inactive     150   January\n",
      "2  2022-02-01    Active      80  February\n",
      "3  2022-02-01    Active     120  February\n",
      "4  2022-02-01  Inactive      90  February\n"
     ]
    }
   ],
   "source": [
    "import pandas as pd\n",
    "# using pd.DataFrame to initialize the dataframe from the csv file\n",
    "df1 = pd.DataFrame(temp)\n",
    "print(df1)"
   ]
  },
  {
   "cell_type": "markdown",
   "id": "d514431535c52385",
   "metadata": {
    "collapsed": false
   },
   "source": [
    "## Filter Data in Pandas Dataframe using query.\n",
    "+ Now we will filter the dataframe by passing different conditions to the \n",
    "+ dataframe and get the desired output by using .query() method."
   ]
  },
  {
   "cell_type": "code",
   "execution_count": 12,
   "id": "74a2475fd2b8c7cd",
   "metadata": {
    "ExecuteTime": {
     "end_time": "2024-02-02T10:48:52.952368100Z",
     "start_time": "2024-02-02T10:48:52.889536400Z"
    },
    "collapsed": false
   },
   "outputs": [
    {
     "name": "stdout",
     "output_type": "stream",
     "text": [
      "         Date  Status  Amount    Month\n",
      "0  2022-01-01  Active     100  January\n"
     ]
    }
   ],
   "source": [
    "# Getting all those records where Amount is equal to 100\n",
    "print(df1.query('Amount==100'))"
   ]
  },
  {
   "cell_type": "code",
   "execution_count": 13,
   "id": "69009165908b3719",
   "metadata": {
    "ExecuteTime": {
     "end_time": "2024-02-02T10:49:51.926222Z",
     "start_time": "2024-02-02T10:49:51.781858Z"
    },
    "collapsed": false
   },
   "outputs": [
    {
     "name": "stdout",
     "output_type": "stream",
     "text": [
      "         Date  Status  Amount     Month\n",
      "0  2022-01-01  Active     100   January\n",
      "2  2022-02-01  Active      80  February\n",
      "3  2022-02-01  Active     120  February\n"
     ]
    }
   ],
   "source": [
    "# Getting all those records where Status is equal to \"Active\"\n",
    "print(df1.query('Status==\"Active\"'))"
   ]
  },
  {
   "cell_type": "code",
   "execution_count": 14,
   "id": "31f516ddc87441b1",
   "metadata": {
    "ExecuteTime": {
     "end_time": "2024-02-02T10:50:40.572271600Z",
     "start_time": "2024-02-02T10:50:40.383683400Z"
    },
    "collapsed": false
   },
   "outputs": [
    {
     "name": "stdout",
     "output_type": "stream",
     "text": [
      "         Date    Status  Amount     Month\n",
      "2  2022-02-01    Active      80  February\n",
      "3  2022-02-01    Active     120  February\n",
      "4  2022-02-01  Inactive      90  February\n"
     ]
    }
   ],
   "source": [
    "# Getting all those records where Month is equal \"February\"\n",
    "print(df1.query('Month==\"February\"'))"
   ]
  },
  {
   "cell_type": "code",
   "outputs": [
    {
     "name": "stdout",
     "output_type": "stream",
     "text": [
      "         Date    Status  Amount     Month\n",
      "1  2022-01-01  Inactive     150   January\n",
      "3  2022-02-01    Active     120  February\n"
     ]
    }
   ],
   "source": [
    "# Getting query results with a variable\n",
    "threshold = 100\n",
    "print(df1.query('Amount > @threshold'))"
   ],
   "metadata": {
    "collapsed": false,
    "ExecuteTime": {
     "end_time": "2024-02-02T11:11:22.721086900Z",
     "start_time": "2024-02-02T11:11:22.633971700Z"
    }
   },
   "id": "4d69cd47d12bd28f",
   "execution_count": 21
  },
  {
   "cell_type": "markdown",
   "id": "10b567043d22f6e9",
   "metadata": {
    "collapsed": false
   },
   "source": [
    "## Ques. Execute with one example Lambda Functions in Python.\n",
    "+ Lambda functions are those functions which don't have a name, and they are mainly one-liner functions. \n",
    "+ They are not for any complicated functionality but rather simple tasks which are performed repetitively "
   ]
  },
  {
   "cell_type": "code",
   "execution_count": 16,
   "id": "4b02af5da16f9f36",
   "metadata": {
    "ExecuteTime": {
     "end_time": "2024-02-02T10:58:56.181567800Z",
     "start_time": "2024-02-02T10:58:55.291149900Z"
    },
    "collapsed": false
   },
   "outputs": [
    {
     "name": "stdout",
     "output_type": "stream",
     "text": [
      "True\n",
      "False\n",
      "False\n",
      "21\n",
      "9\n"
     ]
    }
   ],
   "source": [
    "is_even = lambda x: x%2==0\n",
    "is_odd = lambda x: x%2==1\n",
    "get_sum = lambda x,y: x+y\n",
    "get_abs_diff = lambda x,y: abs(x-y)\n",
    "\n",
    "print(is_even(2))\n",
    "print(is_odd(10))\n",
    "print(is_even(11))\n",
    "print(get_sum(10, 11))\n",
    "print(get_abs_diff(1,10))"
   ]
  },
  {
   "cell_type": "markdown",
   "id": "a41f7aa3feecd7ba",
   "metadata": {
    "collapsed": false
   },
   "source": [
    "## Read JSON Strings to Python dicts or lists\n",
    "+ we can read JSON String to Python dicts or list based on our requirements or according to the data.\n",
    "+ we will json module in python to read JSON String and convert them to python list or dicts.\n",
    "+ we will use .loads to converting json string to python dict or list."
   ]
  },
  {
   "cell_type": "code",
   "execution_count": 18,
   "id": "6026caafc82fc268",
   "metadata": {
    "ExecuteTime": {
     "end_time": "2024-02-02T11:04:56.134969Z",
     "start_time": "2024-02-02T11:04:55.987427400Z"
    },
    "collapsed": false
   },
   "outputs": [
    {
     "name": "stdout",
     "output_type": "stream",
     "text": [
      "{'name': 'John', 'age': 25, 'city': 'New York'}\n",
      "John\n"
     ]
    }
   ],
   "source": [
    "# importing the json module\n",
    "import json\n",
    "# this is our example json string\n",
    "temp_str = '{\"name\": \"John\", \"age\": 25, \"city\": \"New York\"}'\n",
    "obj1 = json.loads(temp_str)\n",
    "print(obj1)\n",
    "print(obj1['name'])"
   ]
  },
  {
   "cell_type": "code",
   "execution_count": 20,
   "id": "6f89f7358cc5cdbc",
   "metadata": {
    "ExecuteTime": {
     "end_time": "2024-02-02T11:06:14.358555100Z",
     "start_time": "2024-02-02T11:06:14.335918200Z"
    },
    "collapsed": false
   },
   "outputs": [
    {
     "name": "stdout",
     "output_type": "stream",
     "text": [
      "[{'name': 'John', 'age': 25}, {'name': 'Alice', 'age': 30}]\n",
      "{'name': 'John', 'age': 25}\n",
      "Alice\n"
     ]
    }
   ],
   "source": [
    "# This is our example python json list string\n",
    "json_array_string = '[{\"name\": \"John\", \"age\": 25}, {\"name\": \"Alice\", \"age\": 30}]'\n",
    "python_list = json.loads(json_array_string)\n",
    "print(python_list)\n",
    "print(python_list[0])\n",
    "print(python_list[1]['name'])"
   ]
  }
 ],
 "metadata": {
  "kernelspec": {
   "display_name": "Python 3 (ipykernel)",
   "language": "python",
   "name": "python3"
  },
  "language_info": {
   "codemirror_mode": {
    "name": "ipython",
    "version": 3
   },
   "file_extension": ".py",
   "mimetype": "text/x-python",
   "name": "python",
   "nbconvert_exporter": "python",
   "pygments_lexer": "ipython3",
   "version": "3.8.18"
  }
 },
 "nbformat": 4,
 "nbformat_minor": 5
}
